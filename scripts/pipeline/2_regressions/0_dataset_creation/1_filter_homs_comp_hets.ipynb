{
 "cells": [
  {
   "cell_type": "code",
   "execution_count": 23,
   "metadata": {},
   "outputs": [],
   "source": [
    "import glob\n",
    "\n",
    "s_het_paths = {\n",
    "    'Weghorn-drift': \".../450k/selection_weghorn/weghorn_drift_gencode-v34.txt\",\n",
    "    'Cassa': \".../450k/selection_cassa/cassa_supp_table_1_gencode-v34.txt\",\n",
    "    'PLI': \".../450k/selection_pli/gnomad.v2.1.1.PLI_gencode-v34.txt\", \n",
    "    \"Roulette\": \".../450k/selection_roulette/s_het_roulette_gencode-v34.csv\",\n",
    "}\n",
    "\n",
    "#_____________________________________________________________________________________________________________________________\n",
    "# plps paths\n",
    "variants_paths_cfg = {\n",
    "    'recessive' : {\n",
    "        'cohort_files': glob.glob(\".../450k/RAP_output_per_chr/filtered_plps/basic/new_gene_names/new_freq/new_relatedness/chr*\"), \n",
    "        'all_variants_file': \".../450k/plp_selection/basic/new_gene_names/new_freq/new_relatedness/all_chr_total_presumable_plps_HFE_final_sorted.txt\"\n",
    "    },\n",
    "    'lof': {\n",
    "        'cohort_files': glob.glob(f\".../data_450k/sample_lofs/*.normed.csv\"),\n",
    "        'all_variants_file': \".../data_450k/annotations/all_singetones_annotated.csv\"\n",
    "    },\n",
    "}\n",
    "\n",
    "# samples of interest: European & non-related\n",
    "european_non_rel_samples = (\n",
    "    \".../450k/samples/european_non_related_no_withdrawal_to_include_450k.txt\"\n",
    ")\n"
   ]
  },
  {
   "cell_type": "code",
   "execution_count": 3,
   "metadata": {},
   "outputs": [],
   "source": [
    "from ukbb_recessive.data_collection.variants import VariantFeatures\n",
    "\n",
    "variant_features = VariantFeatures()"
   ]
  },
  {
   "cell_type": "code",
   "execution_count": 4,
   "metadata": {},
   "outputs": [
    {
     "name": "stdout",
     "output_type": "stream",
     "text": [
      "\n",
      "Entering `collect_rare_plps` function...\n",
      "Initial total numbers of PLPs: 54758\n",
      "Total numbers rare PLPs using <treshold=100000>: 54758\n",
      "Function `collect_rare_plps` finished.\n",
      "\n"
     ]
    }
   ],
   "source": [
    "# select rare PLPs\n",
    "rare_plps = variant_features.collect_rare_plps(het_occurence_threshold=100000,\n",
    "                                               hom_occurence_threshold=100000,\n",
    "                                                all_plps_file=variants_paths_cfg['recessive']['all_variants_file'],\n",
    "                                                s_het_file=s_het_paths['Roulette'],\n",
    "                                                genes_list=None)"
   ]
  },
  {
   "cell_type": "code",
   "execution_count": 5,
   "metadata": {},
   "outputs": [
    {
     "name": "stdout",
     "output_type": "stream",
     "text": [
      "All PLPs in the cohort: 764216\n",
      "Total numbers of PLP variants in cohort: 764216\n"
     ]
    }
   ],
   "source": [
    "# read cohort PLPs\n",
    "cohort_plps = variant_features.read_sample_plps(variants_paths_cfg['recessive']['cohort_files'], filter_homozygous=False)\n",
    "print(f\"Total numbers of PLP variants in cohort: {cohort_plps.shape[0]}\")"
   ]
  },
  {
   "cell_type": "code",
   "execution_count": 6,
   "metadata": {},
   "outputs": [
    {
     "name": "stdout",
     "output_type": "stream",
     "text": [
      "Total numbers of rare PLP variants in cohort: 764216\n"
     ]
    }
   ],
   "source": [
    "# filter rare PLPs in cohort\n",
    "plps = cohort_plps.merge(rare_plps).drop_duplicates()\n",
    "print(f\"Total numbers of rare PLP variants in cohort: {plps.shape[0]}\")"
   ]
  },
  {
   "cell_type": "code",
   "execution_count": 18,
   "metadata": {},
   "outputs": [
    {
     "name": "stdout",
     "output_type": "stream",
     "text": [
      "Number of samples with hom variant: 3001\n"
     ]
    }
   ],
   "source": [
    "hom_samples = plps[plps['GT'] == '1/1']['s'].unique().tolist()\n",
    "\n",
    "print (\"Number of samples with hom variant:\", len(hom_samples))"
   ]
  },
  {
   "cell_type": "code",
   "execution_count": 19,
   "metadata": {},
   "outputs": [
    {
     "name": "stdout",
     "output_type": "stream",
     "text": [
      "Number of samples with more than 1 PLP variant: 2287\n"
     ]
    }
   ],
   "source": [
    "plps_gene = plps[plps['GT'] != '1/1'].groupby(['s', 'gene'])[['pos']].agg('count').reset_index()\n",
    "\n",
    "comp_het_samples = plps_gene[plps_gene['pos'] > 1]['s'].astype(str).unique().tolist()\n",
    "\n",
    "print (f\"Number of samples with more than 1 PLP variant: {len(comp_het_samples)}\")"
   ]
  },
  {
   "cell_type": "code",
   "execution_count": 22,
   "metadata": {},
   "outputs": [
    {
     "name": "stdout",
     "output_type": "stream",
     "text": [
      "Number of samples to delete: 5288\n"
     ]
    }
   ],
   "source": [
    "total_samples = list(set(hom_samples + comp_het_samples))\n",
    "\n",
    "print (\"Number of samples to delete:\", len(total_samples))"
   ]
  },
  {
   "cell_type": "code",
   "execution_count": 24,
   "metadata": {},
   "outputs": [
    {
     "name": "stdout",
     "output_type": "stream",
     "text": [
      "Number of european non-related samples: 378751\n",
      "Number of european non-related samples without comp-het/hom cases: 376608\n"
     ]
    }
   ],
   "source": [
    "with open(european_non_rel_samples, 'r') as f:\n",
    "    european_non_rel_samples = [l.strip() for l in f.readlines()]\n",
    "\n",
    "print (f\"Number of european non-related samples: {len(european_non_rel_samples)}\")\n",
    "\n",
    "european_non_rel_samples = [s for s in european_non_rel_samples if s not in total_samples]\n",
    "print (f\"Number of european non-related samples without comp-het/hom cases: {len(european_non_rel_samples)}\")"
   ]
  },
  {
   "cell_type": "code",
   "execution_count": 26,
   "metadata": {},
   "outputs": [],
   "source": [
    "with open(\".../450k/samples/european_non_related_no_withdrawal_to_include_450k.no_hom_comp_het.txt\", 'w') as f:\n",
    "    f.write('\\n'.join(european_non_rel_samples) + '\\n')"
   ]
  },
  {
   "cell_type": "code",
   "execution_count": 27,
   "metadata": {},
   "outputs": [
    {
     "name": "stdout",
     "output_type": "stream",
     "text": [
      "378751 .../450k/samples/european_non_related_no_withdrawal_to_include_450k.txt\n"
     ]
    }
   ],
   "source": [
    "! wc -l .../450k/samples/european_non_related_no_withdrawal_to_include_450k.txt"
   ]
  },
  {
   "cell_type": "code",
   "execution_count": 28,
   "metadata": {},
   "outputs": [
    {
     "name": "stdout",
     "output_type": "stream",
     "text": [
      "376608 .../450k/samples/european_non_related_no_withdrawal_to_include_450k.no_hom_comp_het.txt\n"
     ]
    }
   ],
   "source": [
    "! wc -l .../450k/samples/european_non_related_no_withdrawal_to_include_450k.no_hom_comp_het.txt"
   ]
  },
  {
   "cell_type": "code",
   "execution_count": null,
   "metadata": {},
   "outputs": [],
   "source": []
  }
 ],
 "metadata": {
  "kernelspec": {
   "display_name": "ukbb_recessive",
   "language": "python",
   "name": "python3"
  },
  "language_info": {
   "codemirror_mode": {
    "name": "ipython",
    "version": 3
   },
   "file_extension": ".py",
   "mimetype": "text/x-python",
   "name": "python",
   "nbconvert_exporter": "python",
   "pygments_lexer": "ipython3",
   "version": "3.12.2"
  }
 },
 "nbformat": 4,
 "nbformat_minor": 2
}
