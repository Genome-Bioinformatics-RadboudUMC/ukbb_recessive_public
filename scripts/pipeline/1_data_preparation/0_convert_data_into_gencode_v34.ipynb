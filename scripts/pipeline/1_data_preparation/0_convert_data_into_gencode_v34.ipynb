{
 "cells": [
  {
   "cell_type": "markdown",
   "metadata": {},
   "source": [
    "This notebook contains the code used for the conversion of all gene names used throughout the pipeline to Gencode v.34. \n",
    "\n",
    "We convert: \n",
    "\n",
    "1. List of recessive genes\n",
    "\n",
    "2. s-hets from Cassa et al.\n",
    "\n",
    "3. s-hets from Weghorn et al. \n",
    "\n",
    "4. pLI from gnomad\n",
    "\n",
    "5. Roulette "
   ]
  },
  {
   "cell_type": "code",
   "execution_count": 1,
   "metadata": {},
   "outputs": [],
   "source": [
    "import pandas as pd\n",
    "from pybiomart import Dataset"
   ]
  },
  {
   "cell_type": "code",
   "execution_count": 2,
   "metadata": {},
   "outputs": [],
   "source": [
    "def get_gencode_v34_HGNC_genes():\n",
    "    \"\"\"\n",
    "        This function dowloads gene name and its HGNC id as specified in gencode v.34\n",
    "    \"\"\"\n",
    "    # load inhouse\n",
    "\n",
    "    inhouse = pd.read_csv(\"https://ftp.ebi.ac.uk/pub/databases/gencode/Gencode_human/release_34/gencode.v34.metadata.HGNC.gz\", \n",
    "                          compression='gzip', sep='\\t', header=None)\n",
    "    inhouse.columns = ['Ensembl ID', 'gene', 'HGNC ID']\n",
    "\n",
    "    inhouse = inhouse[['gene', 'HGNC ID']].drop_duplicates().dropna()\n",
    "\n",
    "    # edit NGNC field to have the same format as in GRCh37\n",
    "    inhouse['HGNC ID'] = inhouse['HGNC ID'].apply(\n",
    "        lambda x: x.replace('HGNC:', '') if x else x).astype(float) \n",
    "\n",
    "    return inhouse\n",
    "\n",
    "def get_grch37_inhouse_map():\n",
    "    \"\"\"\n",
    "        This function creates the mapping from GRCh37 gene names from ensembl into gencode v.34\n",
    "        using HGNC-id as key\n",
    "    \"\"\"\n",
    "\n",
    "    # load GRCh37\n",
    "    dataset = Dataset(name='hsapiens_gene_ensembl',  host='http://grch37.ensembl.org')\n",
    "    # attributes = dataset.list_attributes() -- look into attributes\n",
    "\n",
    "    hg37_table = dataset.query(\n",
    "        attributes=['hgnc_id','chromosome_name', 'hgnc_symbol'])\n",
    "\n",
    "    # drop scaffolds not mapped to chromosomes\n",
    "    hg37_table = hg37_table[~hg37_table['Chromosome/scaffold name'].apply(\n",
    "        lambda x: x.startswith('CHR_') or 'H' in x or x.startswith('GL'))]\n",
    "\n",
    "    # leave only mapping information\n",
    "    hg37_table = hg37_table[['HGNC ID', 'HGNC symbol', 'Chromosome/scaffold name']].dropna().drop_duplicates()\n",
    "\n",
    "    \n",
    "    inhouse = get_gencode_v34_HGNC_genes()[['gene', 'HGNC ID']]\n",
    "    \n",
    "    mapping = hg37_table.rename(columns={'HGNC symbol': 'gene_grch37'}).merge(inhouse,  how='outer', on='HGNC ID')\n",
    "\n",
    "    return mapping\n",
    "\n",
    "\n",
    "def get_grch38_inhouse_map():\n",
    "    \"\"\"\n",
    "        This function creates the mapping from GRCh37 gene names from ensembl into gencode v.34\n",
    "        using HGNC-id as key\n",
    "    \"\"\"\n",
    "\n",
    "    # load GRCh38\n",
    "    dataset = Dataset(name='hsapiens_gene_ensembl',  host='http://ensembl.org')\n",
    "    # attributes = dataset.list_attributes() -- look into attributes\n",
    "\n",
    "    hg38_table = dataset.query(\n",
    "        attributes=['hgnc_id','chromosome_name', 'hgnc_symbol'])\n",
    "\n",
    "    # drop scaffolds not mapped to chromosomes\n",
    "    hg38_table = hg38_table[~hg38_table['Chromosome/scaffold name'].apply(\n",
    "        lambda x: x.startswith('CHR_') or 'H' in x or x.startswith('GL'))]\n",
    "\n",
    "    # leave only mapping information\n",
    "    hg38_table = hg38_table[['HGNC ID', 'HGNC symbol', 'Chromosome/scaffold name']].dropna().drop_duplicates()\n",
    "    hg38_table['HGNC ID'] = hg38_table['HGNC ID'].apply(lambda x: x.replace('HGNC:', '') if x else x).astype(float)\n",
    "\n",
    "    inhouse = get_gencode_v34_HGNC_genes()[['gene', 'HGNC ID']]\n",
    "    \n",
    "    mapping = hg38_table.rename(columns={'HGNC symbol': 'gene_grch38'}).merge(inhouse,  how='outer', on='HGNC ID')\n",
    "\n",
    "    return mapping"
   ]
  },
  {
   "cell_type": "markdown",
   "metadata": {},
   "source": [
    "All of the filters follows the same procedure:\n",
    "\n",
    "1. Create mapping of `GRCh37` gene names from ensembl into `gencode v.34`\n",
    "\n",
    "2. Read data of interest, that contains gene names in some format \n",
    "\n",
    "3. Identify genes from the previous step, that are not in `gencode v.34`\n",
    "\n",
    "4. Create corretion map from genes in `step 3` to `gencode v.34` where possible by using mapping from `step 1`\n",
    "\n",
    "5. Apply this correction map to our data of interest\n",
    "    "
   ]
  },
  {
   "attachments": {},
   "cell_type": "markdown",
   "metadata": {},
   "source": [
    "# Gene panels"
   ]
  },
  {
   "cell_type": "code",
   "execution_count": 53,
   "metadata": {},
   "outputs": [
    {
     "name": "stdout",
     "output_type": "stream",
     "text": [
      "Number of genes: 1929\n"
     ]
    }
   ],
   "source": [
    "# read original gene panel\n",
    "\n",
    "gene_panels = pd.read_csv(\".../450k/regions/gene-panel.txt\", header=None)\n",
    "gene_panels.columns = ['Gene name', 'panel']\n",
    "\n",
    "print (\"Number of genes:\", gene_panels.shape[0])"
   ]
  },
  {
   "cell_type": "code",
   "execution_count": 54,
   "metadata": {},
   "outputs": [
    {
     "name": "stdout",
     "output_type": "stream",
     "text": [
      "Number of genes not in gencode_34: 29\n",
      "Number of genes not in gencode_34, that found in GRCh37 : 28\n",
      "Full correction dictionary: 29\n",
      "Number of genes not in gencode_34: 0\n"
     ]
    }
   ],
   "source": [
    "# GRCh37 to gencode v.34 mapping\n",
    "grch37_gencode_v34 = get_grch37_inhouse_map()\n",
    "gencode_v34_genes = set(grch37_gencode_v34['gene'].dropna().tolist())\n",
    "\n",
    "grch37_gencode_v34 = grch37_gencode_v34.dropna()\n",
    "\n",
    "# get genes not in gencode v.34 format\n",
    "wrong_format_genes = gene_panels.loc[~gene_panels['Gene name'].isin(gencode_v34_genes), 'Gene name'].tolist()\n",
    "\n",
    "# get a dict for correction\n",
    "correcting_map = grch37_gencode_v34[grch37_gencode_v34['gene_grch37'].isin(wrong_format_genes)][['gene_grch37', 'gene']]\n",
    "correcting_map = correcting_map.set_index('gene_grch37').to_dict()['gene']\n",
    "\n",
    "# print information\n",
    "print (\"Number of genes not in gencode_34:\", len(wrong_format_genes))\n",
    "print (\"Number of genes not in gencode_34, that found in GRCh37 :\", len(correcting_map))\n",
    "\n",
    "# manual add a missing case\n",
    "correcting_map['KIF1BP'] = 'KIFBP'\n",
    "\n",
    "print (\"Full correction dictionary:\", len(correcting_map))\n",
    "\n",
    "# correct gene panels\n",
    "gene_panels ['Gene name'] = gene_panels['Gene name'].apply(lambda x: correcting_map.get(x, x))\n",
    "\n",
    "print (\"Number of genes not in gencode_34:\", sum(~gene_panels['Gene name'].isin(gencode_v34_genes)))\n",
    "\n",
    "# # save dataset\n",
    "gene_panels.to_csv(\".../450k/regions/gene-panel-gencode-v34.txt\", header=False, index=False, sep=',')\n"
   ]
  },
  {
   "cell_type": "code",
   "execution_count": 55,
   "metadata": {},
   "outputs": [
    {
     "name": "stdout",
     "output_type": "stream",
     "text": [
      "ADAT3,ID-total\n",
      "AIMP2,ID-total\n",
      "ANKLE2,ID-total\n"
     ]
    }
   ],
   "source": [
    "! head -3 .../450k/regions/gene-panel-gencode-v34.txt"
   ]
  },
  {
   "attachments": {},
   "cell_type": "markdown",
   "metadata": {},
   "source": [
    "# S_hets"
   ]
  },
  {
   "attachments": {},
   "cell_type": "markdown",
   "metadata": {},
   "source": [
    "## Cassa"
   ]
  },
  {
   "cell_type": "code",
   "execution_count": 3,
   "metadata": {},
   "outputs": [
    {
     "name": "stdout",
     "output_type": "stream",
     "text": [
      "Number of genes: 15998\n"
     ]
    },
    {
     "data": {
      "text/html": [
       "<div>\n",
       "<style scoped>\n",
       "    .dataframe tbody tr th:only-of-type {\n",
       "        vertical-align: middle;\n",
       "    }\n",
       "\n",
       "    .dataframe tbody tr th {\n",
       "        vertical-align: top;\n",
       "    }\n",
       "\n",
       "    .dataframe thead th {\n",
       "        text-align: right;\n",
       "    }\n",
       "</style>\n",
       "<table border=\"1\" class=\"dataframe\">\n",
       "  <thead>\n",
       "    <tr style=\"text-align: right;\">\n",
       "      <th></th>\n",
       "      <th>gene_symbol</th>\n",
       "      <th>s_het</th>\n",
       "    </tr>\n",
       "  </thead>\n",
       "  <tbody>\n",
       "    <tr>\n",
       "      <th>0</th>\n",
       "      <td>A1BG</td>\n",
       "      <td>0.006794</td>\n",
       "    </tr>\n",
       "    <tr>\n",
       "      <th>1</th>\n",
       "      <td>A1CF</td>\n",
       "      <td>0.022313</td>\n",
       "    </tr>\n",
       "    <tr>\n",
       "      <th>2</th>\n",
       "      <td>A2M</td>\n",
       "      <td>0.013186</td>\n",
       "    </tr>\n",
       "  </tbody>\n",
       "</table>\n",
       "</div>"
      ],
      "text/plain": [
       "  gene_symbol     s_het\n",
       "0        A1BG  0.006794\n",
       "1        A1CF  0.022313\n",
       "2         A2M  0.013186"
      ]
     },
     "execution_count": 3,
     "metadata": {},
     "output_type": "execute_result"
    }
   ],
   "source": [
    "cassa = pd.read_csv(\".../450k/selection_cassa/cassa_supp_table_1.txt\", sep='\\t').drop_duplicates().dropna()\n",
    "print (\"Number of genes:\", cassa.shape[0])\n",
    "\n",
    "cassa.head(3)"
   ]
  },
  {
   "cell_type": "code",
   "execution_count": 4,
   "metadata": {},
   "outputs": [
    {
     "name": "stdout",
     "output_type": "stream",
     "text": [
      "Genes in panel before correction: 1929\n",
      "Genes in cassa before correction 1725\n"
     ]
    }
   ],
   "source": [
    "gene_panels = pd.read_csv(\".../450k/regions/gene-panel.txt\", header=None)\n",
    "gene_panels = set(gene_panels[0].tolist())\n",
    "\n",
    "print (\"Genes in panel before correction:\", len(gene_panels))\n",
    "print (\"Genes in cassa before correction\", sum(cassa['gene_symbol'].isin(gene_panels)))"
   ]
  },
  {
   "cell_type": "code",
   "execution_count": 5,
   "metadata": {},
   "outputs": [
    {
     "name": "stdout",
     "output_type": "stream",
     "text": [
      "Number of genes not in gencode_34: 890\n",
      "Number of genes not in gencode_34, that found in GRCh37 : 782\n",
      "Number of genes not in gencode_34: 108\n"
     ]
    }
   ],
   "source": [
    "# GRCh37 to gencode v.34 mapping\n",
    "grch37_gencode_v34 = get_grch37_inhouse_map()\n",
    "gencode_v34_genes = set(grch37_gencode_v34['gene'].dropna().tolist())\n",
    "grch37_gencode_v34 = grch37_gencode_v34.dropna()\n",
    "\n",
    "# get genes not in gencode v.34 format\n",
    "wrong_format_genes = cassa.loc[~cassa['gene_symbol'].isin(gencode_v34_genes), 'gene_symbol'].tolist()\n",
    "\n",
    "# get a dict for correction\n",
    "correcting_map = grch37_gencode_v34[grch37_gencode_v34['gene_grch37'].isin(wrong_format_genes)][['gene_grch37', 'gene']]\n",
    "correcting_map = correcting_map.set_index('gene_grch37').to_dict()['gene']\n",
    "\n",
    "# print information\n",
    "print (\"Number of genes not in gencode_34:\", len(wrong_format_genes))\n",
    "print (\"Number of genes not in gencode_34, that found in GRCh37 :\", len(correcting_map))\n",
    "\n",
    "# correct gene panels\n",
    "cassa['gene_symbol'] = cassa['gene_symbol'].apply(lambda x: correcting_map.get(x, x))\n",
    "\n",
    "print (\"Number of genes not in gencode_34:\", sum(~cassa['gene_symbol'].isin(gencode_v34_genes)))\n",
    "\n",
    "# save dataset\n",
    "cassa.to_csv(\".../450k/selection_cassa/cassa_supp_table_1_gencode-v34.txt\", index=False, sep='\\t')"
   ]
  },
  {
   "cell_type": "code",
   "execution_count": 6,
   "metadata": {},
   "outputs": [
    {
     "name": "stdout",
     "output_type": "stream",
     "text": [
      "Genes in panel after correction: 1929\n",
      "Genes in cassa after correction 1761\n"
     ]
    }
   ],
   "source": [
    "gene_panels = pd.read_csv(\".../450k/regions/gene-panel-gencode-v34.txt\", header=None)\n",
    "gene_panels = set(gene_panels[0].tolist())\n",
    "\n",
    "print (\"Genes in panel after correction:\", len(gene_panels))\n",
    "print (\"Genes in cassa after correction\", sum(cassa['gene_symbol'].isin(gene_panels)))"
   ]
  },
  {
   "attachments": {},
   "cell_type": "markdown",
   "metadata": {},
   "source": [
    "## Weghorn"
   ]
  },
  {
   "cell_type": "code",
   "execution_count": 67,
   "metadata": {},
   "outputs": [
    {
     "name": "stdout",
     "output_type": "stream",
     "text": [
      "Number of genes: 16279\n"
     ]
    },
    {
     "data": {
      "text/html": [
       "<div>\n",
       "<style scoped>\n",
       "    .dataframe tbody tr th:only-of-type {\n",
       "        vertical-align: middle;\n",
       "    }\n",
       "\n",
       "    .dataframe tbody tr th {\n",
       "        vertical-align: top;\n",
       "    }\n",
       "\n",
       "    .dataframe thead th {\n",
       "        text-align: right;\n",
       "    }\n",
       "</style>\n",
       "<table border=\"1\" class=\"dataframe\">\n",
       "  <thead>\n",
       "    <tr style=\"text-align: right;\">\n",
       "      <th></th>\n",
       "      <th>Gene</th>\n",
       "      <th>U</th>\n",
       "      <th>n_NFE</th>\n",
       "      <th>k_NFE</th>\n",
       "      <th>s_het_det</th>\n",
       "      <th>low_det</th>\n",
       "      <th>up_det</th>\n",
       "      <th>s_het_drift</th>\n",
       "      <th>low_drift</th>\n",
       "      <th>up_drift</th>\n",
       "    </tr>\n",
       "  </thead>\n",
       "  <tbody>\n",
       "    <tr>\n",
       "      <th>0</th>\n",
       "      <td>A1BG</td>\n",
       "      <td>0.000001</td>\n",
       "      <td>57612.7500</td>\n",
       "      <td>2</td>\n",
       "      <td>0.039562</td>\n",
       "      <td>0.010</td>\n",
       "      <td>0.136</td>\n",
       "      <td>0.028927</td>\n",
       "      <td>0.000889</td>\n",
       "      <td>0.281171</td>\n",
       "    </tr>\n",
       "    <tr>\n",
       "      <th>1</th>\n",
       "      <td>A1CF</td>\n",
       "      <td>0.000002</td>\n",
       "      <td>66258.5714</td>\n",
       "      <td>7</td>\n",
       "      <td>0.020096</td>\n",
       "      <td>0.010</td>\n",
       "      <td>0.041</td>\n",
       "      <td>0.013627</td>\n",
       "      <td>0.000889</td>\n",
       "      <td>0.088914</td>\n",
       "    </tr>\n",
       "    <tr>\n",
       "      <th>2</th>\n",
       "      <td>A2M</td>\n",
       "      <td>0.000004</td>\n",
       "      <td>55288.7500</td>\n",
       "      <td>19</td>\n",
       "      <td>0.012169</td>\n",
       "      <td>0.008</td>\n",
       "      <td>0.019</td>\n",
       "      <td>0.009977</td>\n",
       "      <td>0.000889</td>\n",
       "      <td>0.028117</td>\n",
       "    </tr>\n",
       "  </tbody>\n",
       "</table>\n",
       "</div>"
      ],
      "text/plain": [
       "   Gene         U       n_NFE  k_NFE  s_het_det  low_det  up_det  s_het_drift  \\\n",
       "0  A1BG  0.000001  57612.7500      2   0.039562    0.010   0.136     0.028927   \n",
       "1  A1CF  0.000002  66258.5714      7   0.020096    0.010   0.041     0.013627   \n",
       "2   A2M  0.000004  55288.7500     19   0.012169    0.008   0.019     0.009977   \n",
       "\n",
       "   low_drift  up_drift  \n",
       "0   0.000889  0.281171  \n",
       "1   0.000889  0.088914  \n",
       "2   0.000889  0.028117  "
      ]
     },
     "execution_count": 67,
     "metadata": {},
     "output_type": "execute_result"
    }
   ],
   "source": [
    "weghorn = pd.read_csv(\".../450k/selection_weghorn/weghorn_supp_table1.txt\", sep='\\t')\n",
    "print (\"Number of genes:\", weghorn.shape[0])\n",
    "\n",
    "weghorn.head(3)"
   ]
  },
  {
   "cell_type": "code",
   "execution_count": 68,
   "metadata": {},
   "outputs": [
    {
     "name": "stdout",
     "output_type": "stream",
     "text": [
      "Genes in panel before correction: 1929\n",
      "Genes in weghorn before correction 1727\n"
     ]
    }
   ],
   "source": [
    "gene_panels = pd.read_csv(\".../450k/regions/gene-panel.txt\", header=None)\n",
    "gene_panels = set(gene_panels[0].tolist())\n",
    "\n",
    "print (\"Genes in panel before correction:\", len(gene_panels))\n",
    "print (\"Genes in weghorn before correction\", sum(weghorn['Gene'].isin(gene_panels)))"
   ]
  },
  {
   "cell_type": "code",
   "execution_count": 69,
   "metadata": {},
   "outputs": [
    {
     "name": "stdout",
     "output_type": "stream",
     "text": [
      "Number of genes not in gencode_34: 904\n",
      "Number of genes not in gencode_34, that found in GRCh37 : 796\n",
      "Number of genes not in gencode_34: 108\n"
     ]
    }
   ],
   "source": [
    "# GRCh37 to gencode v.34 mapping\n",
    "grch37_gencode_v34 = get_grch37_inhouse_map()\n",
    "gencode_v34_genes = set(grch37_gencode_v34['gene'].dropna().tolist())\n",
    "grch37_gencode_v34 = grch37_gencode_v34.dropna()\n",
    "\n",
    "\n",
    "# get genes not in gencode v.34 format\n",
    "wrong_format_genes = weghorn.loc[~weghorn['Gene'].isin(gencode_v34_genes), 'Gene'].tolist()\n",
    "\n",
    "# get a dict for correction\n",
    "correcting_map = grch37_gencode_v34[grch37_gencode_v34['gene_grch37'].isin(wrong_format_genes)][['gene_grch37', 'gene']]\n",
    "correcting_map = correcting_map.set_index('gene_grch37').to_dict()['gene']\n",
    "\n",
    "# print information\n",
    "print (\"Number of genes not in gencode_34:\", len(wrong_format_genes))\n",
    "print (\"Number of genes not in gencode_34, that found in GRCh37 :\", len(correcting_map))\n",
    "\n",
    "# correct gene panels\n",
    "weghorn['Gene'] = weghorn['Gene'].apply(lambda x: correcting_map.get(x, x))\n",
    "\n",
    "print (\"Number of genes not in gencode_34:\", sum(~weghorn['Gene'].isin(gencode_v34_genes)))\n",
    "\n",
    "# save dataset\n",
    "weghorn.to_csv(\".../450k/selection_weghorn/weghorn_supp_table1_gencode-v34.txt\", index=False, sep='\\t')\n"
   ]
  },
  {
   "cell_type": "code",
   "execution_count": 70,
   "metadata": {},
   "outputs": [
    {
     "name": "stdout",
     "output_type": "stream",
     "text": [
      "Genes in panel after correction: 1929\n",
      "Genes in weghorn after correction 1763\n"
     ]
    }
   ],
   "source": [
    "gene_panels = pd.read_csv(\".../450k/regions/gene-panel-gencode-v34.txt\", header=None)\n",
    "gene_panels = set(gene_panels[0].tolist())\n",
    "\n",
    "print (\"Genes in panel after correction:\", len(gene_panels))\n",
    "print (\"Genes in weghorn after correction\", sum(weghorn['Gene'].isin(gene_panels)))"
   ]
  },
  {
   "cell_type": "code",
   "execution_count": 71,
   "metadata": {},
   "outputs": [],
   "source": [
    "# save weghorn in a nice way\n",
    "weghorn = pd.read_csv(\".../450k/selection_weghorn/weghorn_supp_table1_gencode-v34.txt\", sep='\\t')\n",
    "\n",
    "# mut-sel balance modenl and drift\n",
    "weghorn_det = weghorn[['Gene', 's_het_det']].copy()\n",
    "weghorn_drift = weghorn[['Gene', 's_het_drift']].copy()\n",
    "\n",
    "# rename columns\n",
    "weghorn_det.columns = ['gene_symbol', 's_het']\n",
    "weghorn_drift.columns = ['gene_symbol', 's_het']\n",
    "\n",
    "# save\n",
    "weghorn_det.to_csv(\".../450k/selection_weghorn/weghorn_det_gencode-v34.txt\", sep='\\t', index=False)\n",
    "weghorn_drift.to_csv(\".../450k/selection_weghorn/weghorn_drift_gencode-v34.txt\", sep='\\t', index=False)"
   ]
  },
  {
   "attachments": {},
   "cell_type": "markdown",
   "metadata": {},
   "source": [
    "## PLI"
   ]
  },
  {
   "cell_type": "code",
   "execution_count": 1,
   "metadata": {},
   "outputs": [
    {
     "name": "stdout",
     "output_type": "stream",
     "text": [
      "--2023-06-05 15:53:12--  https://storage.googleapis.com/gcp-public-data--gnomad/release/2.1.1/constraint/gnomad.v2.1.1.lof_metrics.by_gene.txt.bgz\n",
      "Resolving storage.googleapis.com (storage.googleapis.com)... 142.250.179.144, 142.250.179.208, 142.251.36.16, ...\n",
      "Connecting to storage.googleapis.com (storage.googleapis.com)|142.250.179.144|:443... connected.\n",
      "HTTP request sent, awaiting response... 200 OK\n",
      "Length: 4609488 (4.4M) [application/octet-stream]\n",
      "Saving to: ‘gnomad.v2.1.1.lof_metrics.by_gene.txt.bgz’\n",
      "\n",
      "100%[======================================>] 4,609,488   --.-K/s   in 0.08s   \n",
      "\n",
      "2023-06-05 15:53:12 (54.3 MB/s) - ‘gnomad.v2.1.1.lof_metrics.by_gene.txt.bgz’ saved [4609488/4609488]\n",
      "\n"
     ]
    }
   ],
   "source": [
    "! wget https://storage.googleapis.com/gcp-public-data--gnomad/release/2.1.1/constraint/gnomad.v2.1.1.lof_metrics.by_gene.txt.bgz\n",
    "! mv ./gnomad.v2.1.1.lof_metrics.by_gene.txt.bgz .../450k/selection_pli/gnomad.v2.1.1.lof_metrics.by_gene.txt.bgz "
   ]
  },
  {
   "cell_type": "code",
   "execution_count": 72,
   "metadata": {},
   "outputs": [
    {
     "data": {
      "text/html": [
       "<div>\n",
       "<style scoped>\n",
       "    .dataframe tbody tr th:only-of-type {\n",
       "        vertical-align: middle;\n",
       "    }\n",
       "\n",
       "    .dataframe tbody tr th {\n",
       "        vertical-align: top;\n",
       "    }\n",
       "\n",
       "    .dataframe thead th {\n",
       "        text-align: right;\n",
       "    }\n",
       "</style>\n",
       "<table border=\"1\" class=\"dataframe\">\n",
       "  <thead>\n",
       "    <tr style=\"text-align: right;\">\n",
       "      <th></th>\n",
       "      <th>gene_symbol</th>\n",
       "      <th>s_het</th>\n",
       "    </tr>\n",
       "  </thead>\n",
       "  <tbody>\n",
       "    <tr>\n",
       "      <th>0</th>\n",
       "      <td>MED13</td>\n",
       "      <td>1.0</td>\n",
       "    </tr>\n",
       "    <tr>\n",
       "      <th>1</th>\n",
       "      <td>NIPBL</td>\n",
       "      <td>1.0</td>\n",
       "    </tr>\n",
       "    <tr>\n",
       "      <th>2</th>\n",
       "      <td>SMC3</td>\n",
       "      <td>1.0</td>\n",
       "    </tr>\n",
       "  </tbody>\n",
       "</table>\n",
       "</div>"
      ],
      "text/plain": [
       "  gene_symbol  s_het\n",
       "0       MED13    1.0\n",
       "1       NIPBL    1.0\n",
       "2        SMC3    1.0"
      ]
     },
     "execution_count": 72,
     "metadata": {},
     "output_type": "execute_result"
    }
   ],
   "source": [
    "gnomad_filepath = '.../450k/selection_pli/gnomad.v2.1.1.lof_metrics.by_gene.txt.bgz'\n",
    "\n",
    "gnomad = pd.read_csv(gnomad_filepath, compression='gzip', sep='\\t')\n",
    "\n",
    "gnomad = gnomad[['gene', 'pLI']]\n",
    "gnomad = gnomad[~gnomad['pLI'].isnull()]\n",
    "gnomad.columns = ['gene_symbol', 's_het']\n",
    "\n",
    "gnomad.head(3)"
   ]
  },
  {
   "cell_type": "code",
   "execution_count": 73,
   "metadata": {},
   "outputs": [
    {
     "name": "stdout",
     "output_type": "stream",
     "text": [
      "Genes in panel before correction: 1929\n",
      "Genes in gnomAD before correction 1884\n"
     ]
    }
   ],
   "source": [
    "gene_panels = pd.read_csv(\".../450k/regions/gene-panel.txt\", header=None)\n",
    "gene_panels = set(gene_panels[0].tolist())\n",
    "\n",
    "print (\"Genes in panel before correction:\", len(gene_panels))\n",
    "print (\"Genes in gnomAD before correction\", sum(gnomad['gene_symbol'].isin(gene_panels)))"
   ]
  },
  {
   "cell_type": "code",
   "execution_count": 74,
   "metadata": {},
   "outputs": [
    {
     "name": "stdout",
     "output_type": "stream",
     "text": [
      "Number of genes not in gencode_34: 1571\n",
      "Number of genes not in gencode_34, that found in GRCh37 : 989\n",
      "Number of genes not in gencode_34: 580\n"
     ]
    }
   ],
   "source": [
    "# GRCh37 to gencode v.34 mapping\n",
    "grch37_gencode_v34 = get_grch37_inhouse_map()\n",
    "gencode_v34_genes = set(grch37_gencode_v34['gene'].dropna().tolist())\n",
    "grch37_gencode_v34 = grch37_gencode_v34.dropna()\n",
    "\n",
    "\n",
    "# get genes not in gencode v.34 format\n",
    "wrong_format_genes = gnomad.loc[~gnomad['gene_symbol'].isin(gencode_v34_genes), 'gene_symbol'].tolist()\n",
    "\n",
    "# get a dict for correction\n",
    "correcting_map = grch37_gencode_v34[grch37_gencode_v34['gene_grch37'].isin(wrong_format_genes)][['gene_grch37', 'gene']]\n",
    "correcting_map = correcting_map.set_index('gene_grch37').to_dict()['gene']\n",
    "\n",
    "# print information\n",
    "print (\"Number of genes not in gencode_34:\", len(wrong_format_genes))\n",
    "print (\"Number of genes not in gencode_34, that found in GRCh37 :\", len(correcting_map))\n",
    "\n",
    "# correct gene panels\n",
    "gnomad['gene_symbol'] = gnomad['gene_symbol'].apply(lambda x: correcting_map.get(x, x))\n",
    "\n",
    "print (\"Number of genes not in gencode_34:\", sum(~gnomad['gene_symbol'].isin(gencode_v34_genes)))\n"
   ]
  },
  {
   "cell_type": "code",
   "execution_count": 75,
   "metadata": {},
   "outputs": [
    {
     "name": "stdout",
     "output_type": "stream",
     "text": [
      "Gnomad shape: (19197, 2)\n",
      "Gnomad unique genes: (19154,)\n",
      "Gnomad shape after correction: (19154, 2)\n"
     ]
    }
   ],
   "source": [
    "print (\"Gnomad shape:\", gnomad.shape)\n",
    "print (\"Gnomad unique genes:\", gnomad['gene_symbol'].drop_duplicates().shape)\n",
    "\n",
    "gnomad = gnomad.groupby('gene_symbol').max().reset_index()\n",
    "\n",
    "print (\"Gnomad shape after correction:\", gnomad.shape)"
   ]
  },
  {
   "cell_type": "code",
   "execution_count": 76,
   "metadata": {},
   "outputs": [],
   "source": [
    "# save dataset\n",
    "gnomad.to_csv(\".../450k/selection_pli/gnomad.v2.1.1.PLI_gencode-v34.txt\", index=False, sep='\\t')"
   ]
  },
  {
   "cell_type": "code",
   "execution_count": 77,
   "metadata": {},
   "outputs": [
    {
     "name": "stdout",
     "output_type": "stream",
     "text": [
      "Genes in panel after correction: 1929\n",
      "Genes in gnomAD after correction 1919\n"
     ]
    }
   ],
   "source": [
    "gene_panels = pd.read_csv(\".../450k/regions/gene-panel-gencode-v34.txt\", header=None)\n",
    "gene_panels = set(gene_panels[0].tolist())\n",
    "\n",
    "print (\"Genes in panel after correction:\", len(gene_panels))\n",
    "print (\"Genes in gnomAD after correction\", sum(gnomad['gene_symbol'].isin(gene_panels)))"
   ]
  },
  {
   "cell_type": "markdown",
   "metadata": {},
   "source": [
    "## Roulette"
   ]
  },
  {
   "cell_type": "code",
   "execution_count": 3,
   "metadata": {},
   "outputs": [
    {
     "name": "stdout",
     "output_type": "stream",
     "text": [
      "Number of genes: 17303\n"
     ]
    },
    {
     "data": {
      "text/html": [
       "<div>\n",
       "<style scoped>\n",
       "    .dataframe tbody tr th:only-of-type {\n",
       "        vertical-align: middle;\n",
       "    }\n",
       "\n",
       "    .dataframe tbody tr th {\n",
       "        vertical-align: top;\n",
       "    }\n",
       "\n",
       "    .dataframe thead th {\n",
       "        text-align: right;\n",
       "    }\n",
       "</style>\n",
       "<table border=\"1\" class=\"dataframe\">\n",
       "  <thead>\n",
       "    <tr style=\"text-align: right;\">\n",
       "      <th></th>\n",
       "      <th>Gene_symbol</th>\n",
       "      <th>s_het</th>\n",
       "    </tr>\n",
       "  </thead>\n",
       "  <tbody>\n",
       "    <tr>\n",
       "      <th>0</th>\n",
       "      <td>A1BG</td>\n",
       "      <td>0.010626</td>\n",
       "    </tr>\n",
       "    <tr>\n",
       "      <th>1</th>\n",
       "      <td>A1CF</td>\n",
       "      <td>0.032817</td>\n",
       "    </tr>\n",
       "    <tr>\n",
       "      <th>2</th>\n",
       "      <td>A2M</td>\n",
       "      <td>0.024557</td>\n",
       "    </tr>\n",
       "  </tbody>\n",
       "</table>\n",
       "</div>"
      ],
      "text/plain": [
       "  Gene_symbol     s_het\n",
       "0        A1BG  0.010626\n",
       "1        A1CF  0.032817\n",
       "2         A2M  0.024557"
      ]
     },
     "execution_count": 3,
     "metadata": {},
     "output_type": "execute_result"
    }
   ],
   "source": [
    "roulette = pd.read_csv(\".../450k/selection_roulette/s_het_roulette.csv\", sep=',').rename(\n",
    "    columns={'mean_s_het': 's_het'})\n",
    "roulette = roulette[['Gene_symbol', 's_het']].drop_duplicates().dropna()\n",
    "roulette = roulette.groupby('Gene_symbol').mean().reset_index()\n",
    "\n",
    "print (\"Number of genes:\", roulette.shape[0])\n",
    "\n",
    "roulette.head(3)"
   ]
  },
  {
   "cell_type": "code",
   "execution_count": 4,
   "metadata": {},
   "outputs": [
    {
     "name": "stdout",
     "output_type": "stream",
     "text": [
      "Genes in panel before correction: 1929\n",
      "Genes in roulette before correction 1853\n"
     ]
    }
   ],
   "source": [
    "gene_panels = pd.read_csv(\".../450k/regions/gene-panel.txt\", header=None)\n",
    "gene_panels = set(gene_panels[0].tolist())\n",
    "\n",
    "print (\"Genes in panel before correction:\", len(gene_panels))\n",
    "print (\"Genes in roulette before correction\", sum(roulette['Gene_symbol'].isin(gene_panels)))"
   ]
  },
  {
   "cell_type": "code",
   "execution_count": 5,
   "metadata": {},
   "outputs": [
    {
     "name": "stdout",
     "output_type": "stream",
     "text": [
      "Number of genes not in gencode_34: 293\n",
      "Number of genes not in gencode_34, that found in GRCh38 : 54\n",
      "Number of genes not in gencode_34: 239\n"
     ]
    }
   ],
   "source": [
    "\n",
    "# GRCh38 to gencode v.34 mapping\n",
    "grch38_gencode_v34 = get_grch38_inhouse_map()\n",
    "gencode_v34_genes = set(grch38_gencode_v34['gene'].dropna().tolist())\n",
    "grch38_gencode_v34 = grch38_gencode_v34.dropna()\n",
    "\n",
    "# get genes not in gencode v.34 format\n",
    "wrong_format_genes = roulette.loc[~roulette['Gene_symbol'].isin(gencode_v34_genes), 'Gene_symbol'].tolist()\n",
    "\n",
    "# get a dict for correction\n",
    "correcting_map = grch38_gencode_v34[grch38_gencode_v34['gene_grch38'].isin(wrong_format_genes)][['gene_grch38', 'gene']]\n",
    "correcting_map = correcting_map.set_index('gene_grch38').to_dict()['gene']\n",
    "\n",
    "# print information\n",
    "print (\"Number of genes not in gencode_34:\", len(wrong_format_genes))\n",
    "print (\"Number of genes not in gencode_34, that found in GRCh38 :\", len(correcting_map))\n",
    "\n",
    "# correct gene panels\n",
    "roulette['Gene_symbol'] = roulette['Gene_symbol'].apply(lambda x: correcting_map.get(x, x))\n",
    "\n",
    "print (\"Number of genes not in gencode_34:\", sum(~roulette['Gene_symbol'].isin(gencode_v34_genes)))\n",
    "\n",
    "# save dataset\n",
    "roulette = roulette.rename(columns={'Gene_symbol': 'gene_symbol'})\n",
    "roulette.to_csv(\".../450k/selection_roulette/s_het_roulette_gencode-v34.csv\", index=False, sep='\\t')\n"
   ]
  },
  {
   "cell_type": "code",
   "execution_count": 6,
   "metadata": {},
   "outputs": [
    {
     "name": "stdout",
     "output_type": "stream",
     "text": [
      "Genes in panel after correction: 1929\n",
      "Genes in roulette after correction 1890\n"
     ]
    }
   ],
   "source": [
    "gene_panels = pd.read_csv(\".../450k/regions/gene-panel-gencode-v34.txt\", header=None)\n",
    "gene_panels = set(gene_panels[0].tolist())\n",
    "\n",
    "print (\"Genes in panel after correction:\", len(gene_panels))\n",
    "print (\"Genes in roulette after correction\", sum(roulette['gene_symbol'].isin(gene_panels)))"
   ]
  },
  {
   "cell_type": "markdown",
   "metadata": {},
   "source": [
    "### High s-het genes stat for paper"
   ]
  },
  {
   "cell_type": "code",
   "execution_count": 55,
   "metadata": {},
   "outputs": [
    {
     "name": "stdout",
     "output_type": "stream",
     "text": [
      "Number of recessive genes in panel: 1890\n",
      "Number of high s-het genes: 125\n"
     ]
    }
   ],
   "source": [
    "import numpy as np\n",
    "\n",
    "gene_panels = pd.read_csv(\".../450k/regions/gene-panel-gencode-v34.txt\", header=None)\n",
    "gene_panels.columns = ['gene_symbol', 'panel']\n",
    "gene_panels['n_genes'] = gene_panels.groupby('panel')['gene_symbol'].transform('count')\n",
    "\n",
    "roulette_recessive = roulette.merge(gene_panels, how='inner', on='gene_symbol')\n",
    "roulette_recessive ['high_s_het'] = roulette_recessive['s_het'] >= 0.1\n",
    "\n",
    "print (\"Number of recessive genes in panel:\", roulette_recessive.shape[0])\n",
    "print (f\"Number of high s-het genes: {roulette_recessive ['high_s_het'].sum()}\")"
   ]
  },
  {
   "cell_type": "code",
   "execution_count": 56,
   "metadata": {},
   "outputs": [],
   "source": [
    "roulette_recessive = roulette_recessive.groupby('panel').agg({'n_genes': 'first', 'gene_symbol': 'count', 'high_s_het': 'sum'}).reset_index()\n",
    "\n",
    "roulette_recessive = roulette_recessive.sort_values(by='n_genes', ascending=False).rename(\n",
    "    columns={'gene_symbol': 'n_genes_with_s_het', 'high_s_het': 'n_high_s_het'})\n",
    "\n",
    "roulette_recessive['n_genes_with_s_het_percentage'] = np.round(roulette_recessive['n_genes_with_s_het'] / roulette_recessive['n_genes'] * 100, 1)\n",
    "roulette_recessive['high_s_het_prcentage'] = np.round(roulette_recessive['n_high_s_het'] / roulette_recessive['n_genes_with_s_het'] * 100, 1)\n",
    "\n",
    "roulette_recessive['number_of_genes_with_s_het'] = roulette_recessive['n_genes_with_s_het'].astype(str) + ' (' + roulette_recessive['n_genes_with_s_het_percentage'].astype(str) + '%)'\n",
    "roulette_recessive['number_of_high_s_het_genes'] = roulette_recessive['n_high_s_het'].astype(str) + ' (' + roulette_recessive['high_s_het_prcentage'].astype(str) + '%)'\n",
    "\n",
    "roulette_recessive.to_excel('../../../data/tables/high_s_het_genes_roulette.xlsx', index=False)"
   ]
  },
  {
   "cell_type": "code",
   "execution_count": null,
   "metadata": {},
   "outputs": [],
   "source": []
  }
 ],
 "metadata": {
  "kernelspec": {
   "display_name": "ukbb_recessive",
   "language": "python",
   "name": "python3"
  },
  "language_info": {
   "codemirror_mode": {
    "name": "ipython",
    "version": 3
   },
   "file_extension": ".py",
   "mimetype": "text/x-python",
   "name": "python",
   "nbconvert_exporter": "python",
   "pygments_lexer": "ipython3",
   "version": "3.12.2"
  },
  "orig_nbformat": 4
 },
 "nbformat": 4,
 "nbformat_minor": 2
}
