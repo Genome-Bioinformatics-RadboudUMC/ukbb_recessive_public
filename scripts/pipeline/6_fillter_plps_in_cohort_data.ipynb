{
 "cells": [
  {
   "cell_type": "markdown",
   "id": "28f2bf65",
   "metadata": {},
   "source": [
    "This notebook should be run every time the PLPs selection process changes.\n",
    "\n",
    "Here we filter samples variants so, that only PLPs are left. This is done to make it easier to collect dataset for the regression analysis."
   ]
  },
  {
   "cell_type": "code",
   "execution_count": null,
   "id": "4c643b98",
   "metadata": {},
   "outputs": [],
   "source": [
    "from ukbb_recessive.data_collection.variants import VariantFeatures\n",
    "import glob\n",
    "import os\n",
    "import datetime\n",
    "import multiprocessing as mp\n",
    "import pandas as pd"
   ]
  },
  {
   "cell_type": "markdown",
   "id": "aebbc0e4",
   "metadata": {},
   "source": [
    "# Original PLPs"
   ]
  },
  {
   "cell_type": "code",
   "execution_count": null,
   "id": "dca6b621",
   "metadata": {},
   "outputs": [],
   "source": [
    "# original files with samples variants generated in RAP per chromosome\n",
    "rap_files = glob.glob(\"../450k/RAP_output_per_chr/*.all_parts_final.csv\")\n",
    "\n",
    "## file, that contains all PLPs found in the cohort\n",
    "all_plps_file = \".../450k/plp_selection/basic/new_gene_names/new_freq/all_chr_total_presumable_plps_HFE_final_sorted.txt\"\n",
    "\n",
    "\n",
    "# output folder for individual's PLPs\n",
    "output_folder= '.../450k/RAP_output_per_chr/filtered_plps/basic/new_gene_names/new_freq'\n",
    "\n",
    "\n",
    "# create output folder if not exists\n",
    "if not os.path.exists(output_folder):\n",
    "    os.makedirs(output_folder)"
   ]
  },
  {
   "cell_type": "code",
   "execution_count": null,
   "id": "51001d65",
   "metadata": {},
   "outputs": [],
   "source": [
    "# filter out non-PLP variants for every chromosome\n",
    "\n",
    "VariantFeatures().filter_plps_in_samples(\n",
    "    rap_files = rap_files, \n",
    "    output_folder = output_folder, \n",
    "    all_plps_file = all_plps_file\n",
    ")"
   ]
  }
 ],
 "metadata": {
  "kernelspec": {
   "display_name": "Python (variant_prio)",
   "language": "python",
   "name": "variant_prio"
  },
  "language_info": {
   "codemirror_mode": {
    "name": "ipython",
    "version": 3
   },
   "file_extension": ".py",
   "mimetype": "text/x-python",
   "name": "python",
   "nbconvert_exporter": "python",
   "pygments_lexer": "ipython3",
   "version": "3.7.6"
  },
  "toc": {
   "base_numbering": 1,
   "nav_menu": {},
   "number_sections": true,
   "sideBar": true,
   "skip_h1_title": false,
   "title_cell": "Table of Contents",
   "title_sidebar": "Contents",
   "toc_cell": false,
   "toc_position": {},
   "toc_section_display": true,
   "toc_window_display": false
  }
 },
 "nbformat": 4,
 "nbformat_minor": 5
}
