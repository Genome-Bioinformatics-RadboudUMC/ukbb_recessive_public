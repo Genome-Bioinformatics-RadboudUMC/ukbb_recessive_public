{
 "cells": [
  {
   "cell_type": "code",
   "execution_count": null,
   "metadata": {},
   "outputs": [],
   "source": [
    "import pandas as pd\n",
    "\n",
    "import seaborn as sns\n",
    "\n",
    "import matplotlib.pyplot as plt\n",
    "\n",
    "from ukbb_recessive.regression.regressions import sci_notation, plot_errorbar_grouped, plot_errorbar_grouped_transposed\n",
    "\n",
    "sns.set_style(\"whitegrid\")\n",
    "\n",
    "from matplotlib import font_manager\n",
    "import matplotlib\n",
    "from matplotlib.cm import get_cmap"
   ]
  },
  {
   "cell_type": "code",
   "execution_count": null,
   "metadata": {},
   "outputs": [],
   "source": [
    "# Add fonts\n",
    "font_dirs = ['../../../../data/fonts']\n",
    "font_files = font_manager.findSystemFonts(fontpaths=font_dirs)\n",
    "\n",
    "for font_file in font_files:\n",
    "    font_manager.fontManager.addfont(font_file)\n",
    "    print (\"Added:\", font_file)"
   ]
  },
  {
   "cell_type": "code",
   "execution_count": null,
   "metadata": {},
   "outputs": [],
   "source": [
    "SMALL_SIZE = 16\n",
    "MEDIUM_SIZE = 22\n",
    "BIGGER_SIZE = 24\n",
    "\n",
    "plt.rc('font', size=SMALL_SIZE, family='Arimo')          # controls default text sizes\n",
    "plt.rc('axes', titlesize=BIGGER_SIZE)     # fontsize of the axes title\n",
    "plt.rc('axes', labelsize=BIGGER_SIZE)    # fontsize of the x and y labels\n",
    "plt.rc('xtick', labelsize=MEDIUM_SIZE)    # fontsize of the tick labels\n",
    "plt.rc('ytick', labelsize=MEDIUM_SIZE)    # fontsize of the tick labels\n",
    "plt.rc('legend', fontsize=SMALL_SIZE)    # legend fontsize\n",
    "plt.rc('figure', titlesize=BIGGER_SIZE)  # fontsize of the figure title\n",
    "\n",
    "plt.rcParams['text.usetex']= False\n",
    "\n",
    "matplotlib.rcParams['pdf.fonttype'] = 42\n",
    "matplotlib.rcParams['ps.fonttype'] = 42"
   ]
  },
  {
   "attachments": {},
   "cell_type": "markdown",
   "metadata": {},
   "source": [
    "# Figure 3B"
   ]
  },
  {
   "cell_type": "code",
   "execution_count": null,
   "metadata": {},
   "outputs": [],
   "source": [
    "# read raw table\n",
    "reader = pd.ExcelFile('../../../../data/tables/table_basic_regressions_on_[s_het_recessive_all].xlsx')\n",
    "\n",
    "all_results_df = pd.read_excel(reader, sheet_name=\"Raw data\", header=[0, 1], skiprows=[2])\n",
    "all_results_df = all_results_df.drop(all_results_df.columns[0], axis=1)\n",
    "\n",
    "# prettify p-values\n",
    "new_columns = [(level0, 'p_value_pretty') for level0 in all_results_df.columns.get_level_values(level=0).unique()]\n",
    "all_results_df[new_columns] = all_results_df.loc[:, (slice(None), 'p_value')].applymap(sci_notation)\n",
    "\n",
    "# leave s_het effects only\n",
    "all_results_df = all_results_df[all_results_df[all_results_df.columns[0]].str.contains('s_het')]\n",
    "\n",
    "all_results_df_recessive = all_results_df['Weghorn'].copy()"
   ]
  },
  {
   "cell_type": "code",
   "execution_count": null,
   "metadata": {},
   "outputs": [],
   "source": [
    "# read raw table\n",
    "reader = pd.ExcelFile('../../../../data/tables/table_panel_regressions_on_[s_het_recessive_AR_without_ID,_s_het_recessive_ID_total].xlsx')\n",
    "\n",
    "all_results_df = pd.read_excel(reader, sheet_name=\"Raw data\", header=[0, 1], skiprows=[2])\n",
    "all_results_df = all_results_df.drop(all_results_df.columns[0], axis=1)\n",
    "\n",
    "# prettify p-values\n",
    "new_columns = [(level0, 'p_value_pretty') for level0 in all_results_df.columns.get_level_values(level=0).unique()]\n",
    "all_results_df[new_columns] = all_results_df.loc[:, (slice(None), 'p_value')].applymap(sci_notation)\n",
    "\n",
    "# leave s_het effects only\n",
    "all_results_df = all_results_df[all_results_df[all_results_df.columns[0]].str.contains('s_het')]\n",
    "\n",
    "all_results_df = pd.concat([all_results_df['Weghorn'], all_results_df_recessive])"
   ]
  },
  {
   "cell_type": "code",
   "execution_count": null,
   "metadata": {},
   "outputs": [],
   "source": [
    "renaming_dict_target = {\n",
    "    'any_education_including_none': \"Any education\",\n",
    "    'is_blond': 'Hair color', \n",
    "    'childlessness': 'Childlessness'\n",
    "}\n",
    "\n",
    "renaming_dict_panel = {\n",
    "    's_het_recessive_AR_without_ID': \"Other recessive genes\",\n",
    "    's_het_recessive_ID_total': 'Recessive ID genes', \n",
    "    's_het_recessive_all': \"All recessive genes\"\n",
    "}\n",
    "\n",
    "all_results_df = all_results_df[all_results_df['target'].isin(['childlessness', 'any_education_including_none', 'is_blond'])]\n",
    "all_results_df['odds_ratio_lower'] = all_results_df['odds_ratio'] - all_results_df['odds_ratio_lower']\n",
    "all_results_df['odds_ratio_upper'] = all_results_df['odds_ratio_upper'] - all_results_df['odds_ratio']\n",
    "\n",
    "all_results_df = all_results_df[all_results_df['gender'] == 'all']\n",
    "all_results_df['target'] = all_results_df['target'].apply(lambda x: renaming_dict_target.get(x, x))\n",
    "all_results_df['feature'] = all_results_df['feature'].apply(lambda x: renaming_dict_panel.get(x, x))\n",
    "\n",
    "all_results_df = all_results_df.sort_values(by='feature')\n"
   ]
  },
  {
   "cell_type": "code",
   "execution_count": null,
   "metadata": {},
   "outputs": [],
   "source": [
    "ig, ax = plt.subplots(1, 1, figsize=(12, 5))\n",
    "\n",
    "y_order = ['Any education', 'Childlessness', 'Hair color']\n",
    "group_order = ['All recessive genes', 'Recessive ID genes', 'Other recessive genes']\n",
    "\n",
    "colors = get_cmap(\"Dark2\").colors\n",
    "colors = [get_cmap(\"Accent\").colors[0], colors[2], colors[5]]\n",
    "\n",
    "printed_results_df = plot_errorbar_grouped(df=all_results_df, axis=ax, y_column='target', group_column = 'feature',  title='Association for ID and other recessive genes', \n",
    "                      text_margin_ratio=0.53, legend_loc='upper right', \n",
    "                      group_scale=0.25, y_order=y_order, group_order=group_order, ymargin=0.2, \n",
    "                      colors=colors)\n",
    "\n",
    "\n",
    "plt.savefig(\"../../../../data/plots/figure_3b.pdf\", format=\"pdf\", bbox_inches=\"tight\")\n",
    "\n",
    "printed_results_df[['target', 'feature', 'p_value_pretty']]"
   ]
  },
  {
   "cell_type": "markdown",
   "metadata": {},
   "source": [
    "# Panel figure"
   ]
  },
  {
   "cell_type": "code",
   "execution_count": null,
   "metadata": {},
   "outputs": [],
   "source": [
    "# read raw table\n",
    "reader = pd.ExcelFile('../../../../data/tables/table_panel_regressions_on_s_het_panels.xlsx')\n",
    "\n",
    "all_results_df = pd.read_excel(reader, sheet_name=\"Raw data\", header=[0, 1], skiprows=[2])\n",
    "all_results_df = all_results_df.drop(all_results_df.columns[0], axis=1)\n",
    "\n",
    "# prettify p-values\n",
    "new_columns = [(level0, 'p_value_pretty') for level0 in all_results_df.columns.get_level_values(level=0).unique()]\n",
    "all_results_df[new_columns] = all_results_df.loc[:, (slice(None), 'p_value')].applymap(sci_notation)\n",
    "\n",
    "# leave s_het effects only\n",
    "all_results_df = all_results_df[all_results_df[all_results_df.columns[0]].str.contains('s_het')]\n",
    "\n",
    "all_results_df = all_results_df['Weghorn']"
   ]
  },
  {
   "cell_type": "code",
   "execution_count": null,
   "metadata": {},
   "outputs": [],
   "source": [
    "renaming_dict_target = {\n",
    "    'any_education_including_none': \"Any education\",\n",
    "    'is_blond': 'Hair color', \n",
    "    'childlessness': 'Childlessness'\n",
    "}\n",
    "\n",
    "renaming_dict_panel = {\n",
    "    's_het_recessive_Blindness': 'Blindness',\n",
    "\t's_het_recessive_Cilia_Kidney': 'Cilia + Kidney',\n",
    "\t's_het_recessive_Deafness': 'Deafness',\n",
    "\t's_het_recessive_Derm': 'Dermatologic',\n",
    "\t's_het_recessive_Endocrine': 'Endocrine',\n",
    "\t's_het_recessive_Hematologic': 'Hematologic',\n",
    "\t's_het_recessive_ID_total': 'ID',\n",
    "\t's_het_recessive_Immune_system': 'Immune system',\n",
    "\t's_het_recessive_Metabolic': 'Metabolic',\n",
    "\t's_het_recessive_Metabolic_ID': 'Metabolic-ID',\n",
    "\t's_het_recessive_Neuromuscular': 'Neuromuscular',\n",
    "\t's_het_recessive_Overlaps': 'Multi-system',\n",
    "\t's_het_recessive_Skeletal_Craniofacial': 'Skeletal'\n",
    "}\n",
    "\n",
    "import numpy as np\n",
    "\n",
    "all_results_df = all_results_df[all_results_df['target'].isin(['childlessness', 'any_education_including_none', 'is_blond'])]\n",
    "\n",
    "# all_results_df = all_results_df[all_results_df['target'].isin(['childlessness'])]\n",
    "\n",
    "all_results_df[['odds_ratio', 'odds_ratio_lower', 'odds_ratio_upper']] = np.log(all_results_df[['odds_ratio', 'odds_ratio_lower', 'odds_ratio_upper']].values)\n",
    "\n",
    "all_results_df['odds_ratio_lower'] = all_results_df['odds_ratio'] - all_results_df['odds_ratio_lower']\n",
    "all_results_df['odds_ratio_upper'] = all_results_df['odds_ratio_upper'] - all_results_df['odds_ratio']\n",
    "\n",
    "all_results_df = all_results_df[all_results_df['gender'] == 'all']\n",
    "all_results_df['target'] = all_results_df['target'].apply(lambda x: renaming_dict_target.get(x, x))\n",
    "all_results_df['feature'] = all_results_df['feature'].apply(lambda x: renaming_dict_panel.get(x, x))\n",
    "\n",
    "all_results_df = all_results_df.sort_values(by='feature')"
   ]
  },
  {
   "cell_type": "code",
   "execution_count": null,
   "metadata": {},
   "outputs": [],
   "source": [
    "ig, ax = plt.subplots(1, 1, figsize=(20, 6))\n",
    "\n",
    "group_order = ['Any education', 'Childlessness', 'Hair color'][::-1]\n",
    "\n",
    "colors = get_cmap(\"tab20b\").colors\n",
    "colors = [colors[10], colors[2], colors[5]]\n",
    "\n",
    "plot_errorbar_grouped_transposed(df=all_results_df, axis=ax, y_column='feature', group_column = 'target',  title='Associations for different disorder groups', \n",
    "                      ymargin=0.05, legend_loc='lower right', group_scale=0.2, vertical_loc=0, group_order=group_order, colors=colors)\n",
    "plt.ylabel(\"Effect size\")\n",
    "plt.xticks(rotation=90)\n",
    "\n",
    "plt.savefig(\"../../../../data/plots/figure_2.pdf\", format=\"pdf\", bbox_inches=\"tight\")"
   ]
  },
  {
   "cell_type": "code",
   "execution_count": null,
   "metadata": {},
   "outputs": [],
   "source": []
  }
 ],
 "metadata": {
  "kernelspec": {
   "display_name": "variant_prio",
   "language": "python",
   "name": "python3"
  },
  "language_info": {
   "codemirror_mode": {
    "name": "ipython",
    "version": 3
   },
   "file_extension": ".py",
   "mimetype": "text/x-python",
   "name": "python",
   "nbconvert_exporter": "python",
   "pygments_lexer": "ipython3",
   "version": "3.7.6"
  },
  "orig_nbformat": 4
 },
 "nbformat": 4,
 "nbformat_minor": 2
}
