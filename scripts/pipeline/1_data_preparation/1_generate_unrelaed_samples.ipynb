{
 "cells": [
  {
   "cell_type": "markdown",
   "id": "f48cbfe6",
   "metadata": {},
   "source": [
    "# Imports & variable definition"
   ]
  },
  {
   "cell_type": "code",
   "execution_count": 11,
   "id": "6cf5ae7b",
   "metadata": {},
   "outputs": [],
   "source": [
    "import csv\n",
    "import os\n",
    "import datetime\n",
    "import pandas as pd\n",
    "import numpy as np\n",
    "import matplotlib.pyplot as plt"
   ]
  },
  {
   "cell_type": "code",
   "execution_count": 245,
   "id": "93839c97",
   "metadata": {},
   "outputs": [],
   "source": [
    "inFile=\".../450k/relatedness/relatedness_data_450k_participants.tsv\"\n",
    "outFile=\".../450k/relatedness/related_individuals.txt\"\n",
    "outFileFinal=\".../450k/relatedness/related_individuals_with_interpretation.txt\"\n",
    "samplesToRemove=\".../450k/relatedness/related_samples_to_remove\""
   ]
  },
  {
   "cell_type": "markdown",
   "id": "ec2af060",
   "metadata": {},
   "source": [
    "**TO-do: explain how did we get input file!!!**"
   ]
  },
  {
   "cell_type": "markdown",
   "id": "dd0daec9",
   "metadata": {},
   "source": [
    "# Create couples"
   ]
  },
  {
   "cell_type": "markdown",
   "id": "dbb821a4",
   "metadata": {},
   "source": [
    "**Input** data contains the following fields:\n",
    "\n",
    "> **22011** - field is used to identify pairs of participants who are estimated to be genetically related. More [here](https://biobank.ndph.ox.ac.uk/showcase/field.cgi?id=22011).\n",
    "\n",
    "> **22012** -  field gives the kinship coefficient associated with each pair of participants. More [here](https://biobank.ndph.ox.ac.uk/showcase/field.cgi?id=22012).\n",
    "\n",
    "> **22018** - field identifies the persons excluded from the calculations. More [here](https://biobank.ndph.ox.ac.uk/showcase/field.cgi?id=22018).\n",
    "\n",
    "**Output**: \n",
    "\n",
    "Tab-separated file of format: `eid-1` `eid-2` `kinship-coefficient`"
   ]
  },
  {
   "cell_type": "code",
   "execution_count": 39,
   "id": "a1a1c394",
   "metadata": {
    "code_folding": []
   },
   "outputs": [],
   "source": [
    "def create_couples(inFile, outFile):\n",
    "    '''\n",
    "    This function gets a phenotipic file that includes fields 22011,22012,22018 as an input file\n",
    "    The output is a list of couples by identifiers <ID1,ID2,kinship>\n",
    "    '''\n",
    "    # define fields\n",
    "    exclude=22018\n",
    "    pairs=22011\n",
    "    kinship=22012\n",
    "    \n",
    "    with open(inFile,\"rt\") as pheno_File, open (outFile,\"w\") as final:\n",
    "        # parse csv files\n",
    "        reader=csv.reader(pheno_File,delimiter=\"\\t\")\n",
    "        writer=csv.writer(final,delimiter=\"\\t\")\n",
    "        \n",
    "        # read first row, save the indexes of the fields\n",
    "        field_pairs=[]\n",
    "        field_kinship=[]\n",
    "        \n",
    "        fields=next(reader)\n",
    "        \n",
    "        for i in fields:\n",
    "            if str(exclude) in str(i):\n",
    "                field_exclude=fields.index(i)\n",
    "            #a list of all fields that are related to the phenotype (X-1.0, X-1.1, X-2.0...)\n",
    "            elif str(pairs) in str(i):                                          \n",
    "                field_pairs.append(fields.index(i))\n",
    "            elif str(kinship) in str(i):\n",
    "                field_kinship.append(fields.index(i))\n",
    "        l_zipped = list(zip(field_pairs,field_kinship))    \n",
    "        \n",
    "        # iterate over the remaining rows and collect related pairs\n",
    "        \n",
    "        d_samples={}\n",
    "        d_pairs={}\n",
    "        \n",
    "        for r in reader:\n",
    "            d_samples[r[0]]=[]\n",
    "            \n",
    "            \n",
    "            if r[field_exclude] != 1 and r[field_exclude] != 2:\n",
    "                for c in field_pairs:\n",
    "                    if r[c] != \"\":\n",
    "                        if r[c] not in d_pairs.keys():\n",
    "                            d_pairs[r[c]] = [r[0]]\n",
    "                        else:\n",
    "                            d_pairs[r[c]].append(r[0])\n",
    "                   \n",
    "                \n",
    "            for s in l_zipped:\n",
    "                if s[0]!=\"\":\n",
    "                    if r[s[0]]!=\"\":\n",
    "                        d_samples[r[0]].append([r[s[0]],r[s[1]]])\n",
    "        \n",
    "        for k,v in d_pairs.items():\n",
    "            if len(v)==2:\n",
    "                if len(d_samples[v[0]])>1:\n",
    "                    for i in d_samples[v[0]]:\n",
    "                        if i[0]==k:\n",
    "                            nl=[str(v[0]),str(v[1]),i[1]]\n",
    "                            \n",
    "                else:\n",
    "                    nl=[str(v[0]),str(v[1]),d_samples[v[0]][0][1]]\n",
    "                writer.writerow(nl)"
   ]
  },
  {
   "cell_type": "code",
   "execution_count": 41,
   "id": "1635dc60",
   "metadata": {},
   "outputs": [
    {
     "name": "stdout",
     "output_type": "stream",
     "text": [
      "Step finished, elapsed time: 0:00:01.377009\n"
     ]
    }
   ],
   "source": [
    "start = datetime.datetime.now()\n",
    "\n",
    "create_couples(inFile, outFile)\n",
    "\n",
    "print (f\"Step finished, elapsed time: {datetime.datetime.now()-start}\")"
   ]
  },
  {
   "cell_type": "code",
   "execution_count": 115,
   "id": "41f51909",
   "metadata": {},
   "outputs": [
    {
     "name": "stdout",
     "output_type": "stream",
     "text": [
      "1003692\t3498490\t0.218\r\n",
      "\r\n",
      "1006054\t2386508\t0.108\r\n",
      "\r\n",
      "1006881\t2821126\t0.059\r\n",
      "\r\n",
      "1006881\t3623498\t0.242\r\n",
      "\r\n",
      "1014860\t1232780\t0.238\r\n",
      "\r\n"
     ]
    }
   ],
   "source": [
    "!head -5 $outFile"
   ]
  },
  {
   "cell_type": "code",
   "execution_count": 116,
   "id": "f686910f",
   "metadata": {},
   "outputs": [
    {
     "name": "stdout",
     "output_type": "stream",
     "text": [
      "9684 .../450k/relatedness/related_individuals.txt\r\n"
     ]
    }
   ],
   "source": [
    "!wc -l $outFile"
   ]
  },
  {
   "cell_type": "markdown",
   "id": "4c98712c",
   "metadata": {},
   "source": [
    "# Interpreting kinship coefficient"
   ]
  },
  {
   "cell_type": "markdown",
   "id": "2097662b",
   "metadata": {},
   "source": [
    "**Input**:\n",
    "\n",
    "File, generated at the previous step\n",
    "\n",
    "\n",
    "\n",
    "\n",
    "**Output**: \n",
    "\n",
    "Tab-separated file of format: `eid-1` `eid-2` `kinship-coefficient` `kinship-interpretation`"
   ]
  },
  {
   "cell_type": "code",
   "execution_count": 105,
   "id": "77483273",
   "metadata": {},
   "outputs": [],
   "source": [
    "def kinship_interpretation(inFile, outFile):\n",
    "    '''\n",
    "    This function gets the \"create_couples\" output as an input\n",
    "    It adds a column with the infer relationship\n",
    "    '''\n",
    "    with open (inFile, \"r\") as inputf, open (outFile, \"w\") as final:\n",
    "        reader= csv.reader (inputf, delimiter=\"\\t\")\n",
    "        writer= csv.writer (final, delimiter=\"\\t\")\n",
    "\n",
    "        for row in reader:\n",
    "            nl= row[:]\n",
    "            if float(row[2])>=0.354:\n",
    "                nl.append(\"duplicate/MZ twin\")\n",
    "            elif float(row[2])>=0.177 and float(row[2])<0.354:\n",
    "                    nl.append(\"1st-degree\")\n",
    "            elif float(row[2])>=0.0884 and float(row[2])<0.177:\n",
    "                nl.append(\"2nd-degree\")\n",
    "            elif float(row[2])>=0.0442 and float(row[2])<0.0884:\n",
    "                nl.append(\"3rd-degree\")\n",
    "            else:\n",
    "                nl.append(\"no_inffered_relationship\")\n",
    "            writer.writerow(nl)"
   ]
  },
  {
   "cell_type": "code",
   "execution_count": 109,
   "id": "91f83dc4",
   "metadata": {},
   "outputs": [
    {
     "name": "stdout",
     "output_type": "stream",
     "text": [
      "Step finished, elapsed time: 0:00:00.054456\n"
     ]
    }
   ],
   "source": [
    "start = datetime.datetime.now()\n",
    "\n",
    "kinship_interpretation(outFile, outFileFinal)\n",
    "\n",
    "print (f\"Step finished, elapsed time: {datetime.datetime.now()-start}\")"
   ]
  },
  {
   "cell_type": "code",
   "execution_count": 117,
   "id": "d9890ca9",
   "metadata": {},
   "outputs": [
    {
     "name": "stdout",
     "output_type": "stream",
     "text": [
      "1003692\t3498490\t0.218\t1st-degree\r\n",
      "\r\n",
      "1006054\t2386508\t0.108\t2nd-degree\r\n",
      "\r\n",
      "1006881\t2821126\t0.059\t3rd-degree\r\n",
      "\r\n",
      "1006881\t3623498\t0.242\t1st-degree\r\n",
      "\r\n",
      "1014860\t1232780\t0.238\t1st-degree\r\n",
      "\r\n"
     ]
    }
   ],
   "source": [
    "!head -5 $outFileFinal"
   ]
  },
  {
   "cell_type": "code",
   "execution_count": 118,
   "id": "90c7dbf6",
   "metadata": {},
   "outputs": [
    {
     "name": "stdout",
     "output_type": "stream",
     "text": [
      "9684 .../450k/relatedness/related_individuals_with_interpretation.txt\r\n"
     ]
    }
   ],
   "source": [
    "!wc -l $outFileFinal"
   ]
  },
  {
   "cell_type": "markdown",
   "id": "5cdcd0e2",
   "metadata": {},
   "source": [
    "# Remove related samples"
   ]
  },
  {
   "cell_type": "markdown",
   "id": "0724a8ff",
   "metadata": {},
   "source": [
    "**Input**:\n",
    "\n",
    "File, generated at the previous step\n",
    "\n",
    "\n",
    "\n",
    "\n",
    "**Output**: \n",
    "\n",
    "Tab-separated file with the samples to exclude, format: `eid` "
   ]
  },
  {
   "cell_type": "code",
   "execution_count": 247,
   "id": "f50d7413",
   "metadata": {},
   "outputs": [],
   "source": [
    "def samples_to_remove(inFile, outFileNoExt):\n",
    "    '''\n",
    "    this function gets the \"kinship_interpretation\" output as an input\n",
    "    It creats a  list of related samples that needs to be excluded\n",
    "    '''\n",
    "    with open (inFile, \"r\") as inputf, open (outFileNoExt+\".txt\", \"w\") as final:\n",
    "        reader= csv.reader (inputf, delimiter=\"\\t\")\n",
    "        writer= csv.writer (final, delimiter=\"\\t\")\n",
    "\n",
    "        pairs=[]\n",
    "\n",
    "        for r in reader:\n",
    "            # create a nested list of all couples 2nd degree or closer\n",
    "            if r[3]!=\"3rd-degree\" and r[3]!=\"no_inffered_relationship\": \n",
    "                pairs.append([r[0],r[1]])\n",
    "        \n",
    "        \n",
    "        # as long as there are pairs in the list, \n",
    "        # check which sample has the most relationships \n",
    "        # and delete the pairs that it's in\n",
    "        while len(pairs)>0:                                                             \n",
    "            d={}\n",
    "            for p in pairs:\n",
    "                if p[0] not in d:\n",
    "                    d[p[0]]=1\n",
    "                else:\n",
    "                    d[p[0]]+=1\n",
    "                    \n",
    "                if p[1] not in d:\n",
    "                    d[p[1]]=1\n",
    "                else:\n",
    "                    d[p[1]]+=1\n",
    "                    \n",
    "            most_related = max(d,key=d.get)\n",
    "            writer.writerow([most_related])\n",
    "            for p in pairs:\n",
    "                if most_related in p:\n",
    "                    pairs.remove(p)\n",
    "\n",
    "    os.system (\"cat \" +outFileNoExt+ \".txt |sort|uniq > \" +outFileNoExt +\"_final.txt\")\n",
    "    os.system (\"rm -f \"+outFileNoExt+ \".txt\")"
   ]
  },
  {
   "cell_type": "code",
   "execution_count": 248,
   "id": "bdd55e0e",
   "metadata": {},
   "outputs": [
    {
     "name": "stdout",
     "output_type": "stream",
     "text": [
      "Step finished, elapsed time: 0:00:03.584348\n"
     ]
    }
   ],
   "source": [
    "start = datetime.datetime.now()\n",
    "\n",
    "samples_to_remove(outFileFinal, samplesToRemove)\n",
    "\n",
    "print (f\"Step finished, elapsed time: {datetime.datetime.now()-start}\")"
   ]
  },
  {
   "cell_type": "code",
   "execution_count": 119,
   "id": "54d07afa",
   "metadata": {},
   "outputs": [
    {
     "name": "stdout",
     "output_type": "stream",
     "text": [
      "1001548\r\n",
      "\r\n",
      "1002035\r\n",
      "\r\n",
      "1002177\r\n",
      "\r\n",
      "1002758\r\n",
      "\r\n",
      "1003692\r\n",
      "\r\n"
     ]
    }
   ],
   "source": [
    "!head -5 $samplesToRemove'_final.txt'"
   ]
  },
  {
   "cell_type": "code",
   "execution_count": 120,
   "id": "7d76a15f",
   "metadata": {},
   "outputs": [
    {
     "name": "stdout",
     "output_type": "stream",
     "text": [
      "3664 .../450k/relatedness/related_samples_to_remove_final.txt\r\n"
     ]
    }
   ],
   "source": [
    "!wc -l $samplesToRemove'_final.txt'"
   ]
  },
  {
   "cell_type": "markdown",
   "id": "36ec1d48",
   "metadata": {},
   "source": [
    "**Note**: when running this algorithm second time, it may produce a bit different result since there are samples with the same relatedness count. We delete a random(?) one. "
   ]
  },
  {
   "cell_type": "markdown",
   "id": "2657dc5c",
   "metadata": {},
   "source": [
    "# New relatedness coefficitent"
   ]
  },
  {
   "cell_type": "code",
   "execution_count": 40,
   "id": "2e78fb06",
   "metadata": {},
   "outputs": [],
   "source": [
    "import pandas as pd\n",
    "\n",
    "def plot_kinship_dist(relatedness_data):\n",
    "    f, ax = plt.subplots(1, 1, figsize=(5, 3))\n",
    "    relatedness_data['Kinship'][relatedness_data['Kinship'] >= 0].hist(bins=100)\n",
    "\n",
    "    ax.vlines(0.354, 0, 12000, color='r', label='MZ twin/duplicate')\n",
    "    ax.text(0.354 + 0.005, 12000, 'MZ twin/duplicate', rotation=90, verticalalignment='top')\n",
    "\n",
    "    ax.vlines(0.177, 0, 12000, color='r', label='1st-degree')\n",
    "    ax.text(0.177 + 0.005, 12000, '1st-degree', rotation=90, verticalalignment='top')\n",
    "\n",
    "    ax.vlines(0.0884, 0, 12000, color='r', label='2nd-degree')\n",
    "    ax.text(0.0884 + 0.005, 12000, '2nd-degree', rotation=90, verticalalignment='top')\n",
    "\n",
    "    ax.vlines(0.0442, 0, 12000, color='r', label='3rd-degree')\n",
    "    ax.text(0.0442 + 0.005, 12000, '3rd-degree', rotation=90, verticalalignment='top')\n",
    "\n",
    "    plt.show()\n"
   ]
  },
  {
   "cell_type": "code",
   "execution_count": 36,
   "id": "a000b33e",
   "metadata": {},
   "outputs": [
    {
     "name": "stdout",
     "output_type": "stream",
     "text": [
      "Number OLD of samples to remove: 3664\n",
      "Samples to remove: ['1001548', '1002035', '1002177']\n"
     ]
    }
   ],
   "source": [
    "with open (\".../450k/samples/relatedness/related_samples_to_remove_final.txt\", \"r\") as f:\n",
    "    samples_to_remove = f.read().splitlines()\n",
    "\n",
    "print (f\"Number OLD of samples to remove: {len(samples_to_remove)}\")\n",
    "print (f\"Samples to remove: {samples_to_remove[:3]}\")"
   ]
  },
  {
   "cell_type": "code",
   "execution_count": 38,
   "id": "ebf576db",
   "metadata": {},
   "outputs": [
    {
     "name": "stdout",
     "output_type": "stream",
     "text": [
      "Lower bound: 0.08838834764831843\n",
      "\n",
      "Related pairs: 40166\n",
      "Related pairs without deleted: 35526\n"
     ]
    }
   ],
   "source": [
    "relatedness_data = pd.read_csv(\".../relatedness.txt\", sep=' ')\n",
    "\n",
    "# select parent-offsprings and siblings\n",
    "\n",
    "lower_bound = 1/(2**3.5)\n",
    "print (\"Lower bound:\", lower_bound)\n",
    "print()\n",
    "\n",
    "related_pairs = relatedness_data[(relatedness_data['Kinship'] > lower_bound)][['ID1', 'ID2']]\n",
    "print (\"Related pairs:\", len(related_pairs))\n",
    "\n",
    "related_pairs = related_pairs[~(related_pairs['ID1'].astype(str).isin(samples_to_remove) | related_pairs['ID2'].astype(str).isin(samples_to_remove))]\n",
    "\n",
    "print (\"Related pairs without deleted:\", len(related_pairs))\n"
   ]
  },
  {
   "cell_type": "code",
   "execution_count": 41,
   "id": "5cd581dc",
   "metadata": {},
   "outputs": [
    {
     "data": {
      "image/png": "[encoded data removed]",
      "text/plain": [
       "<Figure size 500x300 with 1 Axes>"
      ]
     },
     "metadata": {},
     "output_type": "display_data"
    }
   ],
   "source": [
    "plot_kinship_dist(relatedness_data)"
   ]
  },
  {
   "cell_type": "code",
   "execution_count": 23,
   "id": "6549f306",
   "metadata": {},
   "outputs": [
    {
     "name": "stdout",
     "output_type": "stream",
     "text": [
      "Full related pairs: 71052\n",
      "\n",
      "Deleted 10000 samples\n",
      "Related pairs left: 42460\n",
      "\n",
      "Deleted 20000 samples\n",
      "Related pairs left: 22460\n",
      "\n",
      "Deleted 30000 samples\n",
      "Related pairs left: 2460\n"
     ]
    }
   ],
   "source": [
    "full_related_pairs = pd.concat([related_pairs[['ID1', 'ID2']], related_pairs.rename(columns={'ID1':'ID2', 'ID2':'ID1'})[['ID1', 'ID2']]]).drop_duplicates()\n",
    "\n",
    "print (\"Full related pairs:\", len(full_related_pairs))\n",
    "\n",
    "deleted_samples =[]\n",
    "counter = 0\n",
    "\n",
    "while full_related_pairs.shape[0] > 0:\n",
    "    counts = full_related_pairs.groupby('ID1').size().sort_values(ascending=False)\n",
    "    most_related = counts.index[0]\n",
    "\n",
    "    deleted_samples.append(most_related)\n",
    "\n",
    "    full_related_pairs = full_related_pairs[~(full_related_pairs['ID1'] == most_related) & ~(full_related_pairs['ID2'] == most_related)]\n",
    "\n",
    "    counter += 1\n",
    "    if counter % 10000 == 0:\n",
    "        print()\n",
    "        print (f\"Deleted {counter} samples\")\n",
    "        print (f\"Related pairs left: {full_related_pairs.shape[0]}\")\n"
   ]
  },
  {
   "cell_type": "code",
   "execution_count": 25,
   "id": "a23d11ad",
   "metadata": {},
   "outputs": [
    {
     "name": "stdout",
     "output_type": "stream",
     "text": [
      "Deleted in nature paper: 66900\n",
      "Deleted in this script: 31230\n",
      "Deleted in total: 34894\n"
     ]
    }
   ],
   "source": [
    "print (\"Deleted in nature paper:\", 409617 - 342717)\n",
    "print (\"Deleted in this script:\", len(deleted_samples))\n",
    "print (\"Deleted in total:\", len(deleted_samples) + len(samples_to_remove))"
   ]
  },
  {
   "cell_type": "code",
   "execution_count": 34,
   "id": "6f627166",
   "metadata": {},
   "outputs": [
    {
     "data": {
      "text/html": [
       "<div>\n",
       "<style scoped>\n",
       "    .dataframe tbody tr th:only-of-type {\n",
       "        vertical-align: middle;\n",
       "    }\n",
       "\n",
       "    .dataframe tbody tr th {\n",
       "        vertical-align: top;\n",
       "    }\n",
       "\n",
       "    .dataframe thead th {\n",
       "        text-align: right;\n",
       "    }\n",
       "</style>\n",
       "<table border=\"1\" class=\"dataframe\">\n",
       "  <thead>\n",
       "    <tr style=\"text-align: right;\">\n",
       "      <th></th>\n",
       "      <th>ID1</th>\n",
       "      <th>ID2</th>\n",
       "    </tr>\n",
       "  </thead>\n",
       "  <tbody>\n",
       "  </tbody>\n",
       "</table>\n",
       "</div>"
      ],
      "text/plain": [
       "Empty DataFrame\n",
       "Columns: [ID1, ID2]\n",
       "Index: []"
      ]
     },
     "execution_count": 34,
     "metadata": {},
     "output_type": "execute_result"
    }
   ],
   "source": [
    "related_pairs[~(related_pairs['ID1'].isin(deleted_samples) | related_pairs['ID2'].isin(deleted_samples))]"
   ]
  },
  {
   "cell_type": "code",
   "execution_count": 100,
   "id": "091bd3eb",
   "metadata": {},
   "outputs": [],
   "source": [
    "with open (\".../450k/samples/relatedness/related_samples_to_remove_final_450k.txt\", \"w\") as f:\n",
    "    for s in samples_to_remove:\n",
    "        f.write(str(s) + \"\\n\")\n",
    "        \n",
    "    for s in deleted_samples:\n",
    "        f.write(str(s) + \"\\n\")"
   ]
  },
  {
   "cell_type": "code",
   "execution_count": 102,
   "id": "f484c459",
   "metadata": {},
   "outputs": [
    {
     "name": "stdout",
     "output_type": "stream",
     "text": [
      "34894 .../450k/samples/relatedness/related_samples_to_remove_final_450k.txt\n"
     ]
    }
   ],
   "source": [
    "!wc -l .../450k/samples/relatedness/related_samples_to_remove_final_450k.txt"
   ]
  },
  {
   "cell_type": "code",
   "execution_count": 52,
   "id": "2fea1f61",
   "metadata": {},
   "outputs": [],
   "source": [
    "with open(\".../450k/samples/european_non_related_no_withdrawal_to_include.txt\", 'r') as f:\n",
    "    european_non_rel_samples = [l.strip() for l in f.readlines()]"
   ]
  },
  {
   "cell_type": "code",
   "execution_count": 58,
   "id": "30451805",
   "metadata": {},
   "outputs": [
    {
     "name": "stdout",
     "output_type": "stream",
     "text": [
      "Deleted samples: 31230\n",
      "European non related samples: 406194\n",
      "Intersection: 27443\n",
      "Deletion: 378751\n"
     ]
    }
   ],
   "source": [
    "deleted_samples = [str(x) for x in deleted_samples]\n",
    "\n",
    "print ('Deleted samples:', len(deleted_samples))\n",
    "print ('European non related samples:', len(european_non_rel_samples))\n",
    "print ('Intersection:', len(set(deleted_samples) & set(european_non_rel_samples)))\n",
    "\n",
    "print ('Deletion:', len(set(european_non_rel_samples) - set(deleted_samples)))"
   ]
  },
  {
   "cell_type": "code",
   "execution_count": 86,
   "id": "34a9c589",
   "metadata": {},
   "outputs": [],
   "source": [
    "deleted_samples_set = set(deleted_samples)\n",
    "\n",
    "with open (\".../450k/samples/european_non_related_no_withdrawal_to_include_450k.txt\", \"w\") as f:\n",
    "    for sample in european_non_rel_samples:\n",
    "        if sample not in deleted_samples_set:\n",
    "            f.write(str(sample) + \"\\n\")"
   ]
  },
  {
   "cell_type": "code",
   "execution_count": 87,
   "id": "c1979bc5",
   "metadata": {},
   "outputs": [
    {
     "name": "stdout",
     "output_type": "stream",
     "text": [
      "378751 .../450k/samples/european_non_related_no_withdrawal_to_include_450k.txt\n"
     ]
    }
   ],
   "source": [
    "!wc -l .../450k/samples/european_non_related_no_withdrawal_to_include_450k.txt"
   ]
  },
  {
   "cell_type": "code",
   "execution_count": 88,
   "id": "9a69d54f",
   "metadata": {},
   "outputs": [
    {
     "name": "stdout",
     "output_type": "stream",
     "text": [
      "406194 .../450k/samples/european_non_related_no_withdrawal_to_include.txt\n"
     ]
    }
   ],
   "source": [
    "!wc -l .../450k/samples/european_non_related_no_withdrawal_to_include.txt"
   ]
  },
  {
   "cell_type": "markdown",
   "id": "9ea3deab",
   "metadata": {},
   "source": [
    "# Final check"
   ]
  },
  {
   "cell_type": "code",
   "execution_count": 28,
   "id": "e2ca5155",
   "metadata": {},
   "outputs": [
    {
     "name": "stdout",
     "output_type": "stream",
     "text": [
      "Number of samples: 378751\n"
     ]
    }
   ],
   "source": [
    "with open(\".../450k/samples/european_non_related_no_withdrawal_to_include_450k.txt\", 'r') as f:\n",
    "    european_non_rel_samples_new = [l.strip() for l in f.readlines()]\n",
    "\n",
    "european_non_rel_samples_new = set(european_non_rel_samples_new)\n",
    "\n",
    "print ('Number of samples:', len(european_non_rel_samples_new))"
   ]
  },
  {
   "cell_type": "code",
   "execution_count": 31,
   "id": "dc181023",
   "metadata": {},
   "outputs": [
    {
     "name": "stdout",
     "output_type": "stream",
     "text": [
      "Number of samples, old: 406194\n"
     ]
    }
   ],
   "source": [
    "with open(\".../450k/samples/european_non_related_no_withdrawal_to_include.txt\", 'r') as f:\n",
    "    european_non_rel_samples = [l.strip() for l in f.readlines()]\n",
    "\n",
    "european_non_rel_samples = set(european_non_rel_samples)\n",
    "print ('Number of samples, old:', len(european_non_rel_samples))"
   ]
  },
  {
   "cell_type": "code",
   "execution_count": 32,
   "id": "f750b896",
   "metadata": {},
   "outputs": [
    {
     "data": {
      "text/plain": [
       "0"
      ]
     },
     "execution_count": 32,
     "metadata": {},
     "output_type": "execute_result"
    }
   ],
   "source": [
    "(related_pairs['ID1'].astype(str).isin(european_non_rel_samples_new) & related_pairs['ID2'].astype(str).isin(european_non_rel_samples_new)).sum()"
   ]
  },
  {
   "cell_type": "code",
   "execution_count": 33,
   "id": "4f212926",
   "metadata": {},
   "outputs": [
    {
     "data": {
      "text/plain": [
       "29115"
      ]
     },
     "execution_count": 33,
     "metadata": {},
     "output_type": "execute_result"
    }
   ],
   "source": [
    "(related_pairs['ID1'].astype(str).isin(european_non_rel_samples_new) | related_pairs['ID2'].astype(str).isin(european_non_rel_samples_new)).sum()"
   ]
  },
  {
   "cell_type": "code",
   "execution_count": 35,
   "id": "179a9a0d",
   "metadata": {},
   "outputs": [
    {
     "data": {
      "text/plain": [
       "30087"
      ]
     },
     "execution_count": 35,
     "metadata": {},
     "output_type": "execute_result"
    }
   ],
   "source": [
    "(related_pairs['ID1'].astype(str).isin(european_non_rel_samples) & related_pairs['ID2'].astype(str).isin(european_non_rel_samples)).sum()"
   ]
  },
  {
   "cell_type": "code",
   "execution_count": null,
   "id": "18b4c9eb",
   "metadata": {},
   "outputs": [],
   "source": []
  }
 ],
 "metadata": {
  "kernelspec": {
   "display_name": "varboost",
   "language": "python",
   "name": "python3"
  },
  "language_info": {
   "codemirror_mode": {
    "name": "ipython",
    "version": 3
   },
   "file_extension": ".py",
   "mimetype": "text/x-python",
   "name": "python",
   "nbconvert_exporter": "python",
   "pygments_lexer": "ipython3",
   "version": "3.12.2"
  },
  "toc": {
   "base_numbering": 1,
   "nav_menu": {},
   "number_sections": true,
   "sideBar": true,
   "skip_h1_title": false,
   "title_cell": "Table of Contents",
   "title_sidebar": "Contents",
   "toc_cell": false,
   "toc_position": {
    "height": "calc(100% - 180px)",
    "left": "10px",
    "top": "150px",
    "width": "200.89674377441406px"
   },
   "toc_section_display": true,
   "toc_window_display": true
  }
 },
 "nbformat": 4,
 "nbformat_minor": 5
}
