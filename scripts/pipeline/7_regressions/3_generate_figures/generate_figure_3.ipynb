{
 "cells": [
  {
   "cell_type": "code",
   "execution_count": null,
   "metadata": {},
   "outputs": [],
   "source": [
    "import pandas as pd\n",
    "import numpy as np\n",
    "import seaborn as sns\n",
    "\n",
    "import matplotlib.pyplot as plt\n",
    "\n",
    "from ukbb_recessive.regression.regressions import sci_notation, plot_errorbar_grouped, plot_errorbar_grouped_transposed\n",
    "\n",
    "from matplotlib import font_manager\n",
    "import matplotlib\n",
    "from matplotlib.cm import get_cmap"
   ]
  },
  {
   "cell_type": "code",
   "execution_count": null,
   "metadata": {},
   "outputs": [],
   "source": [
    "sns.set(style='whitegrid', rc={\"lines.linewidth\": 0.7})\n",
    "\n",
    "\n",
    "# Add fonts\n",
    "font_dirs = ['../../../../data/fonts']\n",
    "font_files = font_manager.findSystemFonts(fontpaths=font_dirs)\n",
    "\n",
    "for font_file in font_files:\n",
    "    font_manager.fontManager.addfont(font_file)\n",
    "    print (\"Added:\", font_file)"
   ]
  },
  {
   "cell_type": "code",
   "execution_count": null,
   "metadata": {},
   "outputs": [],
   "source": [
    "SMALL_SIZE = 5\n",
    "MEDIUM_SIZE = 6\n",
    "BIGGER_SIZE = 7\n",
    "\n",
    "plt.rc('font', size=MEDIUM_SIZE, family='Arimo')          # controls default text sizes\n",
    "# plt.rc('axes', titlesize=MEDIUM_SIZE)     # fontsize of the axes title\n",
    "# plt.rc('axes', labelsize=MEDIUM_SIZE)    # fontsize of the x and y labels\n",
    "# plt.rc('xtick', labelsize=MEDIUM_SIZE)    # fontsize of the tick labels\n",
    "# plt.rc('ytick', labelsize=MEDIUM_SIZE)    # fontsize of the tick labels\n",
    "# plt.rc('legend', fontsize=SMALL_SIZE)    # legend fontsize\n",
    "# plt.rc('figure', titlesize=BIGGER_SIZE)  # fontsize of the figure title\n",
    "\n",
    "plt.rcParams['text.usetex']= False\n",
    "\n",
    "matplotlib.rcParams['pdf.fonttype'] = 42\n",
    "matplotlib.rcParams['ps.fonttype'] = 42"
   ]
  },
  {
   "cell_type": "code",
   "execution_count": null,
   "metadata": {},
   "outputs": [],
   "source": [
    "def configure_axis(ax, ytick_size=MEDIUM_SIZE, xtick_size=MEDIUM_SIZE, xlabel_size=MEDIUM_SIZE, ylabel_size=MEDIUM_SIZE, x_label=None, y_label=None):\n",
    "    # Turn off grid\n",
    "    ax.grid(False) \n",
    "\n",
    "    # Customize spines\n",
    "    ax.spines['left'].set_color('black')\n",
    "    ax.spines['bottom'].set_color('black')\n",
    "    ax.spines['top'].set_visible(False)\n",
    "    ax.spines['right'].set_visible(False)\n",
    "        \n",
    "    # Set tick labels size\n",
    "    ax.tick_params(axis='y', labelsize=ytick_size) \n",
    "    ax.tick_params(axis='x', labelsize=xtick_size) \n",
    "\n",
    "    # Add tick marks\n",
    "    ax.yaxis.set_ticks_position('left')\n",
    "    ax.xaxis.set_ticks_position('bottom')\n",
    "    ax.tick_params(which='major', width=1.00, length=2.5)\n",
    "    ax.tick_params(which='minor', width=0.75, length=1.25)\n",
    "\n",
    "    ax.set_xlabel(x_label, size=xlabel_size)\n",
    "    ax.set_ylabel(y_label, size=ylabel_size)"
   ]
  },
  {
   "cell_type": "markdown",
   "metadata": {},
   "source": [
    "# Load data"
   ]
  },
  {
   "cell_type": "code",
   "execution_count": null,
   "metadata": {},
   "outputs": [],
   "source": [
    "# read raw table\n",
    "reader = pd.ExcelFile('../../../../data/tables/table_basic_regressions_on_[s_het_recessive_all].xlsx')\n",
    "\n",
    "all_results_df_recessive = pd.read_excel(reader, sheet_name=\"Raw data\", header=[0, 1], skiprows=[2])\n",
    "all_results_df_recessive = all_results_df_recessive.drop(all_results_df_recessive.columns[0], axis=1)\n",
    "\n",
    "# prettify p-values\n",
    "new_columns = [(level0, 'p_value_pretty') for level0 in all_results_df_recessive.columns.get_level_values(level=0).unique()]\n",
    "all_results_df_recessive[new_columns] = all_results_df_recessive.loc[:, (slice(None), 'p_value')].applymap(sci_notation)\n",
    "\n",
    "# leave s_het effects only\n",
    "all_results_df_recessive = all_results_df_recessive[all_results_df_recessive[all_results_df_recessive.columns[0]].str.contains('s_het')]"
   ]
  },
  {
   "cell_type": "code",
   "execution_count": null,
   "metadata": {},
   "outputs": [],
   "source": [
    "# read raw table\n",
    "reader = pd.ExcelFile('../../../../data/tables/table_panel_regressions_on_[s_het_recessive_AR_without_ID,_s_het_recessive_ID_total].xlsx')\n",
    "\n",
    "all_results_df = pd.read_excel(reader, sheet_name=\"Raw data\", header=[0, 1], skiprows=[2])\n",
    "all_results_df = all_results_df.drop(all_results_df.columns[0], axis=1)\n",
    "\n",
    "# prettify p-values\n",
    "new_columns = [(level0, 'p_value_pretty') for level0 in all_results_df.columns.get_level_values(level=0).unique()]\n",
    "all_results_df[new_columns] = all_results_df.loc[:, (slice(None), 'p_value')].applymap(sci_notation)\n",
    "\n",
    "# leave s_het effects only\n",
    "all_results_df = all_results_df[all_results_df[all_results_df.columns[0]].str.contains('s_het')]"
   ]
  },
  {
   "cell_type": "code",
   "execution_count": null,
   "metadata": {},
   "outputs": [],
   "source": [
    "plot_results_df = []\n",
    "\n",
    "for dataset_type in ['Weghorn', 'Cassa', 'pLI']:\n",
    "    total_results_dataset = pd.concat([all_results_df[dataset_type], all_results_df_recessive[dataset_type]])\n",
    "    total_results_dataset['type'] = dataset_type\n",
    "\n",
    "    plot_results_df += [total_results_dataset]\n",
    "\n",
    "plot_results_df = pd.concat(plot_results_df)"
   ]
  },
  {
   "cell_type": "code",
   "execution_count": null,
   "metadata": {},
   "outputs": [],
   "source": [
    "renaming_dict_target = {\n",
    "    'any_education_including_none': \"Any education\",\n",
    "    'higher_education_including_none': \"Higher education\",\n",
    "    # 'is_blond': 'Hair color', \n",
    "    'childlessness': 'Childlessness'\n",
    "}\n",
    "\n",
    "renaming_dict_panel = {\n",
    "    's_het_recessive_AR_without_ID': \"Other recessive genes\",\n",
    "    's_het_recessive_ID_total': 'Recessive ID genes', \n",
    "    's_het_recessive_all': \"All recessive genes\"\n",
    "}\n",
    "\n",
    "\n",
    "plot_results_df = plot_results_df[plot_results_df['target'].isin(renaming_dict_target.keys())]\n",
    "plot_results_df['odds_ratio_lower'] = plot_results_df['odds_ratio'] - plot_results_df['odds_ratio_lower']\n",
    "plot_results_df['odds_ratio_upper'] = plot_results_df['odds_ratio_upper'] - plot_results_df['odds_ratio']\n",
    "\n",
    "all_results_df = plot_results_df[plot_results_df['gender'] == 'all']\n",
    "plot_results_df['target'] = plot_results_df['target'].apply(lambda x: renaming_dict_target.get(x, x))\n",
    "plot_results_df['feature'] = plot_results_df['feature'].apply(lambda x: renaming_dict_panel.get(x, x))\n",
    "\n",
    "plot_results_df = plot_results_df.sort_values(by='feature')"
   ]
  },
  {
   "cell_type": "markdown",
   "metadata": {},
   "source": [
    "## Childlessness ratio data"
   ]
  },
  {
   "cell_type": "code",
   "execution_count": null,
   "metadata": {},
   "outputs": [],
   "source": [
    "def s_het_bin(s_het):\n",
    "    if s_het is None:\n",
    "        return None\n",
    "    if s_het <= 0:\n",
    "        return \"0\"\n",
    "    elif s_het <= 0.15:\n",
    "        return \"0-0.15\"\n",
    "    else:\n",
    "        return '> 0.15'"
   ]
  },
  {
   "cell_type": "code",
   "execution_count": null,
   "metadata": {},
   "outputs": [],
   "source": [
    "datasets_path = '../datasets'\n",
    "\n",
    "dataset = pd.read_csv(f\"{datasets_path}/Weghorn-drift.csv\", sep='\\t')\n",
    "    \n",
    "dataset['s_het_recessive_ID_total_bin'] = dataset['s_het_recessive_ID-total'].apply(s_het_bin)\n",
    "dataset.loc[dataset['s_het_recessive_ID-total'].isnull(), 's_het_recessive_ID_total_bin'] = None\n",
    "\n",
    "dataset['s_het_recessive_AR_without_ID_bin'] = dataset['s_het_recessive_AR_without_ID'].apply(s_het_bin)\n",
    "dataset.loc[dataset['s_het_recessive_AR_without_ID'].isnull(), 's_het_recessive_AR_without_ID_bin'] = None"
   ]
  },
  {
   "cell_type": "code",
   "execution_count": null,
   "metadata": {},
   "outputs": [],
   "source": [
    "s_hets=['s_het_recessive_ID_total_bin', 's_het_recessive_AR_without_ID_bin']\n",
    "tags=[ 'Recessive ID genes', 'Other recessive genes']\n",
    "\n",
    "dataset_plot_data = []\n",
    "for s_het, tag in zip(s_hets, tags):\n",
    "    d1 = dataset[['childlessness', 'any_education_including_none', s_het]].copy()\n",
    "    d1.columns = ['childlessness', 'any_education_including_none', 's_het']\n",
    "    d1['tag'] = tag\n",
    "    dataset_plot_data.append(d1)\n",
    "\n",
    "dataset_plot_data = pd.concat(dataset_plot_data)\n",
    "\n",
    "dataset_plot_data = dataset_plot_data.sort_values(by='s_het')"
   ]
  },
  {
   "cell_type": "markdown",
   "metadata": {},
   "source": [
    "## S-het data"
   ]
  },
  {
   "cell_type": "code",
   "execution_count": null,
   "metadata": {},
   "outputs": [],
   "source": [
    "s_het_paths = {\n",
    "    'Weghorn-drift': \"../weghorn_drift_gencode-v34.txt\",\n",
    "    'Cassa': \"../gene_s_het_cassa_all_genes_gencode-v34.txt\",\n",
    "    'PLI': \"../gnomad.v2.1.1.PLI_gencode-v34.txt\", \n",
    "}\n",
    "\n",
    "#gene panel\n",
    "gene_panel = pd.read_csv(\"../gene-panel-gencode-v34.txt\", header=None)\n",
    "gene_panel.columns = ['Gene name', 'Gene panel']\n",
    "\n",
    "gene_panel.loc[gene_panel['Gene panel'] != 'ID-total', 'Gene panel'] = 'Other \\nrecessive'\n",
    "gene_panel.loc[gene_panel['Gene panel'] == 'ID-total', 'Gene panel'] = 'Recessive ID'\n",
    "\n",
    "gene_panel.tail(3)"
   ]
  },
  {
   "cell_type": "code",
   "execution_count": null,
   "metadata": {},
   "outputs": [],
   "source": [
    "\n",
    "\n",
    "s_het_df = pd.read_csv(s_het_paths['Weghorn-drift'], sep='\\t').rename(columns={'gene_symbol': 'Gene name'}).merge(gene_panel, on='Gene name', how='inner')\n",
    "s_het_df['Gene panel'] = s_het_df['Gene panel'].fillna('Non-recessive')\n",
    "\n",
    "s_het_df = s_het_df.sort_values(by=['Gene panel', 's_het'])\n",
    "\n",
    "s_het_df"
   ]
  },
  {
   "cell_type": "code",
   "execution_count": null,
   "metadata": {},
   "outputs": [],
   "source": []
  },
  {
   "cell_type": "markdown",
   "metadata": {},
   "source": [
    "# Plot"
   ]
  },
  {
   "cell_type": "code",
   "execution_count": null,
   "metadata": {},
   "outputs": [],
   "source": [
    "def plot_3a(ax):\n",
    "    y_order = ['Childlessness', 'Any education', 'Higher education']\n",
    "\n",
    "    group_order = ['All recessive genes', 'Recessive ID genes', 'Other recessive genes']\n",
    "\n",
    "    colors=['#006D5B', 'BlueViolet','#F89F5B']\n",
    "\n",
    "    printed_results_df = plot_errorbar_grouped(\n",
    "        df=plot_results_df[plot_results_df['type'] == 'Weghorn'], axis=ax, y_column='target', group_column = 'feature',  \n",
    "        title='', \n",
    "        legend_loc='center right', \n",
    "        group_scale=0.2, y_order=y_order, group_order=group_order, ymargin=0.1, colors=colors)\n",
    "\n",
    "    # Display p-values or any other information in the sidebar\n",
    "    p_values = printed_results_df['p_value_pretty']\n",
    "    or_values = printed_results_df['odds_ratio']\n",
    "    positions = printed_results_df['y']\n",
    "\n",
    "\n",
    "    for i, (p, oddsr, pos) in enumerate(zip(p_values, or_values, positions)):\n",
    "        ax.text(2.5, pos+0.08, f'{oddsr:.2f}   {p}', va='center', size=MEDIUM_SIZE)\n",
    "\n",
    "    configure_axis(ax, x_label=\"OR (99% CI)\", y_label=None, ytick_size=SMALL_SIZE)\n",
    "\n",
    "    legend_handles_labels = ax.get_legend_handles_labels()\n",
    "    ax.get_legend().set_visible(False)\n",
    "\n",
    "    return legend_handles_labels\n",
    "\n",
    "\n",
    "def plot_legend(ax, legend_handles_labels):\n",
    "    legend_kwargs = {\n",
    "        \"frameon\": False,\n",
    "        \"ncol\": 1, \n",
    "        \"labelspacing\": 0.1, \n",
    "        \"markerfirst\": False, \n",
    "        'fontsize': MEDIUM_SIZE\n",
    "    }\n",
    "    ax.legend(legend_handles_labels[0], legend_handles_labels[1], loc='upper left', **legend_kwargs)\n",
    "    ax.axis('off')\n",
    "\n",
    "def plot_3b(ax):\n",
    "\n",
    "    hue_order = ['Recessive ID', 'Other \\nrecessive']\n",
    "    colors = ['BlueViolet','#F89F5B']\n",
    "    \n",
    "    sns.pointplot(\n",
    "        data=s_het_df, x=\"s_het\", y='Gene panel',\n",
    "        estimator='median',\n",
    "        errorbar=(\"ci\", 95), capsize=0,\n",
    "        color=\".5\", order=hue_order, linestyles='', \n",
    "        palette=colors, markers='s', ax=ax\n",
    "    )\n",
    "\n",
    "    configure_axis(ax, x_label=\"Median s-het (95% CI)\")\n",
    "\n",
    "\n",
    "def plot_3cd(ax, target, ylabel):\n",
    "    colors=['BlueViolet','#F89F5B']\n",
    "\n",
    "    sns.barplot(data=dataset_plot_data, y=target, x='s_het', hue='tag', \n",
    "                palette=colors, ax=ax, errorbar=(\"ci\", 95), saturation=1.)\n",
    "    \n",
    "    plt.legend(loc='upper left', frameon=False, fontsize=MEDIUM_SIZE)\n",
    "\n",
    "    configure_axis(ax, y_label=ylabel)"
   ]
  },
  {
   "cell_type": "code",
   "execution_count": null,
   "metadata": {},
   "outputs": [],
   "source": [
    "import matplotlib.ticker as ticker\n",
    "\n",
    "cm = 1/2.54  # centimeters in inches\n",
    "k = 1.\n",
    "\n",
    "fig = plt.figure(constrained_layout=True, figsize=(12*cm*k, 10*cm*k))\n",
    "\n",
    "subfigs = fig.subfigures(nrows=2, ncols=1, height_ratios=[1.5,1], wspace=0.07)\n",
    "\n",
    "# top row\n",
    "top_subfigs = subfigs[0].subfigures(nrows=1, ncols=2, width_ratios=[1.5,1], wspace=0.07)\n",
    "\n",
    "ax = top_subfigs[0].subplots(1, 1)\n",
    "\n",
    "legend_handles_labels = plot_3a(ax)\n",
    "\n",
    "ax = top_subfigs[1].subplots(2, 1, gridspec_kw={'height_ratios': [0.5, 1]})\n",
    "\n",
    "plot_legend(ax[0], legend_handles_labels)\n",
    "plot_3b(ax[1])\n",
    "# ax[1].set_xlim([0.022, 0.05])\n",
    "\n",
    "# bottom row\n",
    "bottom_subfigs = subfigs[1].subfigures(nrows=1, ncols=2, width_ratios=[1,1], wspace=0.07)\n",
    "\n",
    "ax = bottom_subfigs[0].subplots(1, 1)\n",
    "\n",
    "plot_3cd(ax, target = 'childlessness', ylabel=\"Proportion of \\n childless individuals\",)\n",
    "ax.set_ylim(0.17, 0.25)\n",
    "\n",
    "ax = bottom_subfigs[1].subplots(1, 1)\n",
    "\n",
    "plot_3cd(ax, target = 'any_education_including_none', ylabel=\"Proportion of individuals \\n having any education\")\n",
    "ax.set_ylim(0.75, 0.85)\n",
    "\n",
    "plt.savefig(\"../../../../data/plots/figure_3.pdf\", format=\"pdf\", bbox_inches=\"tight\")"
   ]
  },
  {
   "cell_type": "code",
   "execution_count": null,
   "metadata": {},
   "outputs": [],
   "source": [
    "dataset_plot_data['counter'] = 1\n",
    "\n",
    "dataset_plot_data.groupby(['tag', 's_het']).count()"
   ]
  },
  {
   "cell_type": "code",
   "execution_count": null,
   "metadata": {},
   "outputs": [],
   "source": [
    "from scipy.stats import chi2_contingency\n",
    "\n",
    "non_id_data = dataset.loc[dataset['s_het_recessive_AR_without_ID_bin'] == '> 0.15', 'childlessness'].dropna().values\n",
    "success_non_id, nobs_non_id = np.sum(non_id_data), len(non_id_data)\n",
    "\n",
    "id_data = dataset.loc[dataset['s_het_recessive_ID_total_bin'] == '> 0.15', 'childlessness'].dropna().values\n",
    "success_id, nobs_id = np.sum(id_data), len(id_data)\n",
    "\n",
    "# Assuming success1 and success2 are the number of successes in each group\n",
    "# and nobs1 and nobs2 are the total number of observations in each group\n",
    "contingency_table = np.array([[success_non_id, nobs_non_id - success_non_id], [success_id, nobs_id - success_id]])\n",
    "\n",
    "chi2, p_value, _, _ = chi2_contingency(contingency_table)\n",
    "print(\"Chi-square statistic:\", chi2)\n",
    "print(\"P-value:\", p_value)"
   ]
  },
  {
   "cell_type": "code",
   "execution_count": null,
   "metadata": {},
   "outputs": [],
   "source": [
    "\n",
    "from scipy.stats import chi2_contingency\n",
    "\n",
    "non_id_data = dataset.loc[dataset['s_het_recessive_AR_without_ID_bin'] == '> 0.15', 'any_education_including_none'].dropna().values\n",
    "success_non_id, nobs_non_id = np.sum(non_id_data), len(non_id_data)\n",
    "\n",
    "id_data = dataset.loc[dataset['s_het_recessive_ID_total_bin'] == '> 0.15', 'any_education_including_none'].dropna().values\n",
    "success_id, nobs_id = np.sum(id_data), len(id_data)\n",
    "\n",
    "# Assuming success1 and success2 are the number of successes in each group\n",
    "# and nobs1 and nobs2 are the total number of observations in each group\n",
    "contingency_table = np.array([[success_non_id, nobs_non_id - success_non_id], [success_id, nobs_id - success_id]])\n",
    "\n",
    "chi2, p_value, _, _ = chi2_contingency(contingency_table)\n",
    "print(\"Chi-square statistic:\", chi2)\n",
    "print(\"P-value:\", p_value)"
   ]
  },
  {
   "cell_type": "code",
   "execution_count": null,
   "metadata": {},
   "outputs": [],
   "source": [
    "from scipy.stats import mannwhitneyu\n",
    "\n",
    "stat, p_value = mannwhitneyu(\n",
    "    s_het_df.loc[s_het_df['Gene panel'] == 'Other \\nrecessive', 's_het'], \n",
    "    s_het_df.loc[s_het_df['Gene panel'] == 'Recessive ID', 's_het']\n",
    ")\n",
    "\n",
    "print(\"Mann-Whitney U test statistic:\", stat)\n",
    "print(\"P-value:\", p_value)\n"
   ]
  },
  {
   "cell_type": "code",
   "execution_count": null,
   "metadata": {},
   "outputs": [],
   "source": []
  }
 ],
 "metadata": {
  "kernelspec": {
   "display_name": "variant_prio",
   "language": "python",
   "name": "python3"
  },
  "language_info": {
   "codemirror_mode": {
    "name": "ipython",
    "version": 3
   },
   "file_extension": ".py",
   "mimetype": "text/x-python",
   "name": "python",
   "nbconvert_exporter": "python",
   "pygments_lexer": "ipython3",
   "version": "3.7.6"
  }
 },
 "nbformat": 4,
 "nbformat_minor": 2
}
