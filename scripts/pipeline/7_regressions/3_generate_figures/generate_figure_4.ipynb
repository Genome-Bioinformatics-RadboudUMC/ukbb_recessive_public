{
 "cells": [
  {
   "cell_type": "code",
   "execution_count": null,
   "metadata": {},
   "outputs": [],
   "source": [
    "import pandas as pd\n",
    "import numpy as np\n",
    "import seaborn as sns\n",
    "\n",
    "import matplotlib.pyplot as plt\n",
    "\n",
    "from ukbb_recessive.regression.regressions import sci_notation, plot_errorbar_grouped, plot_errorbar_grouped_transposed\n",
    "\n",
    "from matplotlib import font_manager\n",
    "import matplotlib\n",
    "from matplotlib.cm import get_cmap"
   ]
  },
  {
   "cell_type": "code",
   "execution_count": null,
   "metadata": {},
   "outputs": [],
   "source": [
    "sns.set(style='whitegrid', rc={\"lines.linewidth\": 0.7})\n",
    "\n",
    "\n",
    "# Add fonts\n",
    "font_dirs = ['../../../../data/fonts']\n",
    "font_files = font_manager.findSystemFonts(fontpaths=font_dirs)\n",
    "\n",
    "for font_file in font_files:\n",
    "    font_manager.fontManager.addfont(font_file)\n",
    "    print (\"Added:\", font_file)"
   ]
  },
  {
   "cell_type": "code",
   "execution_count": null,
   "metadata": {},
   "outputs": [],
   "source": [
    "SMALL_SIZE = 5\n",
    "MEDIUM_SIZE = 6\n",
    "BIGGER_SIZE = 7\n",
    "\n",
    "plt.rc('font', size=SMALL_SIZE, family='Arimo')          # controls default text sizes\n",
    "plt.rc('axes', titlesize=SMALL_SIZE)     # fontsize of the axes title\n",
    "plt.rc('axes', labelsize=SMALL_SIZE)    # fontsize of the x and y labels\n",
    "plt.rc('xtick', labelsize=SMALL_SIZE)    # fontsize of the tick labels\n",
    "plt.rc('ytick', labelsize=SMALL_SIZE)    # fontsize of the tick labels\n",
    "plt.rc('legend', fontsize=SMALL_SIZE)    # legend fontsize\n",
    "plt.rc('figure', titlesize=MEDIUM_SIZE)  # fontsize of the figure title\n",
    "\n",
    "plt.rcParams['text.usetex']= False\n",
    "\n",
    "matplotlib.rcParams['pdf.fonttype'] = 42\n",
    "matplotlib.rcParams['ps.fonttype'] = 42"
   ]
  },
  {
   "cell_type": "markdown",
   "metadata": {},
   "source": [
    "# Load data"
   ]
  },
  {
   "cell_type": "code",
   "execution_count": null,
   "metadata": {},
   "outputs": [],
   "source": [
    "cr_pie = pd.read_csv(\"../../../../data/tables/CR_pie_data.csv\", sep='\\t')\n",
    "\n",
    "\n",
    "cr_pie['rel'] = cr_pie['First cousins'] / (cr_pie['Non-consanguineous'] + 2.1)\n",
    "\n",
    "cr_pie = cr_pie.sort_values(by='rel', ascending=False)\n",
    "\n",
    "cr_pie"
   ]
  },
  {
   "cell_type": "code",
   "execution_count": null,
   "metadata": {},
   "outputs": [],
   "source": [
    "cr_pie['ID'] = (cr_pie['Panel'] == 'ID').astype(int)\n",
    "\n",
    "cr_pie_id = cr_pie.drop('Panel', axis=1).groupby('ID').sum().reset_index().sort_values(by='ID', ascending=False)\n",
    "\n",
    "cr_pie_id"
   ]
  },
  {
   "cell_type": "code",
   "execution_count": null,
   "metadata": {},
   "outputs": [],
   "source": [
    "def print_vals(pct, allvals):\n",
    "    absolute = int(np.round(pct/100.*np.sum(allvals)))\n",
    "    return f\"{absolute:d}\""
   ]
  },
  {
   "cell_type": "code",
   "execution_count": null,
   "metadata": {},
   "outputs": [],
   "source": [
    "af_df = pd.read_csv(\"../../../../data/tables/figure_3b.csv\")\n",
    "\n",
    "af_df.columns = ['Gene set', 'UK Biobank AF', 'Dutch cohort AF']\n",
    "\n",
    "af_df.head(2)"
   ]
  },
  {
   "cell_type": "markdown",
   "metadata": {},
   "source": [
    "# Plot"
   ]
  },
  {
   "cell_type": "code",
   "execution_count": null,
   "metadata": {},
   "outputs": [],
   "source": [
    "colours = [\n",
    "    \"#176d8f\",\n",
    "    \"#49829f\",\n",
    "    \"#6d97af\",\n",
    "    \"#8fadbf\",\n",
    "    \"#afc3cf\",\n",
    "    \"#d0d9e0\",\n",
    "    \"#f1f1f1\",\n",
    "    \"#f1d4d4\",\n",
    "    \"#f0b8b8\",\n",
    "    \"#ec9c9d\",\n",
    "    \"#e67f83\",\n",
    "    \"#de6069\",\n",
    "    \"#d43d51\"][::-1]"
   ]
  },
  {
   "cell_type": "code",
   "execution_count": null,
   "metadata": {},
   "outputs": [],
   "source": [
    "import matplotlib.ticker as ticker\n",
    "\n",
    "cm = 1/2.54  # centimeters in inches\n",
    "k = 1.\n",
    "fig = plt.figure(constrained_layout=True, figsize=(12*cm*k, 9*cm*k))\n",
    "\n",
    "subfigs = fig.subfigures(nrows=2, ncols=1, height_ratios=[1,0.8],  wspace=0.07)\n",
    "\n",
    "ax = subfigs[0].subplots(1, 3, gridspec_kw={'width_ratios': [1, 1, 0.4]})\n",
    "size = 0.4\n",
    "# cmap = plt.colormaps[\"Set3\"]\n",
    "\n",
    "id_colors = colours[:1] + ['white']*(cr_pie.shape[0]-1)\n",
    "\n",
    "ax[0].pie(cr_pie['Non-consanguineous'], radius=1.1, colors=id_colors, counterclock=False, startangle=90,\n",
    "                    wedgeprops=dict(width=size, edgecolor='w'))\n",
    "\n",
    "patches, texts, _ = ax[0].pie(cr_pie['Non-consanguineous'].values, radius=1, colors=colours, counterclock=False, startangle=90,\n",
    "                           wedgeprops=dict(width=size, edgecolor='w'), \n",
    "                           autopct=lambda x: print_vals(x, cr_pie['Non-consanguineous'].values), pctdistance=0.85)\n",
    "\n",
    "ax[0].set_title(\"Non-consanguineous\")\n",
    "\n",
    "ax[1].pie(cr_pie['First cousins'], radius=1.1, colors=id_colors, counterclock=False, startangle=90,\n",
    "                    wedgeprops=dict(width=size, edgecolor='w'))\n",
    "\n",
    "ax[1].pie(cr_pie['First cousins'].values, radius=1, colors=colours,  counterclock=False, startangle=90,\n",
    "       wedgeprops=dict(width=size, edgecolor='w'), autopct=lambda x: print_vals(x, cr_pie['First cousins'].values), pctdistance=0.85)\n",
    "\n",
    "ax[1].set_title(\"First cousins\")\n",
    "\n",
    "legend_kwargs = {\n",
    "    \"bbox_to_anchor\": (0, 0.2, 1, .102), \n",
    "    \"frameon\": False,\n",
    "    \"mode\": \"expand\", \n",
    "    \"ncol\": 1, \n",
    "    \"labelspacing\": 0.1, \n",
    "    \"markerfirst\": False, \n",
    "    # \"legend_loc\": 'upper left', \n",
    "    'fontsize': SMALL_SIZE\n",
    "}\n",
    "\n",
    "ax[2].legend(patches, cr_pie['Panel'].values, loc=\"lower left\", **legend_kwargs)\n",
    "ax[2].axis('off')\n",
    "\n",
    "ax = subfigs[1].subplots(1, 1)\n",
    "\n",
    "sns.regplot(data=af_df, x='UK Biobank AF', y='Dutch cohort AF', marker='D',  scatter_kws={\"color\": colours[1], 's':2}, color=colours[-2])\n",
    "\n",
    "for row in af_df.values:\n",
    "    gene_set, ukb_af, dutch_af = tuple(row)\n",
    "    if 'Blindness' in gene_set:\n",
    "        dutch_af -= 0.000005\n",
    "    if 'Cilia' in gene_set:\n",
    "        dutch_af += 0.00001\n",
    "        ukb_af +=  0.00001\n",
    "    if 'Multi' in gene_set:\n",
    "        dutch_af += 0.00003\n",
    "        ukb_af +=  0.00001\n",
    "    if 'Derma' in gene_set:\n",
    "        dutch_af += 0.000005\n",
    "    if 'Metabolic-ID' in gene_set:\n",
    "        dutch_af += 0.000005\n",
    "    if 'Deafness' in gene_set:\n",
    "        dutch_af += 0.000025\n",
    "    if (ukb_af >= 0.00045) and ('Deafness' not in gene_set):\n",
    "        plt.annotate(gene_set, (ukb_af+0.0001,  dutch_af-0.000005))\n",
    "    elif (\"ID (2.9\" in gene_set):\n",
    "        plt.annotate(gene_set, (ukb_af+0.00006,  dutch_af-0.000005))\n",
    "    else:\n",
    "        plt.annotate(gene_set, (ukb_af-0.000005,  dutch_af-0.000005))\n",
    "\n",
    "plt.xlim([0.0001, 0.0009])\n",
    "\n",
    "plt.gca().invert_xaxis()\n",
    "plt.gca().invert_yaxis()\n",
    "\n",
    "ax.tick_params(axis='both', labelsize=MEDIUM_SIZE) \n",
    "ax.grid(False)\n",
    "\n",
    "# Customize spines\n",
    "ax.spines['left'].set_color('black')\n",
    "ax.spines['bottom'].set_color('black')\n",
    "ax.spines['top'].set_visible(False)\n",
    "ax.spines['right'].set_visible(False)\n",
    "\n",
    "# Add ticks\n",
    "ax.yaxis.set_ticks_position('left')\n",
    "ax.xaxis.set_ticks_position('bottom')\n",
    "ax.tick_params(which='major', width=1.00, length=2.5)\n",
    "ax.tick_params(which='minor', width=0.75, length=1.25)\n",
    "\n",
    "plt.savefig(\"../../../../data/plots/figure_4.pdf\", format=\"pdf\", bbox_inches=\"tight\")"
   ]
  },
  {
   "cell_type": "code",
   "execution_count": null,
   "metadata": {},
   "outputs": [],
   "source": []
  }
 ],
 "metadata": {
  "kernelspec": {
   "display_name": "variant_prio",
   "language": "python",
   "name": "python3"
  },
  "language_info": {
   "codemirror_mode": {
    "name": "ipython",
    "version": 3
   },
   "file_extension": ".py",
   "mimetype": "text/x-python",
   "name": "python",
   "nbconvert_exporter": "python",
   "pygments_lexer": "ipython3",
   "version": "3.7.6"
  }
 },
 "nbformat": 4,
 "nbformat_minor": 2
}
