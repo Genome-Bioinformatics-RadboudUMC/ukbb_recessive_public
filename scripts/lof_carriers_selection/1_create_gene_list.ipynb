{
 "cells": [
  {
   "cell_type": "markdown",
   "id": "bbe0c6fa",
   "metadata": {},
   "source": [
    "This script contains the code to create a gene list with `s_het>=0.15`, that contains gene start and end positions + flanking regions of 10bp.\n",
    "\n",
    "This code is executed locally (not in the Research Analysis Platform)."
   ]
  },
  {
   "cell_type": "code",
   "execution_count": 1,
   "id": "0efbced4",
   "metadata": {},
   "outputs": [],
   "source": [
    "import pandas as pd\n",
    "from pybiomart import Dataset\n",
    "\n",
    "# path to the working folder\n",
    "workfolder =  ..."
   ]
  },
  {
   "cell_type": "markdown",
   "id": "2303559a",
   "metadata": {},
   "source": [
    "# Get s_het data from Weghorn et al."
   ]
  },
  {
   "cell_type": "markdown",
   "id": "1a93132d",
   "metadata": {},
   "source": [
    "1. We download data from Weghorn et al., that contains the information about s-het scores per gene. (https://academic.oup.com/mbe/article/36/8/1701/5475505#supplementary-data) and save as `Supplementary_Table_1_weghorn.txt` in `workfodler`. \n",
    "\n",
    "2. We select genes with high s-het scores, that is s-het >= 0.15. "
   ]
  },
  {
   "cell_type": "code",
   "execution_count": 2,
   "id": "133cb396",
   "metadata": {},
   "outputs": [
    {
     "data": {
      "text/plain": [
       "(16279, 10)"
      ]
     },
     "execution_count": 2,
     "metadata": {},
     "output_type": "execute_result"
    }
   ],
   "source": [
    "# read s_het file from Weghorn et al.\n",
    "\n",
    "s_het = pd.read_csv(f\"{workfolder}/Supplementary_Table_1_weghorn.txt\", sep='\\t')\n",
    "\n",
    "s_het.shape"
   ]
  },
  {
   "cell_type": "code",
   "execution_count": 3,
   "id": "a47208bd",
   "metadata": {},
   "outputs": [
    {
     "data": {
      "text/plain": [
       "(1983, 2)"
      ]
     },
     "execution_count": 3,
     "metadata": {},
     "output_type": "execute_result"
    }
   ],
   "source": [
    "# get high s_het genes \n",
    "# use s_het with modeled drift (s_het_drift) \n",
    "\n",
    "high_s_het = s_het[s_het['s_het_drift'] >= 0.15]\n",
    "high_s_het = high_s_het[['Gene', 's_het_drift']]\n",
    "\n",
    "\n",
    "high_s_het.shape"
   ]
  },
  {
   "cell_type": "code",
   "execution_count": 4,
   "id": "46d2c164",
   "metadata": {},
   "outputs": [
    {
     "data": {
      "text/html": [
       "<div>\n",
       "<style scoped>\n",
       "    .dataframe tbody tr th:only-of-type {\n",
       "        vertical-align: middle;\n",
       "    }\n",
       "\n",
       "    .dataframe tbody tr th {\n",
       "        vertical-align: top;\n",
       "    }\n",
       "\n",
       "    .dataframe thead th {\n",
       "        text-align: right;\n",
       "    }\n",
       "</style>\n",
       "<table border=\"1\" class=\"dataframe\">\n",
       "  <thead>\n",
       "    <tr style=\"text-align: right;\">\n",
       "      <th></th>\n",
       "      <th>Gene</th>\n",
       "      <th>s_het_drift</th>\n",
       "    </tr>\n",
       "  </thead>\n",
       "  <tbody>\n",
       "    <tr>\n",
       "      <th>30</th>\n",
       "      <td>ABCA2</td>\n",
       "      <td>0.258261</td>\n",
       "    </tr>\n",
       "    <tr>\n",
       "      <th>47</th>\n",
       "      <td>ABCD1</td>\n",
       "      <td>0.185187</td>\n",
       "    </tr>\n",
       "    <tr>\n",
       "      <th>51</th>\n",
       "      <td>ABCE1</td>\n",
       "      <td>0.333416</td>\n",
       "    </tr>\n",
       "  </tbody>\n",
       "</table>\n",
       "</div>"
      ],
      "text/plain": [
       "     Gene  s_het_drift\n",
       "30  ABCA2     0.258261\n",
       "47  ABCD1     0.185187\n",
       "51  ABCE1     0.333416"
      ]
     },
     "execution_count": 4,
     "metadata": {},
     "output_type": "execute_result"
    }
   ],
   "source": [
    "high_s_het.head(3)"
   ]
  },
  {
   "cell_type": "markdown",
   "id": "2b80e466",
   "metadata": {},
   "source": [
    "Now, UKBB data is aligned to GRCh38, s-het data is for GRCh37, therefore we need to map GRCh37 gene names to GRCh38 positions, we do that through mapping by `HGNC-id`.  "
   ]
  },
  {
   "cell_type": "markdown",
   "id": "541abac5",
   "metadata": {},
   "source": [
    "# Get HGNC ID for GRCh37"
   ]
  },
  {
   "cell_type": "markdown",
   "id": "38df4772",
   "metadata": {},
   "source": [
    "1. Download `HGNC-id` -- `chromosome/scaffold` -- `HGNC-symbol` from Ensembl for GRCH37\n",
    "\n",
    "2. Remove all scaffolds, that are not attributed to chromosomes\n",
    "\n",
    "3. Maintain only `HGNC-id` -- `HGNC-symbol`  mapping"
   ]
  },
  {
   "cell_type": "code",
   "execution_count": 5,
   "id": "4bf822f3",
   "metadata": {},
   "outputs": [
    {
     "data": {
      "text/html": [
       "<div>\n",
       "<style scoped>\n",
       "    .dataframe tbody tr th:only-of-type {\n",
       "        vertical-align: middle;\n",
       "    }\n",
       "\n",
       "    .dataframe tbody tr th {\n",
       "        vertical-align: top;\n",
       "    }\n",
       "\n",
       "    .dataframe thead th {\n",
       "        text-align: right;\n",
       "    }\n",
       "</style>\n",
       "<table border=\"1\" class=\"dataframe\">\n",
       "  <thead>\n",
       "    <tr style=\"text-align: right;\">\n",
       "      <th></th>\n",
       "      <th>HGNC ID</th>\n",
       "      <th>HGNC symbol</th>\n",
       "    </tr>\n",
       "  </thead>\n",
       "  <tbody>\n",
       "    <tr>\n",
       "      <th>2</th>\n",
       "      <td>19121.0</td>\n",
       "      <td>HMGA1P6</td>\n",
       "    </tr>\n",
       "    <tr>\n",
       "      <th>3</th>\n",
       "      <td>42488.0</td>\n",
       "      <td>RNY3P4</td>\n",
       "    </tr>\n",
       "    <tr>\n",
       "      <th>4</th>\n",
       "      <td>42682.0</td>\n",
       "      <td>LINC00362</td>\n",
       "    </tr>\n",
       "  </tbody>\n",
       "</table>\n",
       "</div>"
      ],
      "text/plain": [
       "   HGNC ID HGNC symbol\n",
       "2  19121.0     HMGA1P6\n",
       "3  42488.0      RNY3P4\n",
       "4  42682.0   LINC00362"
      ]
     },
     "execution_count": 5,
     "metadata": {},
     "output_type": "execute_result"
    }
   ],
   "source": [
    "# query data from ensembl \n",
    "dataset = Dataset(name='hsapiens_gene_ensembl',  host='http://grch37.ensembl.org')\n",
    "\n",
    "hg37_table = dataset.query(\n",
    "    attributes=['hgnc_id','chromosome_name', 'hgnc_symbol'])\n",
    "\n",
    "# drop scaffolds not mapped to chromosomes\n",
    "hg37_table = hg37_table[~hg37_table['Chromosome/scaffold name'].apply(\n",
    "    lambda x: x.startswith('CHR_') or 'H' in x or x.startswith('GL'))]\n",
    "\n",
    "# leave only mapping information\n",
    "hg37_table = hg37_table[['HGNC ID', 'HGNC symbol']].dropna().drop_duplicates()\n",
    "\n",
    "hg37_table.head(3)"
   ]
  },
  {
   "cell_type": "markdown",
   "id": "3fc84304",
   "metadata": {},
   "source": [
    "# Get ensembl gene locations for GRCh38"
   ]
  },
  {
   "cell_type": "markdown",
   "id": "d1bfc1e5",
   "metadata": {},
   "source": [
    "1. Download `chromosome/scaffold` -- `start position` -- `end position` -- `HGNC-id` -- `HGNC-symbol` from Ensembl for GRCh38.\n",
    "\n",
    "2. Remove all scaffolds, that are not attributed to chromosomes.\n",
    "\n",
    "3. Edit `HGNC-id` so that it will match GRCh37 format (GRCh38 starts with \"HGNC:\", while GRCh37 not)."
   ]
  },
  {
   "cell_type": "code",
   "execution_count": 6,
   "id": "7cff035b",
   "metadata": {},
   "outputs": [
    {
     "data": {
      "text/plain": [
       "(40104, 5)"
      ]
     },
     "execution_count": 6,
     "metadata": {},
     "output_type": "execute_result"
    }
   ],
   "source": [
    "# load data\n",
    "dataset = Dataset(name='hsapiens_gene_ensembl',  host='http://www.ensembl.org')\n",
    "\n",
    "hg38_table = dataset.query(attributes=[\n",
    "    'chromosome_name','start_position','end_position','hgnc_id','hgnc_symbol'])\n",
    "\n",
    "# drop scaffolds not mapped to chromosomes\n",
    "hg38_table = hg38_table[~hg38_table['Chromosome/scaffold name'].apply(\n",
    "    lambda x: x.startswith('CHR_') or 'H' in x or x.startswith('GL'))]\n",
    "\n",
    "# drop rows with NA values\n",
    "hg38_table = hg38_table.dropna()\n",
    "\n",
    "# edit NGNC field to have the same format as in GRCh37\n",
    "hg38_table['HGNC ID'] = hg38_table['HGNC ID'].apply(\n",
    "    lambda x: x.replace('HGNC:', '') if x else x).astype(float)\n",
    "\n",
    "hg38_table.shape"
   ]
  },
  {
   "cell_type": "markdown",
   "id": "4c049aa7",
   "metadata": {},
   "source": [
    "# Map s_het from GRCh37 to GRCh38 gene names using HGNC ID"
   ]
  },
  {
   "cell_type": "markdown",
   "id": "359b8241",
   "metadata": {},
   "source": [
    "We add gene start and end position to s-het table by following this steps: \n",
    "\n",
    "\n",
    "1. Rename s-het table column name from `Gene` to `HGNC symbol`\n",
    "\n",
    "2. Add GRCh37 `HGNC-id` information to s-het table by merhing on `HGNC symbol`\n",
    "\n",
    "3.  Rename s-het table column name from `HGNC symbol` to `HGNC symbol GRCh37`\n",
    "\n",
    "4. Add GRCh38 `chromosome` -- `start position` -- `end position` -- `HGNC symbol` to s-het table by merging on `HGNC symbol` \n",
    "\n",
    "5. Save resulting s-het table as `high_s_het_gene_list.bed`\n",
    "\n",
    "6. Add 10bp flanking region to gene `start position` -- `end position` and save as `high_s_het_gene_list_10bp.bed`\n",
    "\n",
    "7. Upload `high_s_het_gene_list_10bp.bed` to UKBB RAP for further usage."
   ]
  },
  {
   "cell_type": "code",
   "execution_count": 7,
   "id": "7eb438cf",
   "metadata": {},
   "outputs": [
    {
     "name": "stdout",
     "output_type": "stream",
     "text": [
      "Total rows: 1983\n"
     ]
    },
    {
     "data": {
      "text/html": [
       "<div>\n",
       "<style scoped>\n",
       "    .dataframe tbody tr th:only-of-type {\n",
       "        vertical-align: middle;\n",
       "    }\n",
       "\n",
       "    .dataframe tbody tr th {\n",
       "        vertical-align: top;\n",
       "    }\n",
       "\n",
       "    .dataframe thead th {\n",
       "        text-align: right;\n",
       "    }\n",
       "</style>\n",
       "<table border=\"1\" class=\"dataframe\">\n",
       "  <thead>\n",
       "    <tr style=\"text-align: right;\">\n",
       "      <th></th>\n",
       "      <th>HGNC symbol</th>\n",
       "      <th>s_het_drift</th>\n",
       "    </tr>\n",
       "  </thead>\n",
       "  <tbody>\n",
       "    <tr>\n",
       "      <th>30</th>\n",
       "      <td>ABCA2</td>\n",
       "      <td>0.258261</td>\n",
       "    </tr>\n",
       "    <tr>\n",
       "      <th>47</th>\n",
       "      <td>ABCD1</td>\n",
       "      <td>0.185187</td>\n",
       "    </tr>\n",
       "    <tr>\n",
       "      <th>51</th>\n",
       "      <td>ABCE1</td>\n",
       "      <td>0.333416</td>\n",
       "    </tr>\n",
       "  </tbody>\n",
       "</table>\n",
       "</div>"
      ],
      "text/plain": [
       "   HGNC symbol  s_het_drift\n",
       "30       ABCA2     0.258261\n",
       "47       ABCD1     0.185187\n",
       "51       ABCE1     0.333416"
      ]
     },
     "execution_count": 7,
     "metadata": {},
     "output_type": "execute_result"
    }
   ],
   "source": [
    "# Rename gene name column\n",
    "\n",
    "high_s_het = high_s_het.rename(columns={'Gene': 'HGNC symbol'})\n",
    "\n",
    "print ('Total rows:', high_s_het.shape[0])\n",
    "\n",
    "high_s_het.head(3)"
   ]
  },
  {
   "cell_type": "code",
   "execution_count": 8,
   "id": "5a2ed928",
   "metadata": {},
   "outputs": [
    {
     "name": "stdout",
     "output_type": "stream",
     "text": [
      "Total rows: 1975\n"
     ]
    },
    {
     "data": {
      "text/html": [
       "<div>\n",
       "<style scoped>\n",
       "    .dataframe tbody tr th:only-of-type {\n",
       "        vertical-align: middle;\n",
       "    }\n",
       "\n",
       "    .dataframe tbody tr th {\n",
       "        vertical-align: top;\n",
       "    }\n",
       "\n",
       "    .dataframe thead th {\n",
       "        text-align: right;\n",
       "    }\n",
       "</style>\n",
       "<table border=\"1\" class=\"dataframe\">\n",
       "  <thead>\n",
       "    <tr style=\"text-align: right;\">\n",
       "      <th></th>\n",
       "      <th>HGNC symbol</th>\n",
       "      <th>s_het_drift</th>\n",
       "      <th>HGNC ID</th>\n",
       "    </tr>\n",
       "  </thead>\n",
       "  <tbody>\n",
       "    <tr>\n",
       "      <th>0</th>\n",
       "      <td>ABCA2</td>\n",
       "      <td>0.258261</td>\n",
       "      <td>32.0</td>\n",
       "    </tr>\n",
       "    <tr>\n",
       "      <th>1</th>\n",
       "      <td>ABCD1</td>\n",
       "      <td>0.185187</td>\n",
       "      <td>61.0</td>\n",
       "    </tr>\n",
       "    <tr>\n",
       "      <th>2</th>\n",
       "      <td>ABCE1</td>\n",
       "      <td>0.333416</td>\n",
       "      <td>69.0</td>\n",
       "    </tr>\n",
       "  </tbody>\n",
       "</table>\n",
       "</div>"
      ],
      "text/plain": [
       "  HGNC symbol  s_het_drift  HGNC ID\n",
       "0       ABCA2     0.258261     32.0\n",
       "1       ABCD1     0.185187     61.0\n",
       "2       ABCE1     0.333416     69.0"
      ]
     },
     "execution_count": 8,
     "metadata": {},
     "output_type": "execute_result"
    }
   ],
   "source": [
    "# add HGNC ID information\n",
    "\n",
    "high_s_het = high_s_het.merge(hg37_table, on='HGNC symbol')\n",
    "\n",
    "print ('Total rows:', high_s_het.shape[0])\n",
    "\n",
    "high_s_het.head(3)"
   ]
  },
  {
   "cell_type": "code",
   "execution_count": 9,
   "id": "b05f5a3d",
   "metadata": {},
   "outputs": [
    {
     "name": "stdout",
     "output_type": "stream",
     "text": [
      "Total rows: 1975\n"
     ]
    },
    {
     "data": {
      "text/html": [
       "<div>\n",
       "<style scoped>\n",
       "    .dataframe tbody tr th:only-of-type {\n",
       "        vertical-align: middle;\n",
       "    }\n",
       "\n",
       "    .dataframe tbody tr th {\n",
       "        vertical-align: top;\n",
       "    }\n",
       "\n",
       "    .dataframe thead th {\n",
       "        text-align: right;\n",
       "    }\n",
       "</style>\n",
       "<table border=\"1\" class=\"dataframe\">\n",
       "  <thead>\n",
       "    <tr style=\"text-align: right;\">\n",
       "      <th></th>\n",
       "      <th>HGNC symbol GRCh37</th>\n",
       "      <th>s_het_drift</th>\n",
       "      <th>HGNC ID</th>\n",
       "    </tr>\n",
       "  </thead>\n",
       "  <tbody>\n",
       "    <tr>\n",
       "      <th>0</th>\n",
       "      <td>ABCA2</td>\n",
       "      <td>0.258261</td>\n",
       "      <td>32.0</td>\n",
       "    </tr>\n",
       "    <tr>\n",
       "      <th>1</th>\n",
       "      <td>ABCD1</td>\n",
       "      <td>0.185187</td>\n",
       "      <td>61.0</td>\n",
       "    </tr>\n",
       "    <tr>\n",
       "      <th>2</th>\n",
       "      <td>ABCE1</td>\n",
       "      <td>0.333416</td>\n",
       "      <td>69.0</td>\n",
       "    </tr>\n",
       "  </tbody>\n",
       "</table>\n",
       "</div>"
      ],
      "text/plain": [
       "  HGNC symbol GRCh37  s_het_drift  HGNC ID\n",
       "0              ABCA2     0.258261     32.0\n",
       "1              ABCD1     0.185187     61.0\n",
       "2              ABCE1     0.333416     69.0"
      ]
     },
     "execution_count": 9,
     "metadata": {},
     "output_type": "execute_result"
    }
   ],
   "source": [
    "# Rename gene name column\n",
    "\n",
    "high_s_het = high_s_het.rename(columns={'HGNC symbol': 'HGNC symbol GRCh37'})\n",
    "\n",
    "print ('Total rows:', high_s_het.shape[0])\n",
    "\n",
    "high_s_het.head(3)"
   ]
  },
  {
   "cell_type": "code",
   "execution_count": 10,
   "id": "a3c5d932",
   "metadata": {},
   "outputs": [
    {
     "name": "stdout",
     "output_type": "stream",
     "text": [
      "Total rows: 1974\n"
     ]
    },
    {
     "data": {
      "text/html": [
       "<div>\n",
       "<style scoped>\n",
       "    .dataframe tbody tr th:only-of-type {\n",
       "        vertical-align: middle;\n",
       "    }\n",
       "\n",
       "    .dataframe tbody tr th {\n",
       "        vertical-align: top;\n",
       "    }\n",
       "\n",
       "    .dataframe thead th {\n",
       "        text-align: right;\n",
       "    }\n",
       "</style>\n",
       "<table border=\"1\" class=\"dataframe\">\n",
       "  <thead>\n",
       "    <tr style=\"text-align: right;\">\n",
       "      <th></th>\n",
       "      <th>HGNC symbol GRCh37</th>\n",
       "      <th>s_het_drift</th>\n",
       "      <th>HGNC ID</th>\n",
       "      <th>Chromosome/scaffold name</th>\n",
       "      <th>Gene start (bp)</th>\n",
       "      <th>Gene end (bp)</th>\n",
       "      <th>HGNC symbol</th>\n",
       "    </tr>\n",
       "  </thead>\n",
       "  <tbody>\n",
       "    <tr>\n",
       "      <th>0</th>\n",
       "      <td>ABCA2</td>\n",
       "      <td>0.258261</td>\n",
       "      <td>32.0</td>\n",
       "      <td>9</td>\n",
       "      <td>137007234</td>\n",
       "      <td>137028915</td>\n",
       "      <td>ABCA2</td>\n",
       "    </tr>\n",
       "    <tr>\n",
       "      <th>1</th>\n",
       "      <td>ABCD1</td>\n",
       "      <td>0.185187</td>\n",
       "      <td>61.0</td>\n",
       "      <td>X</td>\n",
       "      <td>153724856</td>\n",
       "      <td>153744755</td>\n",
       "      <td>ABCD1</td>\n",
       "    </tr>\n",
       "    <tr>\n",
       "      <th>2</th>\n",
       "      <td>ABCE1</td>\n",
       "      <td>0.333416</td>\n",
       "      <td>69.0</td>\n",
       "      <td>4</td>\n",
       "      <td>145098288</td>\n",
       "      <td>145129524</td>\n",
       "      <td>ABCE1</td>\n",
       "    </tr>\n",
       "  </tbody>\n",
       "</table>\n",
       "</div>"
      ],
      "text/plain": [
       "  HGNC symbol GRCh37  s_het_drift  HGNC ID Chromosome/scaffold name  \\\n",
       "0              ABCA2     0.258261     32.0                        9   \n",
       "1              ABCD1     0.185187     61.0                        X   \n",
       "2              ABCE1     0.333416     69.0                        4   \n",
       "\n",
       "   Gene start (bp)  Gene end (bp) HGNC symbol  \n",
       "0        137007234      137028915       ABCA2  \n",
       "1        153724856      153744755       ABCD1  \n",
       "2        145098288      145129524       ABCE1  "
      ]
     },
     "execution_count": 10,
     "metadata": {},
     "output_type": "execute_result"
    }
   ],
   "source": [
    "# Add gene name and location in GRC38\n",
    "\n",
    "high_s_het = high_s_het.merge(hg38_table, on='HGNC ID')\n",
    "\n",
    "# save as csv\n",
    "high_s_het.to_csv(f'{workfolder}/high_s_het_gene_list.csv', sep='\\t', index=False)\n",
    "\n",
    "print ('Total rows:', high_s_het.shape[0])\n",
    "\n",
    "high_s_het.head(3)"
   ]
  },
  {
   "cell_type": "code",
   "execution_count": 11,
   "id": "26923916",
   "metadata": {},
   "outputs": [],
   "source": [
    "# Add 10 bp, sort and save as bed file\n",
    "\n",
    "high_s_het['Gene start (bp)'] = high_s_het['Gene start (bp)'] - 10\n",
    "high_s_het['Gene end (bp)'] = high_s_het['Gene end (bp)'] + 10\n",
    "\n",
    "\n",
    "high_s_het = high_s_het.sort_values(\n",
    "    by=['Chromosome/scaffold name', 'Gene start (bp)'])\n",
    "\n",
    "high_s_het[['Chromosome/scaffold name', \n",
    "            'Gene start (bp)',\n",
    "            'Gene end (bp)']].to_csv(f'{workfolder}/high_s_het_gene_list_10bp.bed',\n",
    "                                     header=False, sep='\\t', index=False)"
   ]
  },
  {
   "cell_type": "markdown",
   "id": "c751c452",
   "metadata": {},
   "source": [
    "This file `high_s_het_gene_list_10bp.bed` should be uploaded to UKBB RAP for further usage."
   ]
  }
 ],
 "metadata": {
  "kernelspec": {
   "display_name": "Python (variant_prio)",
   "language": "python",
   "name": "variant_prio"
  },
  "language_info": {
   "codemirror_mode": {
    "name": "ipython",
    "version": 3
   },
   "file_extension": ".py",
   "mimetype": "text/x-python",
   "name": "python",
   "nbconvert_exporter": "python",
   "pygments_lexer": "ipython3",
   "version": "3.7.6"
  },
  "toc": {
   "base_numbering": 1,
   "nav_menu": {},
   "number_sections": true,
   "sideBar": true,
   "skip_h1_title": false,
   "title_cell": "Table of Contents",
   "title_sidebar": "Contents",
   "toc_cell": false,
   "toc_position": {
    "height": "calc(100% - 180px)",
    "left": "10px",
    "top": "150px",
    "width": "294.59375px"
   },
   "toc_section_display": true,
   "toc_window_display": true
  }
 },
 "nbformat": 4,
 "nbformat_minor": 5
}
