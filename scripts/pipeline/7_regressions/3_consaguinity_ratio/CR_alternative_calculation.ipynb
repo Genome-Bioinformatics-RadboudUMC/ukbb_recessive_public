{
 "cells": [
  {
   "cell_type": "code",
   "execution_count": null,
   "metadata": {},
   "outputs": [],
   "source": [
    "import pandas as pd\n",
    "import seaborn as sns\n",
    "import numpy as np\n",
    "\n",
    "import matplotlib.pyplot as plt\n",
    "\n",
    "sns.set_style(\"whitegrid\")\n",
    "\n",
    "from matplotlib import font_manager\n",
    "import matplotlib\n"
   ]
  },
  {
   "cell_type": "code",
   "execution_count": null,
   "metadata": {},
   "outputs": [],
   "source": [
    "# Add fonts\n",
    "font_dirs = ['../../../../data/fonts']\n",
    "font_files = font_manager.findSystemFonts(fontpaths=font_dirs)\n",
    "\n",
    "for font_file in font_files:\n",
    "    font_manager.fontManager.addfont(font_file)\n",
    "    print (\"Added:\", font_file)"
   ]
  },
  {
   "cell_type": "code",
   "execution_count": null,
   "metadata": {},
   "outputs": [],
   "source": [
    "SMALL_SIZE = 16\n",
    "MEDIUM_SIZE = 22\n",
    "BIGGER_SIZE = 24\n",
    "\n",
    "plt.rc('font', size=SMALL_SIZE, family='Arimo')          # controls default text sizes\n",
    "plt.rc('axes', titlesize=BIGGER_SIZE)     # fontsize of the axes title\n",
    "plt.rc('axes', labelsize=BIGGER_SIZE)    # fontsize of the x and y labels\n",
    "plt.rc('xtick', labelsize=MEDIUM_SIZE)    # fontsize of the tick labels\n",
    "plt.rc('ytick', labelsize=MEDIUM_SIZE)    # fontsize of the tick labels\n",
    "plt.rc('legend', fontsize=SMALL_SIZE)    # legend fontsize\n",
    "plt.rc('figure', titlesize=BIGGER_SIZE)  # fontsize of the figure title\n",
    "\n",
    "plt.rcParams['text.usetex']= False\n",
    "\n",
    "matplotlib.rcParams['pdf.fonttype'] = 42\n",
    "matplotlib.rcParams['ps.fonttype'] = 42\n"
   ]
  },
  {
   "cell_type": "code",
   "execution_count": null,
   "metadata": {},
   "outputs": [],
   "source": [
    "gene_panel = pd.read_csv(\".../gene-panel-gencode-v34.txt\", header=None)\n",
    "gene_panel.columns = ['gene', 'panel']\n",
    "\n",
    "gene_panel.head(3)"
   ]
  },
  {
   "cell_type": "code",
   "execution_count": null,
   "metadata": {},
   "outputs": [],
   "source": [
    "cr_df = pd.read_csv(\"../../../../data/tables/CR_panel.csv\")\n",
    "cr_df.head(3)"
   ]
  },
  {
   "cell_type": "code",
   "execution_count": null,
   "metadata": {},
   "outputs": [],
   "source": [
    "cohort = 406194\n",
    "alleles = 2*cohort\n",
    "\n",
    "plps = pd.read_csv(\".../450k/plp_selection/basic/new_gene_names/\"\n",
    "                   \"new_freq/all_chr_total_presumable_plps_HFE_final_sorted.txt\", sep='\\t')\n",
    "\n",
    "plps = plps.merge(gene_panel, on='gene')\n",
    "\n",
    "print(\"Number of PLPs:\", plps.shape[0])\n",
    "\n",
    "plps.head(3)"
   ]
  },
  {
   "cell_type": "code",
   "execution_count": null,
   "metadata": {},
   "outputs": [],
   "source": [
    "renaming_dict_panel = {\n",
    "\t'Cilia+Kidney': 'Cilia + Kidney',\n",
    "\t'Derm': 'Dermatologic',\n",
    "\t'ID-total': 'ID',\n",
    "\t'Immune_system': 'Immune system',\n",
    "\t'Overlaps': 'Multi-system',\n",
    "\t'Skeletal+Craniofacial': 'Skeletal'\n",
    "}\n",
    "\n",
    "mild_plps = pd.read_csv(\".../450k/plp_selection/basic/new_gene_names/new_freq/all_chr_total_presumable_plp_mild_var.txt\", \n",
    "sep='\\t', header=None)\n",
    "\n",
    "mild_plps.columns = ['chr', 'pos', 'ref', 'alt', 'gene', 'panel']\n",
    "mild_plps['is_mild'] = 1\n",
    "\n",
    "plps = plps.merge(mild_plps, how='left')\n",
    "\n",
    "plps['is_mild'] = plps['is_mild'].fillna(0)\n",
    "\n",
    "plps['hets_s'] = plps['hets'] * (1-plps['is_mild'])\n",
    "plps['homs_s'] = plps['homs'] * (1-plps['is_mild'])\n",
    "\n",
    "\n",
    "plps['hets_m'] = plps['hets'] * plps['is_mild']\n",
    "plps['homs_m'] = plps['homs'] * plps['is_mild']\n",
    "\n",
    "plps['panel'] = plps['panel'].apply(lambda x: renaming_dict_panel.get(x, x))\n",
    "\n",
    "plps.head(3)"
   ]
  },
  {
   "cell_type": "code",
   "execution_count": null,
   "metadata": {},
   "outputs": [],
   "source": [
    "# calculate number hets and homs per gene by summing numbers across variants\n",
    "plps_gene = plps[['gene', 'panel', 'hets_s', 'homs_s', 'hets_m', 'homs_m', 'hets', 'homs']].groupby(['gene', 'panel']).sum().reset_index()\n",
    "\n",
    "plps_gene = plps_gene[~plps_gene['panel'].isin(['Tumor', 'No_panel', 'Cardiovascular'])]\n",
    "\n",
    "# calculate AC, AF, Hardy-Weinberg 2pq, at-risk-couples probability and consaguinos-risk probability per gene\n",
    "plps_gene['AC'] = (plps_gene['hets'] + 2*plps_gene['homs']) \n",
    "plps_gene['AC_s'] = (plps_gene['hets_s'] + 2*plps_gene['homs_s']) \n",
    "plps_gene['AC_m'] = (plps_gene['hets_m'] + 2*plps_gene['homs_m']) \n",
    "\n",
    "plps_gene['AF'] = plps_gene['AC']*1./alleles\n",
    "plps_gene['AF_s'] = plps_gene['AC_s']*1./alleles\n",
    "plps_gene['AF_m'] = plps_gene['AC_m']*1./alleles\n",
    "\n",
    "plps_gene['hets_prob'] = 2*plps_gene['AF']*(1-plps_gene['AF'])\n",
    "plps_gene['hets_prob_s'] = 2*plps_gene['AF_s']*(1-plps_gene['AF_s'])\n",
    "plps_gene['hets_prob_m'] = 2*plps_gene['AF_m']*(1-plps_gene['AF_m'])\n",
    "\n",
    "\n",
    "plps_gene['ARC'] = (plps_gene['hets_prob_s']*plps_gene['hets_prob_s']) + 2*plps_gene['hets_prob_s']*plps_gene['hets_prob_m'] \n",
    "plps_gene['Cons'] = plps_gene['hets_prob_s']*(1./8)\n",
    "\n",
    "plps_gene.head(3)"
   ]
  },
  {
   "cell_type": "code",
   "execution_count": null,
   "metadata": {},
   "outputs": [],
   "source": [
    "# calculate statistics per panel\n",
    "plps_panel = plps_gene.drop('gene', axis=1).groupby('panel').agg({'Cons': 'sum', 'ARC': 'sum', 'AF': 'std'}).reset_index()\n",
    "\n",
    "plps_panel['CR_hila'] = plps_panel['Cons']/plps_panel['ARC']\n",
    "\n",
    "plps_panel = plps_panel.sort_values(by='CR_hila')\n",
    "\n",
    "plps_panel['CR_hila_round'] = plps_panel['CR_hila'].apply(lambda x: round(x, 0))\n",
    "\n",
    "plps_panel.head(3)"
   ]
  },
  {
   "cell_type": "code",
   "execution_count": null,
   "metadata": {},
   "outputs": [],
   "source": [
    "labels = ['low', 'medium', 'high']\n",
    "plps_gene = plps_gene.sort_values(by='AF')\n",
    "plps_gene['AF_bins'] = pd.cut(plps_gene['AF'], np.logspace(np.log10(1e-6),np.log10(0.076), 4), labels=labels)\n",
    "plps_gene['AF_log'] = np.log10(plps_gene['AF'])\n",
    "\n",
    "plps_gene_counts = plps_gene.groupby(['panel', 'AF_bins']).agg({'AF': 'sum'}).reset_index()\n",
    "plps_gene_counts['AF'] = plps_gene_counts['AF'].fillna(0)\n",
    "\n",
    "plps_gene_counts = plps_gene_counts.sort_values(by=['panel', 'AF_bins'])\n",
    "\n",
    "plps_gene_counts['AF_total'] = plps_gene_counts.groupby('panel')[['AF']].transform('sum')\n",
    "plps_gene_counts['AF_percentage'] = np.round(plps_gene_counts['AF']*100./plps_gene_counts['AF_total'], 2)\n",
    "\n",
    "panels = plps_panel['panel'].values\n",
    "\n",
    "borders = np.logspace(np.log10(1e-6),np.log10(0.076), 4)\n",
    "\n",
    "print (borders[0], borders[1], borders[2], borders[3])"
   ]
  },
  {
   "cell_type": "code",
   "execution_count": null,
   "metadata": {},
   "outputs": [],
   "source": [
    "fig = plt.figure(constrained_layout=True, figsize=(20, 18))\n",
    "\n",
    "subfigs = fig.subfigures(nrows=2, ncols=1)\n",
    "\n",
    "subfigs[0].suptitle(\"Relationship between CR and std(AF per gene)\")\n",
    "ax = subfigs[0].subplots(1, 1)\n",
    "\n",
    "sns.scatterplot(data=plps_panel, x='CR_hila', y='AF', ax=ax, marker='D')\n",
    "\n",
    "for x, y, label in plps_panel[['CR_hila', 'AF', 'panel']].values:\n",
    "    ax.annotate(label, (x+0.01*x, y+0.01*y))\n",
    "ax.set_ylabel('sd(AF per gene)')\n",
    "ax.set_xlabel('Consaguinity ratio')\n",
    "\n",
    "\n",
    "ax = subfigs[1].subplots( 1,1)\n",
    "\n",
    "subfigs[1].suptitle(\"Distribution of the AF cumulative sum\")\n",
    "\n",
    "bottom = np.zeros_like(panels)\n",
    "\n",
    "for label in labels[::-1]:\n",
    "    cur_counts = plps_gene_counts[plps_gene_counts['AF_bins'] == label].set_index('panel').loc[panels, 'AF_percentage'].values\n",
    "\n",
    "    p = ax.bar(panels, cur_counts, label=label, bottom=bottom)\n",
    "\n",
    "    bottom += cur_counts\n",
    "\n",
    "    ax.bar_label(p, label_type='center')\n",
    "    \n",
    "ax.legend()\n",
    "plt.xticks(rotation=90)\n",
    "\n",
    "\n",
    "plt.savefig(\"../../../../data/plots/supp_figure_6.pdf\", format=\"pdf\", bbox_inches=\"tight\")"
   ]
  },
  {
   "cell_type": "code",
   "execution_count": null,
   "metadata": {},
   "outputs": [],
   "source": []
  }
 ],
 "metadata": {
  "kernelspec": {
   "display_name": "variant_prio",
   "language": "python",
   "name": "python3"
  },
  "language_info": {
   "codemirror_mode": {
    "name": "ipython",
    "version": 3
   },
   "file_extension": ".py",
   "mimetype": "text/x-python",
   "name": "python",
   "nbconvert_exporter": "python",
   "pygments_lexer": "ipython3",
   "version": "3.7.6"
  },
  "orig_nbformat": 4
 },
 "nbformat": 4,
 "nbformat_minor": 2
}
