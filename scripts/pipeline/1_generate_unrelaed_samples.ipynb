{
 "cells": [
  {
   "cell_type": "markdown",
   "id": "f48cbfe6",
   "metadata": {},
   "source": [
    "# Imports & variable definition"
   ]
  },
  {
   "cell_type": "code",
   "execution_count": null,
   "id": "6cf5ae7b",
   "metadata": {},
   "outputs": [],
   "source": [
    "import csv\n",
    "import os\n",
    "import datetime\n",
    "import pandas as pd\n",
    "import numpy as np"
   ]
  },
  {
   "cell_type": "code",
   "execution_count": null,
   "id": "93839c97",
   "metadata": {},
   "outputs": [],
   "source": [
    "inFile=\".../relatedness_data_450k_participants.tsv\"\n",
    "outFile=\".../related_individuals.txt\"\n",
    "outFileFinal=\".../related_individuals_with_interpretation.txt\"\n",
    "samplesToRemove=\".../related_samples_to_remove\""
   ]
  },
  {
   "cell_type": "markdown",
   "id": "ec2af060",
   "metadata": {},
   "source": [
    "**TO-do: explain how did we get input file!!!**"
   ]
  },
  {
   "cell_type": "markdown",
   "id": "dd0daec9",
   "metadata": {},
   "source": [
    "# Create couples"
   ]
  },
  {
   "cell_type": "markdown",
   "id": "dbb821a4",
   "metadata": {},
   "source": [
    "**Input** data contains the following fields:\n",
    "\n",
    "> **22011** - field is used to identify pairs of participants who are estimated to be genetically related. More [here](https://biobank.ndph.ox.ac.uk/showcase/field.cgi?id=22011).\n",
    "\n",
    "> **22012** -  field gives the kinship coefficient associated with each pair of participants. More [here](https://biobank.ndph.ox.ac.uk/showcase/field.cgi?id=22012).\n",
    "\n",
    "> **22018** - field identifies the persons excluded from the calculations. More [here](https://biobank.ndph.ox.ac.uk/showcase/field.cgi?id=22018).\n",
    "\n",
    "**Output**: \n",
    "\n",
    "Tab-separated file of format: `eid-1` `eid-2` `kinship-coefficient`"
   ]
  },
  {
   "cell_type": "code",
   "execution_count": null,
   "id": "a1a1c394",
   "metadata": {
    "code_folding": []
   },
   "outputs": [],
   "source": [
    "def create_couples(inFile, outFile):\n",
    "    '''\n",
    "    This function gets a phenotipic file that includes fields 22011,22012,22018 as an input file\n",
    "    The output is a list of couples by identifiers <ID1,ID2,kinship>\n",
    "    '''\n",
    "    # define fields\n",
    "    exclude=22018\n",
    "    pairs=22011\n",
    "    kinship=22012\n",
    "    \n",
    "    with open(inFile,\"rt\") as pheno_File, open (outFile,\"w\") as final:\n",
    "        # parse csv files\n",
    "        reader=csv.reader(pheno_File,delimiter=\"\\t\")\n",
    "        writer=csv.writer(final,delimiter=\"\\t\")\n",
    "        \n",
    "        # read first row, save the indexes of the fields\n",
    "        field_pairs=[]\n",
    "        field_kinship=[]\n",
    "        \n",
    "        fields=next(reader)\n",
    "        \n",
    "        for i in fields:\n",
    "            if str(exclude) in str(i):\n",
    "                field_exclude=fields.index(i)\n",
    "            #a list of all fields that are related to the phenotype (X-1.0, X-1.1, X-2.0...)\n",
    "            elif str(pairs) in str(i):                                          \n",
    "                field_pairs.append(fields.index(i))\n",
    "            elif str(kinship) in str(i):\n",
    "                field_kinship.append(fields.index(i))\n",
    "        l_zipped = list(zip(field_pairs,field_kinship))    \n",
    "        \n",
    "        # iterate over the remaining rows and collect related pairs\n",
    "        \n",
    "        d_samples={}\n",
    "        d_pairs={}\n",
    "        \n",
    "        for r in reader:\n",
    "            d_samples[r[0]]=[]\n",
    "            \n",
    "            \n",
    "            if r[field_exclude] != 1 and r[field_exclude] != 2:\n",
    "                for c in field_pairs:\n",
    "                    if r[c] != \"\":\n",
    "                        if r[c] not in d_pairs.keys():\n",
    "                            d_pairs[r[c]] = [r[0]]\n",
    "                        else:\n",
    "                            d_pairs[r[c]].append(r[0])\n",
    "                   \n",
    "                \n",
    "            for s in l_zipped:\n",
    "                if s[0]!=\"\":\n",
    "                    if r[s[0]]!=\"\":\n",
    "                        d_samples[r[0]].append([r[s[0]],r[s[1]]])\n",
    "        \n",
    "        for k,v in d_pairs.items():\n",
    "            if len(v)==2:\n",
    "                if len(d_samples[v[0]])>1:\n",
    "                    for i in d_samples[v[0]]:\n",
    "                        if i[0]==k:\n",
    "                            nl=[str(v[0]),str(v[1]),i[1]]\n",
    "                            \n",
    "                else:\n",
    "                    nl=[str(v[0]),str(v[1]),d_samples[v[0]][0][1]]\n",
    "                writer.writerow(nl)"
   ]
  },
  {
   "cell_type": "code",
   "execution_count": null,
   "id": "1635dc60",
   "metadata": {},
   "outputs": [],
   "source": [
    "start = datetime.datetime.now()\n",
    "\n",
    "create_couples(inFile, outFile)\n",
    "\n",
    "print (f\"Step finished, elapsed time: {datetime.datetime.now()-start}\")"
   ]
  },
  {
   "cell_type": "code",
   "execution_count": null,
   "id": "41f51909",
   "metadata": {},
   "outputs": [],
   "source": [
    "!head -5 $outFile"
   ]
  },
  {
   "cell_type": "code",
   "execution_count": null,
   "id": "f686910f",
   "metadata": {},
   "outputs": [],
   "source": [
    "!wc -l $outFile"
   ]
  },
  {
   "cell_type": "markdown",
   "id": "4c98712c",
   "metadata": {},
   "source": [
    "# Interpreting kinship coefficient"
   ]
  },
  {
   "cell_type": "markdown",
   "id": "2097662b",
   "metadata": {},
   "source": [
    "**Input**:\n",
    "\n",
    "File, generated at the previous step\n",
    "\n",
    "\n",
    "\n",
    "\n",
    "**Output**: \n",
    "\n",
    "Tab-separated file of format: `eid-1` `eid-2` `kinship-coefficient` `kinship-interpretation`"
   ]
  },
  {
   "cell_type": "code",
   "execution_count": null,
   "id": "77483273",
   "metadata": {},
   "outputs": [],
   "source": [
    "def kinship_interpretation(inFile, outFile):\n",
    "    '''\n",
    "    This function gets the \"create_couples\" output as an input\n",
    "    It adds a column with the infer relationship\n",
    "    '''\n",
    "    with open (inFile, \"r\") as inputf, open (outFile, \"w\") as final:\n",
    "        reader= csv.reader (inputf, delimiter=\"\\t\")\n",
    "        writer= csv.writer (final, delimiter=\"\\t\")\n",
    "\n",
    "        for row in reader:\n",
    "            nl= row[:]\n",
    "            if float(row[2])>=0.354:\n",
    "                nl.append(\"duplicate/MZ twin\")\n",
    "            elif float(row[2])>=0.177 and float(row[2])<0.354:\n",
    "                    nl.append(\"1st-degree\")\n",
    "            elif float(row[2])>=0.0884 and float(row[2])<0.177:\n",
    "                nl.append(\"2nd-degree\")\n",
    "            elif float(row[2])>=0.0442 and float(row[2])<0.0884:\n",
    "                nl.append(\"3rd-degree\")\n",
    "            else:\n",
    "                nl.append(\"no_inffered_relationship\")\n",
    "            writer.writerow(nl)"
   ]
  },
  {
   "cell_type": "code",
   "execution_count": null,
   "id": "91f83dc4",
   "metadata": {},
   "outputs": [],
   "source": [
    "start = datetime.datetime.now()\n",
    "\n",
    "kinship_interpretation(outFile, outFileFinal)\n",
    "\n",
    "print (f\"Step finished, elapsed time: {datetime.datetime.now()-start}\")"
   ]
  },
  {
   "cell_type": "code",
   "execution_count": null,
   "id": "d9890ca9",
   "metadata": {},
   "outputs": [],
   "source": [
    "!head -5 $outFileFinal"
   ]
  },
  {
   "cell_type": "code",
   "execution_count": null,
   "id": "90c7dbf6",
   "metadata": {},
   "outputs": [],
   "source": [
    "!wc -l $outFileFinal"
   ]
  },
  {
   "cell_type": "markdown",
   "id": "5cdcd0e2",
   "metadata": {},
   "source": [
    "# Remove related samples"
   ]
  },
  {
   "cell_type": "markdown",
   "id": "0724a8ff",
   "metadata": {},
   "source": [
    "**Input**:\n",
    "\n",
    "File, generated at the previous step\n",
    "\n",
    "\n",
    "\n",
    "\n",
    "**Output**: \n",
    "\n",
    "Tab-separated file with the samples to exclude, format: `eid` "
   ]
  },
  {
   "cell_type": "code",
   "execution_count": null,
   "id": "f50d7413",
   "metadata": {},
   "outputs": [],
   "source": [
    "def samples_to_remove(inFile, outFileNoExt):\n",
    "    '''\n",
    "    this function gets the \"kinship_interpretation\" output as an input\n",
    "    It creats a  list of related samples that needs to be excluded\n",
    "    '''\n",
    "    with open (inFile, \"r\") as inputf, open (outFileNoExt+\".txt\", \"w\") as final:\n",
    "        reader= csv.reader (inputf, delimiter=\"\\t\")\n",
    "        writer= csv.writer (final, delimiter=\"\\t\")\n",
    "\n",
    "        pairs=[]\n",
    "\n",
    "        for r in reader:\n",
    "            # create a nested list of all couples 2nd degree or closer\n",
    "            if r[3]!=\"3rd-degree\" and r[3]!=\"no_inffered_relationship\": \n",
    "                pairs.append([r[0],r[1]])\n",
    "        \n",
    "        \n",
    "        # as long as there are pairs in the list, \n",
    "        # check which sample has the most relationships \n",
    "        # and delete the pairs that it's in\n",
    "        while len(pairs)>0:                                                             \n",
    "            d={}\n",
    "            for p in pairs:\n",
    "                if p[0] not in d:\n",
    "                    d[p[0]]=1\n",
    "                else:\n",
    "                    d[p[0]]+=1\n",
    "                    \n",
    "                if p[1] not in d:\n",
    "                    d[p[1]]=1\n",
    "                else:\n",
    "                    d[p[1]]+=1\n",
    "                    \n",
    "            most_related = max(d,key=d.get)\n",
    "            writer.writerow([most_related])\n",
    "            for p in pairs:\n",
    "                if most_related in p:\n",
    "                    pairs.remove(p)\n",
    "\n",
    "    os.system (\"cat \" +outFileNoExt+ \".txt |sort|uniq > \" +outFileNoExt +\"_final.txt\")\n",
    "    os.system (\"rm -f \"+outFileNoExt+ \".txt\")"
   ]
  },
  {
   "cell_type": "code",
   "execution_count": null,
   "id": "bdd55e0e",
   "metadata": {},
   "outputs": [],
   "source": [
    "start = datetime.datetime.now()\n",
    "\n",
    "samples_to_remove(outFileFinal, samplesToRemove)\n",
    "\n",
    "print (f\"Step finished, elapsed time: {datetime.datetime.now()-start}\")"
   ]
  },
  {
   "cell_type": "code",
   "execution_count": null,
   "id": "54d07afa",
   "metadata": {},
   "outputs": [],
   "source": [
    "!head -5 $samplesToRemove'_final.txt'"
   ]
  },
  {
   "cell_type": "code",
   "execution_count": null,
   "id": "7d76a15f",
   "metadata": {},
   "outputs": [],
   "source": [
    "!wc -l $samplesToRemove'_final.txt'"
   ]
  },
  {
   "cell_type": "markdown",
   "id": "36ec1d48",
   "metadata": {},
   "source": [
    "**Note**: when running this algorithm second time, it may produce a bit different result since there are samples with the same relatedness count. We delete a random(?) one. "
   ]
  }
 ],
 "metadata": {
  "kernelspec": {
   "display_name": "Python (variant_prio)",
   "language": "python",
   "name": "variant_prio"
  },
  "language_info": {
   "codemirror_mode": {
    "name": "ipython",
    "version": 3
   },
   "file_extension": ".py",
   "mimetype": "text/x-python",
   "name": "python",
   "nbconvert_exporter": "python",
   "pygments_lexer": "ipython3",
   "version": "3.7.6"
  },
  "toc": {
   "base_numbering": 1,
   "nav_menu": {},
   "number_sections": true,
   "sideBar": true,
   "skip_h1_title": false,
   "title_cell": "Table of Contents",
   "title_sidebar": "Contents",
   "toc_cell": false,
   "toc_position": {
    "height": "calc(100% - 180px)",
    "left": "10px",
    "top": "150px",
    "width": "200.89674377441406px"
   },
   "toc_section_display": true,
   "toc_window_display": true
  }
 },
 "nbformat": 4,
 "nbformat_minor": 5
}
