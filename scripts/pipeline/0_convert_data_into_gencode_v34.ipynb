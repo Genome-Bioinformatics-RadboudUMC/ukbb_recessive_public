{
 "cells": [
  {
   "cell_type": "markdown",
   "metadata": {},
   "source": [
    "This notebook contains the code used for the conversion of all gene names used throughout the pipeline to Gencode v.34. \n",
    "\n",
    "We convert: \n",
    "\n",
    "1. List of recessive genes\n",
    "\n",
    "2. s-hets from Cassa et al.\n",
    "\n",
    "3. s-hets from Weghorn et al. \n",
    "\n",
    "4. pLI from gnomad"
   ]
  },
  {
   "cell_type": "code",
   "execution_count": null,
   "metadata": {},
   "outputs": [],
   "source": [
    "import pandas as pd\n",
    "from pybiomart import Dataset"
   ]
  },
  {
   "cell_type": "code",
   "execution_count": null,
   "metadata": {},
   "outputs": [],
   "source": [
    "def get_gencode_v34_HGNC_genes():\n",
    "    \"\"\"\n",
    "        This function dowloads gene name and its HGNC id as specified in gencode v.34\n",
    "    \"\"\"\n",
    "    # load inhouse\n",
    "\n",
    "    inhouse = pd.read_csv(\"https://ftp.ebi.ac.uk/pub/databases/gencode/Gencode_human/release_34/gencode.v34.metadata.HGNC.gz\", \n",
    "                          compression='gzip', sep='\\t', header=None)\n",
    "    inhouse.columns = ['Ensembl ID', 'gene', 'HGNC ID']\n",
    "\n",
    "    inhouse = inhouse[['gene', 'HGNC ID']].drop_duplicates().dropna()\n",
    "\n",
    "    # edit NGNC field to have the same format as in GRCh37\n",
    "    inhouse['HGNC ID'] = inhouse['HGNC ID'].apply(\n",
    "        lambda x: x.replace('HGNC:', '') if x else x).astype(float) \n",
    "\n",
    "    return inhouse\n",
    "\n",
    "def get_grch37_inhouse_map():\n",
    "    \"\"\"\n",
    "        This function creates the mapping from GRCh37 gene names from ensembl into gencode v.34\n",
    "        using HGNC-id as key\n",
    "    \"\"\"\n",
    "\n",
    "    # load GRCh37\n",
    "    dataset = Dataset(name='hsapiens_gene_ensembl',  host='http://grch37.ensembl.org')\n",
    "    # attributes = dataset.list_attributes() -- look into attributes\n",
    "\n",
    "    hg37_table = dataset.query(\n",
    "        attributes=['hgnc_id','chromosome_name', 'hgnc_symbol'])\n",
    "\n",
    "    # drop scaffolds not mapped to chromosomes\n",
    "    hg37_table = hg37_table[~hg37_table['Chromosome/scaffold name'].apply(\n",
    "        lambda x: x.startswith('CHR_') or 'H' in x or x.startswith('GL'))]\n",
    "\n",
    "    # leave only mapping information\n",
    "    hg37_table = hg37_table[['HGNC ID', 'HGNC symbol', 'Chromosome/scaffold name']].dropna().drop_duplicates()\n",
    "\n",
    "    \n",
    "    inhouse = get_gencode_v34_HGNC_genes()[['gene', 'HGNC ID']]\n",
    "    \n",
    "    mapping = hg37_table.rename(columns={'HGNC symbol': 'gene_grch37'}).merge(inhouse,  how='outer', on='HGNC ID')\n",
    "\n",
    "    return mapping"
   ]
  },
  {
   "cell_type": "markdown",
   "metadata": {},
   "source": [
    "All of the filters follows the same procedure:\n",
    "\n",
    "1. Create mapping of `GRCh37` gene names from ensembl into `gencode v.34`\n",
    "\n",
    "2. Read data of interest, that contains gene names in some format \n",
    "\n",
    "3. Identify genes from the previous step, that are not in `gencode v.34`\n",
    "\n",
    "4. Create corretion map from genes in `step 3` to `gencode v.34` where possible by using mapping from `step 1`\n",
    "\n",
    "5. Apply this correction map to our data of interest\n",
    "    "
   ]
  },
  {
   "attachments": {},
   "cell_type": "markdown",
   "metadata": {},
   "source": [
    "# Gene panels"
   ]
  },
  {
   "cell_type": "code",
   "execution_count": null,
   "metadata": {},
   "outputs": [],
   "source": [
    "# read original gene panel\n",
    "path_to_gene_data = \".../gene-panel.txt\", # input\n",
    "path_to_gene_data_gencode_v34 = \".../gene-panel-gencode-v34.txt\"# output\n",
    "\n",
    "gene_panels = pd.read_csv(path_to_gene_data, header=None)\n",
    "gene_panels.columns = ['Gene name', 'panel']\n",
    "\n",
    "print (\"Number of genes:\", gene_panels.shape[0])"
   ]
  },
  {
   "cell_type": "code",
   "execution_count": null,
   "metadata": {},
   "outputs": [],
   "source": [
    "# GRCh37 to gencode v.34 mapping\n",
    "grch37_gencode_v34 = get_grch37_inhouse_map()\n",
    "gencode_v34_genes = set(grch37_gencode_v34['gene'].dropna().tolist())\n",
    "\n",
    "grch37_gencode_v34 = grch37_gencode_v34.dropna()\n",
    "\n",
    "# get genes not in gencode v.34 format\n",
    "wrong_format_genes = gene_panels.loc[~gene_panels['Gene name'].isin(gencode_v34_genes), 'Gene name'].tolist()\n",
    "\n",
    "# get a dict for correction\n",
    "correcting_map = grch37_gencode_v34[grch37_gencode_v34['gene_grch37'].isin(wrong_format_genes)][['gene_grch37', 'gene']]\n",
    "correcting_map = correcting_map.set_index('gene_grch37').to_dict()['gene']\n",
    "\n",
    "# print information\n",
    "print (\"Number of genes not in gencode_34:\", len(wrong_format_genes))\n",
    "print (\"Number of genes not in gencode_34, that found in GRCh37 :\", len(correcting_map))\n",
    "\n",
    "# manual add a missing case\n",
    "correcting_map['KIF1BP'] = 'KIFBP'\n",
    "\n",
    "print (\"Full correction dictionary:\", len(correcting_map))\n",
    "\n",
    "# correct gene panels\n",
    "gene_panels ['Gene name'] = gene_panels['Gene name'].apply(lambda x: correcting_map.get(x, x))\n",
    "\n",
    "print (\"Number of genes not in gencode_34:\", sum(~gene_panels['Gene name'].isin(gencode_v34_genes)))\n",
    "\n",
    "# # save dataset\n",
    "gene_panels.to_csv(path_to_gene_data_gencode_v34, header=False, index=False, sep=',')\n"
   ]
  },
  {
   "attachments": {},
   "cell_type": "markdown",
   "metadata": {},
   "source": [
    "# S_hets"
   ]
  },
  {
   "attachments": {},
   "cell_type": "markdown",
   "metadata": {},
   "source": [
    "## Cassa"
   ]
  },
  {
   "cell_type": "code",
   "execution_count": null,
   "metadata": {},
   "outputs": [],
   "source": [
    "cassa = pd.read_csv(\".../gene_s_het_cassa_all_genes.txt\", sep='\\t').drop_duplicates().dropna()\n",
    "print (\"Number of genes:\", cassa.shape[0])\n",
    "\n",
    "cassa.head(3)"
   ]
  },
  {
   "cell_type": "code",
   "execution_count": null,
   "metadata": {},
   "outputs": [],
   "source": [
    "gene_panels = pd.read_csv(path_to_gene_data, header=None)\n",
    "gene_panels = set(gene_panels[0].tolist())\n",
    "\n",
    "print (\"Genes in panel before correction:\", len(gene_panels))\n",
    "print (\"Genes in cassa before correction\", sum(cassa['gene_symbol'].isin(gene_panels)))"
   ]
  },
  {
   "cell_type": "code",
   "execution_count": null,
   "metadata": {},
   "outputs": [],
   "source": [
    "# GRCh37 to gencode v.34 mapping\n",
    "grch37_gencode_v34 = get_grch37_inhouse_map()\n",
    "gencode_v34_genes = set(grch37_gencode_v34['gene'].dropna().tolist())\n",
    "grch37_gencode_v34 = grch37_gencode_v34.dropna()\n",
    "\n",
    "# get genes not in gencode v.34 format\n",
    "wrong_format_genes = cassa.loc[~cassa['gene_symbol'].isin(gencode_v34_genes), 'gene_symbol'].tolist()\n",
    "\n",
    "# get a dict for correction\n",
    "correcting_map = grch37_gencode_v34[grch37_gencode_v34['gene_grch37'].isin(wrong_format_genes)][['gene_grch37', 'gene']]\n",
    "correcting_map = correcting_map.set_index('gene_grch37').to_dict()['gene']\n",
    "\n",
    "# print information\n",
    "print (\"Number of genes not in gencode_34:\", len(wrong_format_genes))\n",
    "print (\"Number of genes not in gencode_34, that found in GRCh37 :\", len(correcting_map))\n",
    "\n",
    "# correct gene panels\n",
    "cassa['gene_symbol'] = cassa['gene_symbol'].apply(lambda x: correcting_map.get(x, x))\n",
    "\n",
    "print (\"Number of genes not in gencode_34:\", sum(~cassa['gene_symbol'].isin(gencode_v34_genes)))\n",
    "\n",
    "# save dataset\n",
    "cassa.to_csv(\".../gene_s_het_cassa_all_genes_gencode-v34.txt\", index=False, sep='\\t')"
   ]
  },
  {
   "cell_type": "code",
   "execution_count": null,
   "metadata": {},
   "outputs": [],
   "source": [
    "gene_panels = pd.read_csv(path_to_gene_data_gencode_v34, header=None)\n",
    "gene_panels = set(gene_panels[0].tolist())\n",
    "\n",
    "print (\"Genes in panel after correction:\", len(gene_panels))\n",
    "print (\"Genes in cassa after correction\", sum(cassa['gene_symbol'].isin(gene_panels)))"
   ]
  },
  {
   "attachments": {},
   "cell_type": "markdown",
   "metadata": {},
   "source": [
    "## Weghorn"
   ]
  },
  {
   "cell_type": "code",
   "execution_count": null,
   "metadata": {},
   "outputs": [],
   "source": [
    "weghorn = pd.read_csv(\".../weghorn_supp_table1.txt\", sep='\\t')\n",
    "print (\"Number of genes:\", weghorn.shape[0])\n",
    "\n",
    "weghorn.head(3)"
   ]
  },
  {
   "cell_type": "code",
   "execution_count": null,
   "metadata": {},
   "outputs": [],
   "source": [
    "gene_panels = pd.read_csv(path_to_gene_data, header=None)\n",
    "gene_panels = set(gene_panels[0].tolist())\n",
    "\n",
    "print (\"Genes in panel before correction:\", len(gene_panels))\n",
    "print (\"Genes in weghorn before correction\", sum(weghorn['Gene'].isin(gene_panels)))"
   ]
  },
  {
   "cell_type": "code",
   "execution_count": null,
   "metadata": {},
   "outputs": [],
   "source": [
    "# GRCh37 to gencode v.34 mapping\n",
    "grch37_gencode_v34 = get_grch37_inhouse_map()\n",
    "gencode_v34_genes = set(grch37_gencode_v34['gene'].dropna().tolist())\n",
    "grch37_gencode_v34 = grch37_gencode_v34.dropna()\n",
    "\n",
    "\n",
    "# get genes not in gencode v.34 format\n",
    "wrong_format_genes = weghorn.loc[~weghorn['Gene'].isin(gencode_v34_genes), 'Gene'].tolist()\n",
    "\n",
    "# get a dict for correction\n",
    "correcting_map = grch37_gencode_v34[grch37_gencode_v34['gene_grch37'].isin(wrong_format_genes)][['gene_grch37', 'gene']]\n",
    "correcting_map = correcting_map.set_index('gene_grch37').to_dict()['gene']\n",
    "\n",
    "# print information\n",
    "print (\"Number of genes not in gencode_34:\", len(wrong_format_genes))\n",
    "print (\"Number of genes not in gencode_34, that found in GRCh37 :\", len(correcting_map))\n",
    "\n",
    "# correct gene panels\n",
    "weghorn['Gene'] = weghorn['Gene'].apply(lambda x: correcting_map.get(x, x))\n",
    "\n",
    "print (\"Number of genes not in gencode_34:\", sum(~weghorn['Gene'].isin(gencode_v34_genes)))\n",
    "\n",
    "# save dataset\n",
    "weghorn.to_csv(\"../450k/selection_weghorn/weghorn_supp_table1_gencode-v34.txt\", index=False, sep='\\t')\n"
   ]
  },
  {
   "cell_type": "code",
   "execution_count": null,
   "metadata": {},
   "outputs": [],
   "source": [
    "gene_panels = pd.read_csv(path_to_gene_data_gencode_v34, header=None)\n",
    "gene_panels = set(gene_panels[0].tolist())\n",
    "\n",
    "print (\"Genes in panel after correction:\", len(gene_panels))\n",
    "print (\"Genes in weghorn after correction\", sum(weghorn['Gene'].isin(gene_panels)))"
   ]
  },
  {
   "cell_type": "code",
   "execution_count": null,
   "metadata": {},
   "outputs": [],
   "source": [
    "# save weghorn in a nice way\n",
    "weghorn = pd.read_csv(\".../weghorn_supp_table1_gencode-v34.txt\", sep='\\t')\n",
    "\n",
    "# mut-sel balance modenl and drift\n",
    "weghorn_det = weghorn[['Gene', 's_het_det']].copy()\n",
    "weghorn_drift = weghorn[['Gene', 's_het_drift']].copy()\n",
    "\n",
    "# rename columns\n",
    "weghorn_det.columns = ['gene_symbol', 's_het']\n",
    "weghorn_drift.columns = ['gene_symbol', 's_het']\n",
    "\n",
    "# save\n",
    "weghorn_det.to_csv(\".../weghorn_det_gencode-v34.txt\", sep='\\t', index=False)\n",
    "weghorn_drift.to_csv(\".../weghorn_drift_gencode-v34.txt\", sep='\\t', index=False)"
   ]
  },
  {
   "attachments": {},
   "cell_type": "markdown",
   "metadata": {},
   "source": [
    "## PLI"
   ]
  },
  {
   "cell_type": "code",
   "execution_count": null,
   "metadata": {},
   "outputs": [],
   "source": [
    "! wget https://storage.googleapis.com/gcp-public-data--gnomad/release/2.1.1/constraint/gnomad.v2.1.1.lof_metrics.by_gene.txt.bgz\n",
    "! mv ./gnomad.v2.1.1.lof_metrics.by_gene.txt.bgz .../gnomad.v2.1.1.lof_metrics.by_gene.txt.bgz "
   ]
  },
  {
   "cell_type": "code",
   "execution_count": null,
   "metadata": {},
   "outputs": [],
   "source": [
    "gnomad_filepath = '.../gnomad.v2.1.1.lof_metrics.by_gene.txt.bgz'\n",
    "\n",
    "gnomad = pd.read_csv(gnomad_filepath, compression='gzip', sep='\\t')\n",
    "\n",
    "gnomad = gnomad[['gene', 'pLI']]\n",
    "gnomad = gnomad[~gnomad['pLI'].isnull()]\n",
    "gnomad.columns = ['gene_symbol', 's_het']\n",
    "\n",
    "gnomad.head(3)"
   ]
  },
  {
   "cell_type": "code",
   "execution_count": null,
   "metadata": {},
   "outputs": [],
   "source": [
    "gene_panels = pd.read_csv(path_to_gene_data, header=None)\n",
    "gene_panels = set(gene_panels[0].tolist())\n",
    "\n",
    "print (\"Genes in panel before correction:\", len(gene_panels))\n",
    "print (\"Genes in gnomAD before correction\", sum(gnomad['gene_symbol'].isin(gene_panels)))"
   ]
  },
  {
   "cell_type": "code",
   "execution_count": null,
   "metadata": {},
   "outputs": [],
   "source": [
    "# GRCh37 to gencode v.34 mapping\n",
    "grch37_gencode_v34 = get_grch37_inhouse_map()\n",
    "gencode_v34_genes = set(grch37_gencode_v34['gene'].dropna().tolist())\n",
    "grch37_gencode_v34 = grch37_gencode_v34.dropna()\n",
    "\n",
    "\n",
    "# get genes not in gencode v.34 format\n",
    "wrong_format_genes = gnomad.loc[~gnomad['gene_symbol'].isin(gencode_v34_genes), 'gene_symbol'].tolist()\n",
    "\n",
    "# get a dict for correction\n",
    "correcting_map = grch37_gencode_v34[grch37_gencode_v34['gene_grch37'].isin(wrong_format_genes)][['gene_grch37', 'gene']]\n",
    "correcting_map = correcting_map.set_index('gene_grch37').to_dict()['gene']\n",
    "\n",
    "# print information\n",
    "print (\"Number of genes not in gencode_34:\", len(wrong_format_genes))\n",
    "print (\"Number of genes not in gencode_34, that found in GRCh37 :\", len(correcting_map))\n",
    "\n",
    "# correct gene panels\n",
    "gnomad['gene_symbol'] = gnomad['gene_symbol'].apply(lambda x: correcting_map.get(x, x))\n",
    "\n",
    "print (\"Number of genes not in gencode_34:\", sum(~gnomad['gene_symbol'].isin(gencode_v34_genes)))\n"
   ]
  },
  {
   "cell_type": "code",
   "execution_count": null,
   "metadata": {},
   "outputs": [],
   "source": [
    "print (\"Gnomad shape:\", gnomad.shape)\n",
    "print (\"Gnomad unique genes:\", gnomad['gene_symbol'].drop_duplicates().shape)\n",
    "\n",
    "gnomad = gnomad.groupby('gene_symbol').max().reset_index()\n",
    "\n",
    "print (\"Gnomad shape after correction:\", gnomad.shape)"
   ]
  },
  {
   "cell_type": "code",
   "execution_count": null,
   "metadata": {},
   "outputs": [],
   "source": [
    "# save dataset\n",
    "gnomad.to_csv(\".../gnomad.v2.1.1.PLI_gencode-v34.txt\", index=False, sep='\\t')"
   ]
  },
  {
   "cell_type": "code",
   "execution_count": null,
   "metadata": {},
   "outputs": [],
   "source": [
    "gene_panels = pd.read_csv(path_to_gene_data_gencode_v34, header=None)\n",
    "gene_panels = set(gene_panels[0].tolist())\n",
    "\n",
    "print (\"Genes in panel after correction:\", len(gene_panels))\n",
    "print (\"Genes in gnomAD after correction\", sum(gnomad['gene_symbol'].isin(gene_panels)))"
   ]
  },
  {
   "cell_type": "code",
   "execution_count": null,
   "metadata": {},
   "outputs": [],
   "source": []
  }
 ],
 "metadata": {
  "kernelspec": {
   "display_name": "Python (variant_prio)",
   "language": "python",
   "name": "variant_prio"
  },
  "language_info": {
   "codemirror_mode": {
    "name": "ipython",
    "version": 3
   },
   "file_extension": ".py",
   "mimetype": "text/x-python",
   "name": "python",
   "nbconvert_exporter": "python",
   "pygments_lexer": "ipython3",
   "version": "3.7.6"
  },
  "orig_nbformat": 4,
  "vscode": {
   "interpreter": {
    "hash": "c909030f8ba22f7bfd9eb2858f9c8d0549caec20e616292ce74f255d35c22e2d"
   }
  }
 },
 "nbformat": 4,
 "nbformat_minor": 2
}
