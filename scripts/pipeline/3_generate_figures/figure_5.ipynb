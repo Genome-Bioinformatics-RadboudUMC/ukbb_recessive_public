{
 "cells": [
  {
   "cell_type": "code",
   "execution_count": null,
   "metadata": {},
   "outputs": [],
   "source": [
    "import seaborn as sns\n",
    "import pandas as pd\n",
    "\n",
    "import matplotlib.pyplot as plt\n",
    "from ukbb_recessive.regression.regressions import read_results_excel\n",
    "import ukbb_recessive.regression.plotting as plotting\n",
    "from matplotlib.cm import get_cmap\n",
    "\n",
    "\n",
    "sns.set_style(\"whitegrid\")\n",
    "\n",
    "# Add fonts\n",
    "plotting.add_fonts(['../../../data/fonts'])\n",
    "plotting.configure_matplotlib()\n",
    "\n",
    "PLOTS_OUTPUT_DIR = '../../../data/plots'\n",
    "tables_folder = '../../../data/tables'"
   ]
  },
  {
   "cell_type": "markdown",
   "metadata": {},
   "source": [
    "# Prepare datasets"
   ]
  },
  {
   "cell_type": "markdown",
   "metadata": {},
   "source": [
    "## Load sex-specific analysis"
   ]
  },
  {
   "cell_type": "code",
   "execution_count": 3,
   "metadata": {},
   "outputs": [],
   "source": [
    "# Dictionary to rename target columns\n",
    "renaming_dict_target = {\n",
    "    'is_blond': 'Hair color', \n",
    "    'years_of_edu': 'Years of\\neducation',\n",
    "    'diagnosis_total_ICD10_cnt_log': 'Diagnoses\\ncount (log)',\n",
    "    'ICD_infertility': 'Infertility',\n",
    "    'living_with_a_partner': 'Has partner',\n",
    "    'fluid_intelligence_score': 'Fluid\\nintelligence',\n",
    "    'childlessness': 'Childlessness'\n",
    "}\n",
    "\n",
    "results_path = f\"{tables_folder}/table_sex_specific_analysis.xlsx\"\n",
    "\n",
    "# load flat table\n",
    "sex_specific = read_results_excel(results_path, flatten_multiindex=True)\n",
    "\n",
    "# leave only necessary s_het effect\n",
    "sex_specific = sex_specific[sex_specific['feature'].str.contains(\"s_het\")]\n",
    "\n",
    "# add odds ratio distance\n",
    "sex_specific = plotting.add_odds_ratio_intervals(sex_specific)\n",
    "sex_specific = plotting.add_effect_size_intervals(sex_specific)\n",
    "\n",
    "# select dataset\n",
    "sex_specific = sex_specific[sex_specific['dataset'] == 'Roulette']\n",
    "sex_specific['target'] = sex_specific['target'].apply(lambda x: renaming_dict_target.get(x, x))\n",
    "sex_specific = sex_specific[sex_specific['analysis'] == 'basic_analysis']\n"
   ]
  },
  {
   "cell_type": "markdown",
   "metadata": {},
   "source": [
    "# Plot"
   ]
  },
  {
   "cell_type": "code",
   "execution_count": 10,
   "metadata": {},
   "outputs": [],
   "source": [
    "def plot_sex_specific(ax, dataset, targets, gender_order=['males', 'females'], \n",
    "                      plot_entity='odds_ratio', vline_loc=1, legend_loc='upper left'):\n",
    "\n",
    "    legend_kwargs = {\n",
    "        \"bbox_to_anchor\": (-0.5, 1.2, 1.2, .102), \n",
    "        \"frameon\": False,\n",
    "        \"mode\": \"expand\", \n",
    "        \"ncol\": 2, \n",
    "        \"labelspacing\": 0.1, \n",
    "        \"markerfirst\": False, \n",
    "        'fontsize': plotting.MEDIUM_SIZE\n",
    "    }\n",
    "\n",
    "    colors = [ '#d43d51', '#094074',]\n",
    "    \n",
    "    plot_data = dataset[dataset['target'].isin(targets)].copy()\n",
    "\n",
    "    plotted_data = plotting.plot_errorbar_grouped(df=plot_data, \n",
    "                                        axis=ax, \n",
    "                                        y_column='target', \n",
    "                                        group_column = 'gender',  \n",
    "                                        legend_loc=legend_loc, \n",
    "                                        legend_kwargs=legend_kwargs,\n",
    "                                        group_scale=0.25, \n",
    "                                        y_scale=0.8,\n",
    "                                        colors=colors,\n",
    "                                        group_order=gender_order, \n",
    "                                        plot_entity=plot_entity, \n",
    "                                        vertical_loc=vline_loc, \n",
    "                                        horizontal=False)\n",
    "    \n",
    "    x_label = 'Effect size' if plot_entity == 'effect' else 'Odds ratio'\n",
    "    \n",
    "    plotting.configure_axis(ax, x_label=x_label, y_label=None,  format_x=True)\n",
    "\n",
    "    # Display p-values or any other information in the sidebar\n",
    "    odds_ratios = plotted_data[f'odds_ratio_pretty']\n",
    "    p_values = plotted_data['p_value_corrected_pretty']\n",
    "    positions = plotted_data['y']\n",
    "\n",
    "    plot_loc = plotted_data[f'{plot_entity}'] - plotted_data[f'{plot_entity}_lower_distance']\n",
    "\n",
    "    for i, (loc, eff, p, pos) in enumerate(zip(plot_loc, odds_ratios, p_values, positions)):\n",
    "        ax.text(loc+0.1, pos+0.005, f'{eff}, P = {p}', va='center', size=plotting.SMALL_SIZE)"
   ]
  },
  {
   "cell_type": "code",
   "execution_count": 14,
   "metadata": {},
   "outputs": [
    {
     "data": {
      "image/png": "[encoded data removed]",
      "text/plain": [
       "<Figure size 346.457x314.961 with 6 Axes>"
      ]
     },
     "metadata": {},
     "output_type": "display_data"
    }
   ],
   "source": [
    "import matplotlib.ticker as ticker\n",
    "\n",
    "cm = 1/2.54  # centimeters in inches\n",
    "k = 1.\n",
    "fig = plt.figure(constrained_layout=True, figsize=(8.8*cm*k, 8*cm*k))\n",
    "\n",
    "# divide subfigure into left and right parts\n",
    "subfigs = fig.subfigures(nrows=1, ncols=2,  width_ratios=[1, 1], wspace=0.0)\n",
    "\n",
    "# plot phenotypes results\n",
    "ax_left = subfigs[0].subplots(3, 1)\n",
    "df = sex_specific[sex_specific['feature'] == 's_het_recessive_all'].copy()\n",
    "plot_sex_specific(ax_left[0], dataset=df, targets = ['Childlessness'], plot_entity='odds_ratio', vline_loc=1)\n",
    "ax_left[0].set_xticks([1., 2., 3., 4.])\n",
    "ax_left[0].set_xticklabels([1., 2., 3., 4.])\n",
    "plot_sex_specific(ax_left[1], dataset=df, targets = ['Years of\\neducation'], plot_entity='effect', vline_loc=0, legend_loc=None)\n",
    "ax_left[1].set_xticks([-3., -2., -1., 0.])\n",
    "ax_left[1].set_xticklabels([-3., -2., -1., 0.])\n",
    "plot_sex_specific(ax_left[2], dataset=df, targets = ['Hair color'], plot_entity='odds_ratio', vline_loc=1, legend_loc=None)\n",
    "ax_left[2].set_xticks([1., 2., 3., 4.])\n",
    "ax_left[2].set_xticklabels([1., 2., 3., 4.])\n",
    "\n",
    "plotting.configure_axis(ax_left[0], x_label='Odds ratio',  xlim=None, ymargin=0.9, format_x=True)\n",
    "plotting.configure_axis(ax_left[1], x_label='Effect size', xlim=None, ymargin=0.9, format_x=True)\n",
    "plotting.configure_axis(ax_left[2], x_label='Odds ratio', xlim=None, ymargin=0.9, format_x=True)\n",
    "subfigs[0].suptitle('PLPs in recessive genes', size=plotting.MEDIUM_SIZE)\n",
    "\n",
    "# plot synonymous\n",
    "ax_right = subfigs[1].subplots(3, 1)\n",
    "df = sex_specific[sex_specific['feature'] == 's_het_lof_without_AR'].copy()\n",
    "plot_sex_specific(ax_right[0], dataset=df, targets = ['Childlessness'], plot_entity='odds_ratio', vline_loc=1)\n",
    "plot_sex_specific(ax_right[1], dataset=df, targets = ['Years of\\neducation'], plot_entity='effect', vline_loc=0, legend_loc=None)\n",
    "ax_right[1].set_xticks([-4., -3., -2., -1., 0.])\n",
    "ax_right[1].set_xticklabels([-4., -3., -2., -1., 0.])\n",
    "plot_sex_specific(ax_right[2], dataset=df, targets = ['Hair color'], plot_entity='odds_ratio', vline_loc=1, legend_loc=None)\n",
    "\n",
    "plotting.configure_axis(ax_right[0], x_label='Odds ratio',  xlim=None, ymargin=0.9, format_x=True)\n",
    "plotting.configure_axis(ax_right[1], x_label='Effect size', xlim=None, ymargin=0.9, format_x=True)\n",
    "plotting.configure_axis(ax_right[2], x_label='Odds ratio', xlim=None, ymargin=0.9, format_x=True)\n",
    "subfigs[1].suptitle('Singleton LoFs in non-recessive genes', size=plotting.MEDIUM_SIZE)\n",
    "\n",
    "# save figure\n",
    "plt.savefig(f\"{PLOTS_OUTPUT_DIR}/figure_5.pdf\", format=\"pdf\", bbox_inches=\"tight\")"
   ]
  },
  {
   "cell_type": "code",
   "execution_count": null,
   "metadata": {},
   "outputs": [],
   "source": []
  }
 ],
 "metadata": {
  "kernelspec": {
   "display_name": "variant_prio",
   "language": "python",
   "name": "python3"
  },
  "language_info": {
   "codemirror_mode": {
    "name": "ipython",
    "version": 3
   },
   "file_extension": ".py",
   "mimetype": "text/x-python",
   "name": "python",
   "nbconvert_exporter": "python",
   "pygments_lexer": "ipython3",
   "version": "3.12.2"
  }
 },
 "nbformat": 4,
 "nbformat_minor": 2
}
