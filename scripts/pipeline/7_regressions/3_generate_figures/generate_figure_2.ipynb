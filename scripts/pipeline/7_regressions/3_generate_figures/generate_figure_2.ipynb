{
 "cells": [
  {
   "cell_type": "code",
   "execution_count": null,
   "metadata": {},
   "outputs": [],
   "source": [
    "import pandas as pd\n",
    "\n",
    "import seaborn as sns\n",
    "\n",
    "import matplotlib.pyplot as plt\n",
    "\n",
    "from ukbb_recessive.regression.regressions import sci_notation, get_plot_data, plot_errorbar_grouped\n",
    "from ukbb_recessive.data_collection.variants import VariantFeatures\n",
    "\n",
    "\n",
    "sns.set_style(\"whitegrid\")\n",
    "\n",
    "import matplotlib\n",
    "\n",
    "from matplotlib import font_manager\n",
    "import numpy as np\n",
    "from matplotlib.cm import get_cmap\n",
    "\n",
    "import glob\n",
    "\n",
    "import matplotlib.ticker as ticker\n"
   ]
  },
  {
   "cell_type": "code",
   "execution_count": null,
   "metadata": {},
   "outputs": [],
   "source": [
    "# Add fonts\n",
    "font_dirs = ['../../../../data/fonts']\n",
    "font_files = font_manager.findSystemFonts(fontpaths=font_dirs)\n",
    "\n",
    "for font_file in font_files:\n",
    "    font_manager.fontManager.addfont(font_file)\n",
    "    print (\"Added:\", font_file)"
   ]
  },
  {
   "cell_type": "code",
   "execution_count": null,
   "metadata": {},
   "outputs": [],
   "source": [
    "SMALL_SIZE = 5\n",
    "MEDIUM_SIZE = 6\n",
    "BIGGER_SIZE = 7\n",
    "\n",
    "plt.rc('font', size=BIGGER_SIZE, family='Arimo')          # controls default text sizes\n",
    "\n",
    "plt.rcParams['text.usetex']= False\n",
    "\n",
    "matplotlib.rcParams['pdf.fonttype'] = 42\n",
    "matplotlib.rcParams['ps.fonttype'] = 42"
   ]
  },
  {
   "cell_type": "code",
   "execution_count": null,
   "metadata": {},
   "outputs": [],
   "source": [
    "\n",
    "def configure_axis(ax, ytick_size=MEDIUM_SIZE, xtick_size=MEDIUM_SIZE, xlabel_size=MEDIUM_SIZE, ylabel_size=MEDIUM_SIZE, x_label=None, y_label=None):\n",
    "    # Turn off grid\n",
    "    ax.grid(False) \n",
    "\n",
    "    # Customize spines\n",
    "    ax.spines['left'].set_color('black')\n",
    "    ax.spines['bottom'].set_color('black')\n",
    "    ax.spines['top'].set_visible(False)\n",
    "    ax.spines['right'].set_visible(False)\n",
    "        \n",
    "    # Set tick labels size\n",
    "    ax.tick_params(axis='y', labelsize=ytick_size) \n",
    "    ax.tick_params(axis='x', labelsize=xtick_size) \n",
    "\n",
    "    # Add tick marks\n",
    "    ax.yaxis.set_ticks_position('left')\n",
    "    ax.xaxis.set_ticks_position('bottom')\n",
    "    ax.tick_params(which='major', width=1.00, length=2.5)\n",
    "    ax.tick_params(which='minor', width=0.75, length=1.25)\n",
    "\n",
    "    ax.set_xlabel(x_label, size=xlabel_size)\n",
    "    ax.set_ylabel(y_label, size=ylabel_size)"
   ]
  },
  {
   "cell_type": "markdown",
   "metadata": {},
   "source": [
    "# Load data"
   ]
  },
  {
   "cell_type": "code",
   "execution_count": null,
   "metadata": {},
   "outputs": [],
   "source": [
    "# read raw table\n",
    "reader = pd.ExcelFile('../../../../data/tables/table_panel_regressions_on_s_het_panels.xlsx')\n",
    "\n",
    "all_results_df = pd.read_excel(reader, sheet_name=\"Raw data\", header=[0, 1], skiprows=[2])\n",
    "all_results_df = all_results_df.drop(all_results_df.columns[0], axis=1)\n",
    "\n",
    "# prettify p-values\n",
    "new_columns = [(level0, 'p_value_pretty') for level0 in all_results_df.columns.get_level_values(level=0).unique()]\n",
    "all_results_df[new_columns] = all_results_df.loc[:, (slice(None), 'p_value')].applymap(sci_notation)\n",
    "\n",
    "# leave s_het effects only\n",
    "all_results_df = all_results_df[all_results_df[all_results_df.columns[0]].str.contains('s_het')]\n",
    "\n",
    "all_results_df = all_results_df['Weghorn']"
   ]
  },
  {
   "cell_type": "code",
   "execution_count": null,
   "metadata": {},
   "outputs": [],
   "source": [
    "renaming_dict_target = {\n",
    "    'any_education_including_none': \"Any education\",\n",
    "    'is_blond': 'Hair color', \n",
    "    'childlessness': 'Childlessness'\n",
    "}\n",
    "\n",
    "renaming_dict_panel = {\n",
    "    's_het_recessive_Blindness': 'Blindness',\n",
    "\t's_het_recessive_Cilia_Kidney': 'Cilia + Kidney',\n",
    "\t's_het_recessive_Deafness': 'Deafness',\n",
    "\t's_het_recessive_Derm': 'Dermatologic',\n",
    "\t's_het_recessive_Endocrine': 'Endocrine',\n",
    "\t's_het_recessive_Hematologic': 'Hematologic',\n",
    "\t's_het_recessive_ID_total': 'ID',\n",
    "\t's_het_recessive_Immune_system': 'Immune system',\n",
    "\t's_het_recessive_Metabolic': 'Metabolic',\n",
    "\t's_het_recessive_Metabolic_ID': 'Metabolic-ID',\n",
    "\t's_het_recessive_Neuromuscular': 'Neuromuscular',\n",
    "\t's_het_recessive_Overlaps': 'Multi-system',\n",
    "\t's_het_recessive_Skeletal_Craniofacial': 'Skeletal'\n",
    "}\n",
    "\n",
    "import numpy as np\n",
    "\n",
    "all_results_df = all_results_df[all_results_df['target'].isin(['childlessness', 'any_education_including_none', 'is_blond'])]\n",
    "\n",
    "# all_results_df = all_results_df[all_results_df['target'].isin(['childlessness'])]\n",
    "\n",
    "all_results_df[['odds_ratio', 'odds_ratio_lower', 'odds_ratio_upper']] = np.log(all_results_df[['odds_ratio', 'odds_ratio_lower', 'odds_ratio_upper']].values)\n",
    "\n",
    "all_results_df['odds_ratio_lower'] = all_results_df['odds_ratio'] - all_results_df['odds_ratio_lower']\n",
    "all_results_df['odds_ratio_upper'] = all_results_df['odds_ratio_upper'] - all_results_df['odds_ratio']\n",
    "\n",
    "all_results_df = all_results_df[all_results_df['gender'] == 'all']\n",
    "all_results_df['target'] = all_results_df['target'].apply(lambda x: renaming_dict_target.get(x, x))\n",
    "all_results_df['feature'] = all_results_df['feature'].apply(lambda x: renaming_dict_panel.get(x, x))\n",
    "\n",
    "all_results_df = all_results_df.sort_values(by='feature')"
   ]
  },
  {
   "cell_type": "code",
   "execution_count": null,
   "metadata": {},
   "outputs": [],
   "source": [
    "cm = 1/2.54  # centimeters in inches\n",
    "k = 1.\n",
    "fig = plt.figure(constrained_layout=True, figsize=(8.9*cm*k, 12*cm*k))\n",
    "\n",
    "ax = fig.subplots(1, 1)\n",
    "\n",
    "group_order = ['Childlessness', 'Any education', 'Hair color']\n",
    "\n",
    "legend_kwargs = {\n",
    "    \"bbox_to_anchor\": (0, 1, 1., .102), \n",
    "    \"frameon\": False,\n",
    "    \"mode\": \"expand\", \n",
    "    \"ncol\": 3, \n",
    "    \"labelspacing\": 0.1, \n",
    "    \"markerfirst\": False, \n",
    "    'fontsize': MEDIUM_SIZE\n",
    "}\n",
    "\n",
    "colors = [\"#003f5c\", \"#bc5090\", \"#ffa600\"]\n",
    "\n",
    "plot_errorbar_grouped(df=all_results_df, axis=ax, y_column='feature', group_column = 'target',  \n",
    "                      title='', \n",
    "                      ymargin=0.01, legend_loc='lower right', group_scale=0.2, vertical_loc=0, \n",
    "                      group_order=group_order, colors=colors, legend_kwargs=legend_kwargs)\n",
    "\n",
    "configure_axis(ax, x_label=\"Effect size (99% CI)\")\n",
    "\n",
    "plt.savefig(\"../../../../data/plots/figure_2.pdf\", format=\"pdf\", bbox_inches=\"tight\")"
   ]
  },
  {
   "cell_type": "code",
   "execution_count": null,
   "metadata": {},
   "outputs": [],
   "source": []
  }
 ],
 "metadata": {
  "kernelspec": {
   "display_name": "variant_prio",
   "language": "python",
   "name": "python3"
  },
  "language_info": {
   "codemirror_mode": {
    "name": "ipython",
    "version": 3
   },
   "file_extension": ".py",
   "mimetype": "text/x-python",
   "name": "python",
   "nbconvert_exporter": "python",
   "pygments_lexer": "ipython3",
   "version": "3.7.6"
  }
 },
 "nbformat": 4,
 "nbformat_minor": 2
}
