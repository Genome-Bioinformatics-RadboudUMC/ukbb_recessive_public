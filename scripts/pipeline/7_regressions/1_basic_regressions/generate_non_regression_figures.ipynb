{
 "cells": [
  {
   "cell_type": "code",
   "execution_count": null,
   "metadata": {},
   "outputs": [],
   "source": [
    "import pandas as pd\n",
    "\n",
    "import seaborn as sns\n",
    "\n",
    "import matplotlib.pyplot as plt\n",
    "\n",
    "from ukbb_recessive.regression.regressions import sci_notation, get_plot_data, plot_errorbar, plot_errorbar_grouped\n",
    "from ukbb_recessive.data_collection.variants import VariantFeatures\n",
    "\n",
    "sns.set_style(\"whitegrid\")\n",
    "sns.set_palette(\"Accent\")\n",
    "\n",
    "import matplotlib\n",
    "\n",
    "from matplotlib import font_manager\n",
    "import numpy as np\n",
    "\n",
    "# Add fonts\n",
    "font_dirs = ['../../../../data/fonts']\n",
    "font_files = font_manager.findSystemFonts(fontpaths=font_dirs)\n",
    "\n",
    "for font_file in font_files:\n",
    "    font_manager.fontManager.addfont(font_file)\n",
    "    print (\"Added:\", font_file)"
   ]
  },
  {
   "cell_type": "code",
   "execution_count": null,
   "metadata": {},
   "outputs": [],
   "source": [
    "SMALL_SIZE = 16\n",
    "MEDIUM_SIZE = 22\n",
    "BIGGER_SIZE = 24\n",
    "\n",
    "plt.rc('font', size=SMALL_SIZE, family='Arimo')          # controls default text sizes\n",
    "plt.rc('axes', titlesize=BIGGER_SIZE)     # fontsize of the axes title\n",
    "plt.rc('axes', labelsize=BIGGER_SIZE)    # fontsize of the x and y labels\n",
    "plt.rc('xtick', labelsize=MEDIUM_SIZE)    # fontsize of the tick labels\n",
    "plt.rc('ytick', labelsize=MEDIUM_SIZE)    # fontsize of the tick labels\n",
    "plt.rc('legend', fontsize=SMALL_SIZE)    # legend fontsize\n",
    "plt.rc('figure', titlesize=BIGGER_SIZE)  # fontsize of the figure title\n",
    "\n",
    "plt.rcParams['text.usetex']= False\n",
    "\n",
    "matplotlib.rcParams['pdf.fonttype'] = 42\n",
    "matplotlib.rcParams['ps.fonttype'] = 42"
   ]
  },
  {
   "cell_type": "markdown",
   "metadata": {},
   "source": [
    "# Figure 3A"
   ]
  },
  {
   "cell_type": "code",
   "execution_count": null,
   "metadata": {},
   "outputs": [],
   "source": [
    "cr_df = pd.read_csv(\"../../../../data/tables/CR_panel.csv\").melt(id_vars='Panel', value_vars=['UKB', 'Dutch', 'Estonian']).rename(\n",
    "    columns={'variable': 'Cohort', 'value': 'Consaguinity ratio'})\n",
    "\n",
    "cr_df = cr_df[cr_df['Panel'] != 'Severe genes']\n",
    "\n",
    "cr_df.head(3)"
   ]
  },
  {
   "cell_type": "code",
   "execution_count": null,
   "metadata": {},
   "outputs": [],
   "source": [
    "fig, ax = plt.subplots(1, 1, figsize=(20, 7))\n",
    "\n",
    "sns.barplot(data=cr_df, x='Panel', y='Consaguinity ratio', hue='Cohort')\n",
    "plt.xticks(rotation=90)\n",
    "plt.xlabel(None)\n",
    "plt.title(\"Consanguinity ratio scores for three European cohorts\")\n",
    "\n",
    "for container in ax.containers:\n",
    "    ax.bar_label(container)\n",
    "\n",
    "ax.grid(linestyle='dotted', axis='y') \n",
    "\n",
    "plt.savefig(\"../../../../data/plots/figure_4a.pdf\", format=\"pdf\", bbox_inches=\"tight\")\n"
   ]
  },
  {
   "cell_type": "markdown",
   "metadata": {},
   "source": [
    "# Figure 3B"
   ]
  },
  {
   "cell_type": "code",
   "execution_count": null,
   "metadata": {},
   "outputs": [],
   "source": [
    "af_df = pd.read_csv(\"../../../../data/tables/figure_3b.csv\")\n",
    "\n",
    "af_df.columns = ['Gene set', 'UK Biobank AF', 'Dutch cohort AF']\n",
    "\n",
    "af_df.head(2)"
   ]
  },
  {
   "cell_type": "code",
   "execution_count": null,
   "metadata": {},
   "outputs": [],
   "source": [
    "af_df"
   ]
  },
  {
   "cell_type": "code",
   "execution_count": null,
   "metadata": {},
   "outputs": [],
   "source": [
    "plt.rc('font', size=15, family='Arimo')          # controls default text sizes\n",
    "\n",
    "fig, ax = plt.subplots(1, 1, figsize=(20, 8))\n",
    "\n",
    "sns.regplot(data=af_df, x='UK Biobank AF', y='Dutch cohort AF', marker='D',  scatter_kws={\"color\": \"salmon\"})\n",
    "# sns.lineplot(x=[0, 0.001], y=[0, 0.001], color='gray', linestyle='--')\n",
    "for row in af_df.values:\n",
    "    gene_set, ukb_af, dutch_af = tuple(row)\n",
    "    if 'Blindness' in gene_set:\n",
    "        dutch_af -= 0.000005\n",
    "    if 'Cilia' in gene_set:\n",
    "        dutch_af += 0.00001\n",
    "        ukb_af +=  0.00001\n",
    "    if 'Multi' in gene_set:\n",
    "        dutch_af += 0.00003\n",
    "        ukb_af +=  0.00001\n",
    "    if 'Derma' in gene_set:\n",
    "        dutch_af += 0.000005\n",
    "    if 'Metabolic-ID' in gene_set:\n",
    "        dutch_af += 0.000005\n",
    "    if 'Deafness' in gene_set:\n",
    "        dutch_af += 0.000025\n",
    "    if (ukb_af >= 0.00045) and ('Deafness' not in gene_set):\n",
    "        plt.annotate(gene_set, (ukb_af+0.0001,  dutch_af-0.000005))\n",
    "    elif (\"ID (2.9\" in gene_set):\n",
    "        plt.annotate(gene_set, (ukb_af+0.00006,  dutch_af-0.000005))\n",
    "    else:\n",
    "        plt.annotate(gene_set, (ukb_af-0.000005,  dutch_af-0.000005))\n",
    "\n",
    "# plt.xscale('log')\n",
    "# plt.yscale('log')\n",
    "\n",
    "ax.grid(linestyle='dotted') \n",
    "plt.xlim([0.0001, 0.0009])\n",
    "\n",
    "\n",
    "\n",
    "plt.gca().invert_xaxis()\n",
    "plt.gca().invert_yaxis()\n",
    "\n",
    "plt.title(\"Average allele frequency correlation UK Biobank - Dutch cohorts\")\n",
    "\n",
    "plt.savefig(\"../../../../data/plots/figure_4b.pdf\", format=\"pdf\", bbox_inches=\"tight\")\n"
   ]
  },
  {
   "cell_type": "markdown",
   "metadata": {},
   "source": [
    "# Supplementary figures"
   ]
  },
  {
   "cell_type": "code",
   "execution_count": null,
   "metadata": {},
   "outputs": [],
   "source": [
    "import glob\n",
    "from matplotlib.cm import get_cmap"
   ]
  },
  {
   "cell_type": "code",
   "execution_count": null,
   "metadata": {},
   "outputs": [],
   "source": [
    "# samples of interest: European & non-related\n",
    "european_non_rel_samples =  \".../450k/samples/european_non_related_no_withdrawal_to_include.txt\"\n",
    "\n",
    "european_non_rel_samples = set(pd.read_csv(european_non_rel_samples, header=None)[0].values.tolist())\n",
    "print (\"Number of samples:\", len(european_non_rel_samples))\n"
   ]
  },
  {
   "cell_type": "code",
   "execution_count": null,
   "metadata": {},
   "outputs": [],
   "source": [
    "plps = \".../450k/plp_selection/basic/new_gene_names/new_freq/all_chr_total_presumable_plps_HFE_final_sorted.txt\"\n",
    "\n",
    "plps = pd.read_csv(plps, sep='\\t')\n",
    "\n",
    "plps.head(1)"
   ]
  },
  {
   "cell_type": "code",
   "execution_count": null,
   "metadata": {},
   "outputs": [],
   "source": [
    "gene_panel = pd.read_csv(\".../gene-panel-gencode-v34.txt\", header=None)\n",
    "gene_panel.columns = ['gene', 'panel']\n"
   ]
  },
  {
   "cell_type": "code",
   "execution_count": null,
   "metadata": {},
   "outputs": [],
   "source": [
    "plt.rc('font', size=13, family='Arimo')          # controls default text sizes\n",
    "\n",
    "sample_plps = glob.glob(\".../450k/RAP_output_per_chr/filtered_plps/basic/new_gene_names/new_freq/chr*\")\n",
    "sample_plps = VariantFeatures().read_sample_plps(sample_plps)\n",
    "sample_plps = sample_plps[sample_plps['s'].isin(european_non_rel_samples)]\n",
    "sample_plps = sample_plps[sample_plps['GT'] != '1/1']\n",
    "\n",
    "per_sample_plp_count = sample_plps.groupby('s').count()[['chrom']].reset_index().rename(columns={'chrom': 'plp_cnt'})\n",
    "per_sample_plp_count = per_sample_plp_count.merge(pd.DataFrame({'s': list(european_non_rel_samples)}), how='outer').fillna(0)\n",
    "per_sample_plp_count = per_sample_plp_count.groupby('plp_cnt').count().reset_index()\n",
    "per_sample_plp_count['plp_cnt'] = per_sample_plp_count['plp_cnt'].astype(int)\n",
    "\n",
    "per_sample_plp_count = per_sample_plp_count.sort_values(by='plp_cnt')\n",
    "\n",
    "# plot\n",
    "fig, ax = plt.subplots(1, 2, figsize=(22, 8))\n",
    "\n",
    "sns.barplot(data=per_sample_plp_count, x='plp_cnt', y='s', ax=ax[0], palette=\"Accent\")\n",
    "# add the annotation\n",
    "ax[0].bar_label(ax[0].containers[-1],  label_type='edge')\n",
    "\n",
    "ax[0].grid(linestyle='dotted', axis='y') \n",
    "\n",
    "\n",
    "ax[0].set_xlabel(\"Number of PLPs\")\n",
    "ax[0].set_ylabel(\"Number of samples\")\n",
    "\n",
    "per_sample_plp_count.loc[per_sample_plp_count['plp_cnt'] > 5, 'plp_cnt'] = '6+'\n",
    "per_sample_plp_count = per_sample_plp_count.groupby('plp_cnt').sum().reset_index()\n",
    "\n",
    "plt.rc('font', size=15, family='Arimo')          # controls default text sizes\n",
    "\n",
    "\n",
    "# per_sample_plp_count = per_sample_plp_count.sort_values(by='plp_cnt')\n",
    "sns.set_palette(\"Accent\")\n",
    "\n",
    "ax[1].pie(per_sample_plp_count['s'],\n",
    "          labels = per_sample_plp_count['plp_cnt'].astype(str), \n",
    "          autopct='%.2f%%', \n",
    "          explode=[0.1]*per_sample_plp_count.shape[0],\n",
    "          startangle=180,\n",
    "          counterclock=False)\n",
    "\n",
    "ax[1].set_xlabel(\"Number of PLPs per sample\")\n",
    "\n",
    "plt.savefig(\"../../../../data/plots/supp_figure_1.pdf\", format=\"pdf\", bbox_inches=\"tight\")\n"
   ]
  },
  {
   "cell_type": "code",
   "execution_count": null,
   "metadata": {},
   "outputs": [],
   "source": [
    "def hets_freq_bin(hets_freq):\n",
    "    if hets_freq <= 0:\n",
    "        return '0%'\n",
    "    elif hets_freq <= 0.5:\n",
    "        return '0-0.5%'\n",
    "    elif hets_freq <= 1:\n",
    "        return '0.5-1%'\n",
    "    elif hets_freq <= 2:\n",
    "        return '1-2%'\n",
    "    elif hets_freq <= 5:\n",
    "        return '2-5%'\n",
    "    else:\n",
    "        return '>5%'\n",
    "\n",
    "plt.rc('font', size=15, family='Arimo')          # controls default text sizes\n",
    "\n",
    "\n",
    "plps['hets_freq'] = plps['hets']*100./len(european_non_rel_samples)\n",
    "plps['hets_freq_bin'] = plps['hets_freq'].apply(hets_freq_bin)\n",
    "\n",
    "plps_freq_count = plps.groupby('hets_freq_bin').count()[['chr']].reset_index().rename(columns={'chr': 'plp_cnt'})\n",
    "plps_freq_count = plps_freq_count[plps_freq_count['hets_freq_bin'] != '0%']\n",
    "\n",
    "# plot\n",
    "fig, ax = plt.subplots(1, 1, figsize=(22, 8))\n",
    "ax=[ax]\n",
    "\n",
    "sns.barplot(data=plps_freq_count, x='hets_freq_bin', y='plp_cnt', ax=ax[0])\n",
    "# add the annotation\n",
    "labels =[x.get_height() for x in ax[0].containers[-1]]\n",
    "labels_percentage = [f\"{int(num)} \\n({round(num*100/sum(labels), 4)}%)\" for num in labels]\n",
    "\n",
    "ax[0].bar_label(ax[0].containers[-1],  labels=labels_percentage, label_type='edge')\n",
    "ax[0].grid(linestyle='dotted', axis='y') \n",
    "\n",
    "ax[0].set_xlabel(\"Variant frequency\")\n",
    "ax[0].set_ylabel(\"Number of variants\")\n",
    "\n",
    "ax[0].set_yscale(\"log\")\n",
    "plt.savefig(\"../../../../data/plots/supp_figure_2.pdf\", format=\"pdf\", bbox_inches=\"tight\")\n"
   ]
  },
  {
   "cell_type": "code",
   "execution_count": null,
   "metadata": {},
   "outputs": [],
   "source": [
    "plps_gene = plps.groupby('gene').agg({'hets': 'sum'}).reset_index().merge(gene_panel, how='outer').fillna(0)\n",
    "\n",
    "plps_gene['hets_freq'] = plps_gene['hets']*100./len(european_non_rel_samples)\n",
    "plps_gene['hets_freq_bin'] = plps_gene['hets_freq'].apply(hets_freq_bin)\n",
    "\n",
    "plps_freq_gene_count = plps_gene.groupby('hets_freq_bin').count()[['gene']].reset_index().rename(columns={'gene': 'plp_cnt'})\n",
    "plps_freq_gene_count['plp_cnt'] = plps_freq_gene_count['plp_cnt'].astype(int)\n",
    "\n",
    "# plot\n",
    "fig, ax = plt.subplots(1, 1, figsize=(22, 8))\n",
    "ax=[ax]\n",
    "\n",
    "sns.barplot(data=plps_freq_gene_count, x='hets_freq_bin', y='plp_cnt', ax=ax[0])\n",
    "# add the annotation\n",
    "labels =[x.get_height() for x in ax[0].containers[-1]]\n",
    "labels_percentage = [f\"{int(num)} \\n({round(num*100/sum(labels), 4)}%)\" for num in labels]\n",
    "\n",
    "ax[0].bar_label(ax[0].containers[-1],  labels=labels_percentage, label_type='edge')\n",
    "ax[0].grid(linestyle='dotted', axis='y') \n",
    "\n",
    "ax[0].set_xlabel(\"Carrier frequency\")\n",
    "ax[0].set_ylabel(\"Number of genes\")\n",
    "\n",
    "ax[0].set_yscale(\"log\")\n",
    "plt.savefig(\"../../../../data/plots/supp_figure_3.pdf\", format=\"pdf\", bbox_inches=\"tight\")\n"
   ]
  },
  {
   "cell_type": "code",
   "execution_count": null,
   "metadata": {},
   "outputs": [],
   "source": []
  }
 ],
 "metadata": {
  "kernelspec": {
   "display_name": "variant_prio",
   "language": "python",
   "name": "python3"
  },
  "language_info": {
   "codemirror_mode": {
    "name": "ipython",
    "version": 3
   },
   "file_extension": ".py",
   "mimetype": "text/x-python",
   "name": "python",
   "nbconvert_exporter": "python",
   "pygments_lexer": "ipython3",
   "version": "3.7.6"
  },
  "orig_nbformat": 4
 },
 "nbformat": 4,
 "nbformat_minor": 2
}
