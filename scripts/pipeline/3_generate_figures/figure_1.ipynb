{
 "cells": [
  {
   "cell_type": "code",
   "execution_count": 47,
   "metadata": {},
   "outputs": [
    {
     "name": "stdout",
     "output_type": "stream",
     "text": [
      "Added: .../ukbb_recessive/data/fonts/Arimo-VariableFont_wght.ttf\n"
     ]
    }
   ],
   "source": [
    "import pandas as pd\n",
    "\n",
    "import seaborn as sns\n",
    "\n",
    "import matplotlib.pyplot as plt\n",
    "import matplotlib\n",
    "from ukbb_recessive.regression.regressions import read_results_excel\n",
    "from ukbb_recessive.data_collection.variants import VariantFeatures\n",
    "import ukbb_recessive.regression.plotting as plotting\n",
    "\n",
    "sns.set_style(\"whitegrid\")\n",
    "\n",
    "import matplotlib\n",
    "\n",
    "import glob\n",
    "\n",
    "# Add fonts\n",
    "plotting.add_fonts(['../../../data/fonts'])\n",
    "plotting.configure_matplotlib()\n",
    "\n",
    "plt.rc('font', size=plotting.SMALL_SIZE, family='Arimo')"
   ]
  },
  {
   "cell_type": "markdown",
   "metadata": {},
   "source": [
    "# Prepare datasets"
   ]
  },
  {
   "cell_type": "markdown",
   "metadata": {},
   "source": [
    "## PLP carriers"
   ]
  },
  {
   "cell_type": "code",
   "execution_count": 48,
   "metadata": {},
   "outputs": [
    {
     "name": "stdout",
     "output_type": "stream",
     "text": [
      "Number of samples: 376608\n"
     ]
    }
   ],
   "source": [
    "# samples of interest: European & non-related\n",
    "european_non_rel_samples = (\n",
    "    \".../450k/samples/european_non_related_no_withdrawal_to_include_450k.no_hom_comp_het.txt\"\n",
    ")\n",
    "\n",
    "european_non_rel_samples = set([int(x) for x in pd.read_csv(european_non_rel_samples, header=None)[0].values.tolist()])\n",
    "print (\"Number of samples:\", len(european_non_rel_samples))"
   ]
  },
  {
   "cell_type": "code",
   "execution_count": 49,
   "metadata": {},
   "outputs": [
    {
     "name": "stdout",
     "output_type": "stream",
     "text": [
      "All PLPs in the cohort: 764216\n",
      "Heterozygous PLPs in the cohort: 761211\n",
      "Number of samples without plp: 65806\n",
      "Average PLP per person: 1.8656905854363157\n"
     ]
    },
    {
     "data": {
      "text/html": [
       "<div>\n",
       "<style scoped>\n",
       "    .dataframe tbody tr th:only-of-type {\n",
       "        vertical-align: middle;\n",
       "    }\n",
       "\n",
       "    .dataframe tbody tr th {\n",
       "        vertical-align: top;\n",
       "    }\n",
       "\n",
       "    .dataframe thead th {\n",
       "        text-align: right;\n",
       "    }\n",
       "</style>\n",
       "<table border=\"1\" class=\"dataframe\">\n",
       "  <thead>\n",
       "    <tr style=\"text-align: right;\">\n",
       "      <th></th>\n",
       "      <th>plp_cnt</th>\n",
       "      <th>s</th>\n",
       "    </tr>\n",
       "  </thead>\n",
       "  <tbody>\n",
       "    <tr>\n",
       "      <th>0</th>\n",
       "      <td>0</td>\n",
       "      <td>65806</td>\n",
       "    </tr>\n",
       "    <tr>\n",
       "      <th>1</th>\n",
       "      <td>1</td>\n",
       "      <td>100767</td>\n",
       "    </tr>\n",
       "    <tr>\n",
       "      <th>2</th>\n",
       "      <td>2</td>\n",
       "      <td>98974</td>\n",
       "    </tr>\n",
       "  </tbody>\n",
       "</table>\n",
       "</div>"
      ],
      "text/plain": [
       "   plp_cnt       s\n",
       "0        0   65806\n",
       "1        1  100767\n",
       "2        2   98974"
      ]
     },
     "execution_count": 49,
     "metadata": {},
     "output_type": "execute_result"
    }
   ],
   "source": [
    "sample_plps = glob.glob(\".../450k/RAP_output_per_chr/filtered_plps/basic/new_gene_names/new_freq/new_relatedness/chr*\")\n",
    "\n",
    "# read information about the PLPs per sample\n",
    "sample_plps = VariantFeatures().read_sample_plps(sample_plps, filter_homozygous=True)\n",
    "\n",
    "# leave only European non-related samples\n",
    "sample_plps = sample_plps[sample_plps['s'].isin(european_non_rel_samples)]\n",
    "print (\"Number of samples without plp:\", len(european_non_rel_samples) - sample_plps['s'].nunique())\n",
    "\n",
    "# calculate the number of PLPs per carrier\n",
    "sample_plps.loc[:, 'AC'] = 1\n",
    "per_sample_plp_count = sample_plps[['AC', 's']].groupby('s').sum().reset_index().rename(columns={'AC': 'plp_cnt'})\n",
    "\n",
    "# add samples without PLPs\n",
    "per_sample_plp_count = per_sample_plp_count.merge(pd.DataFrame({'s': list(european_non_rel_samples)}), how='outer').fillna(0)\n",
    "print (\"Average PLP per person:\", per_sample_plp_count['plp_cnt'].mean())\n",
    "\n",
    "# group by the number of PLPs\n",
    "per_sample_plp_count = per_sample_plp_count.groupby('plp_cnt').count().reset_index()\n",
    "per_sample_plp_count['plp_cnt'] = per_sample_plp_count['plp_cnt'].astype(int)\n",
    "\n",
    "per_sample_plp_count = per_sample_plp_count.sort_values(by='plp_cnt')\n",
    "\n",
    "per_sample_plp_count.head(3)"
   ]
  },
  {
   "cell_type": "markdown",
   "metadata": {},
   "source": [
    "## PLP AF"
   ]
  },
  {
   "cell_type": "code",
   "execution_count": 50,
   "metadata": {},
   "outputs": [],
   "source": [
    "def add_s_het_bin(s_het, bin_column='s_het_bin', n_bins=5):\n",
    "\n",
    "    s_het[bin_column] = pd.qcut(s_het['s_het'], n_bins, precision=1)\n",
    "\n",
    "    mybinlabels = {i: f'≤ {i.right}' for i in s_het.s_het_bin.cat.categories}\n",
    "    last = s_het.s_het_bin.cat.categories[-1]\n",
    "    mybinlabels[last] = f'> {last.left}'\n",
    "    s_het[bin_column] = s_het[bin_column].cat.rename_categories(mybinlabels)\n",
    "\n",
    "    return s_het"
   ]
  },
  {
   "cell_type": "code",
   "execution_count": 51,
   "metadata": {},
   "outputs": [
    {
     "name": "stdout",
     "output_type": "stream",
     "text": [
      "Number of PLPs: 54758\n",
      "Number of PLPs in known s-het genes: 1842\n"
     ]
    }
   ],
   "source": [
    "plps = pd.read_csv(\n",
    "    \".../450k/plp_selection/basic/new_gene_names/new_freq/new_relatedness/all_chr_total_presumable_plps_HFE_final_sorted.txt\", \n",
    "    sep='\\t')\n",
    "\n",
    "print (\"Number of PLPs:\", plps.shape[0])\n",
    "\n",
    "# select PLPs\n",
    "plps = plps[(plps['homs'] <= 0)]\n",
    "\n",
    "# plps = plps[(plps['homs'] <= 0) & (plps['hets'] <= 20)]\n",
    "\n",
    "plps = plps.groupby('gene').agg({'hets': 'max'}).reset_index()\n",
    "\n",
    "s_het = pd.read_csv(\".../450k/selection_roulette/s_het_roulette_gencode-v34.csv\", sep='\\t')\n",
    "s_het = add_s_het_bin(s_het)\n",
    "\n",
    "plps = plps.merge(s_het, how='inner', left_on='gene', right_on='gene_symbol')\n",
    "print (\"Number of PLPs in known s-het genes:\", plps.shape[0])"
   ]
  },
  {
   "cell_type": "markdown",
   "metadata": {},
   "source": [
    "## Childlessness regressions on different variants sets"
   ]
  },
  {
   "cell_type": "code",
   "execution_count": 75,
   "metadata": {},
   "outputs": [],
   "source": [
    "tables_folder = '../../../data/tables'\n",
    "output_folder = '../../../data/plots'\n",
    "\n",
    "results_path = f\"{tables_folder}/table_selection_analysis.xlsx\"\n",
    "\n",
    "# load flat table\n",
    "childlessness = read_results_excel(results_path, flatten_multiindex=True)\n",
    "\n",
    "# leave only necessary s_het effect\n",
    "childlessness = childlessness[childlessness['feature'].str.contains(\"s_het\")]\n",
    "\n",
    "# add odds ratio distance\n",
    "childlessness = plotting.add_odds_ratio_intervals(childlessness)"
   ]
  },
  {
   "cell_type": "code",
   "execution_count": 76,
   "metadata": {},
   "outputs": [
    {
     "data": {
      "text/html": [
       "<div>\n",
       "<style scoped>\n",
       "    .dataframe tbody tr th:only-of-type {\n",
       "        vertical-align: middle;\n",
       "    }\n",
       "\n",
       "    .dataframe tbody tr th {\n",
       "        vertical-align: top;\n",
       "    }\n",
       "\n",
       "    .dataframe thead th {\n",
       "        text-align: right;\n",
       "    }\n",
       "</style>\n",
       "<table border=\"1\" class=\"dataframe\">\n",
       "  <thead>\n",
       "    <tr style=\"text-align: right;\">\n",
       "      <th></th>\n",
       "      <th>dataset</th>\n",
       "      <th>feature</th>\n",
       "      <th>effect</th>\n",
       "      <th>odds_ratio</th>\n",
       "      <th>odds_ratio_lower</th>\n",
       "      <th>odds_ratio_upper</th>\n",
       "      <th>odds_ratio_pretty</th>\n",
       "      <th>p_value</th>\n",
       "      <th>p_value_corrected</th>\n",
       "      <th>bonferroni_correction_coef</th>\n",
       "      <th>n_observations</th>\n",
       "      <th>target</th>\n",
       "      <th>gender</th>\n",
       "      <th>analysis</th>\n",
       "      <th>formula</th>\n",
       "      <th>family</th>\n",
       "      <th>p_value_pretty</th>\n",
       "      <th>p_value_corrected_pretty</th>\n",
       "      <th>odds_ratio_lower_distance</th>\n",
       "      <th>odds_ratio_upper_distance</th>\n",
       "    </tr>\n",
       "  </thead>\n",
       "  <tbody>\n",
       "    <tr>\n",
       "      <th>27</th>\n",
       "      <td>Roulette</td>\n",
       "      <td>s_het_recessive_all</td>\n",
       "      <td>0.533132</td>\n",
       "      <td>1.704261</td>\n",
       "      <td>1.111429</td>\n",
       "      <td>2.613308</td>\n",
       "      <td>OR = 1.704</td>\n",
       "      <td>1.316271e-03</td>\n",
       "      <td>1.316271e-02</td>\n",
       "      <td>10</td>\n",
       "      <td>368224</td>\n",
       "      <td>Childlessness</td>\n",
       "      <td>all</td>\n",
       "      <td>PLPs in recessive genes</td>\n",
       "      <td>childlessness ~ s_het_recessive_all + age_at_r...</td>\n",
       "      <td>binomial</td>\n",
       "      <td>1.32×10⁻³</td>\n",
       "      <td>0.013</td>\n",
       "      <td>0.592832</td>\n",
       "      <td>0.909047</td>\n",
       "    </tr>\n",
       "    <tr>\n",
       "      <th>35</th>\n",
       "      <td>Roulette</td>\n",
       "      <td>s_het_recessive_all</td>\n",
       "      <td>0.216826</td>\n",
       "      <td>1.242128</td>\n",
       "      <td>0.727424</td>\n",
       "      <td>2.121023</td>\n",
       "      <td>OR = 1.242</td>\n",
       "      <td>2.965785e-01</td>\n",
       "      <td>2.965785e+00</td>\n",
       "      <td>10</td>\n",
       "      <td>369270</td>\n",
       "      <td>Hair color</td>\n",
       "      <td>all</td>\n",
       "      <td>PLPs in recessive genes</td>\n",
       "      <td>is_blond ~ s_het_recessive_all + age_at_recrui...</td>\n",
       "      <td>binomial</td>\n",
       "      <td>0.297</td>\n",
       "      <td>1</td>\n",
       "      <td>0.514704</td>\n",
       "      <td>0.878895</td>\n",
       "    </tr>\n",
       "    <tr>\n",
       "      <th>43</th>\n",
       "      <td>Roulette</td>\n",
       "      <td>s_het_lof_without_AR</td>\n",
       "      <td>0.766382</td>\n",
       "      <td>2.151967</td>\n",
       "      <td>1.731414</td>\n",
       "      <td>2.674670</td>\n",
       "      <td>OR = 2.152</td>\n",
       "      <td>1.100615e-19</td>\n",
       "      <td>1.100615e-18</td>\n",
       "      <td>10</td>\n",
       "      <td>374671</td>\n",
       "      <td>Childlessness</td>\n",
       "      <td>all</td>\n",
       "      <td>Singleton LoFs in non-recessive genes</td>\n",
       "      <td>childlessness ~ s_het_lof_without_AR + age_at_...</td>\n",
       "      <td>binomial</td>\n",
       "      <td>1.10×10⁻¹⁹</td>\n",
       "      <td>1.10×10⁻¹⁸</td>\n",
       "      <td>0.420553</td>\n",
       "      <td>0.522704</td>\n",
       "    </tr>\n",
       "  </tbody>\n",
       "</table>\n",
       "</div>"
      ],
      "text/plain": [
       "     dataset               feature    effect  odds_ratio  odds_ratio_lower  \\\n",
       "27  Roulette   s_het_recessive_all  0.533132    1.704261          1.111429   \n",
       "35  Roulette   s_het_recessive_all  0.216826    1.242128          0.727424   \n",
       "43  Roulette  s_het_lof_without_AR  0.766382    2.151967          1.731414   \n",
       "\n",
       "    odds_ratio_upper odds_ratio_pretty       p_value  p_value_corrected  \\\n",
       "27          2.613308        OR = 1.704  1.316271e-03       1.316271e-02   \n",
       "35          2.121023        OR = 1.242  2.965785e-01       2.965785e+00   \n",
       "43          2.674670        OR = 2.152  1.100615e-19       1.100615e-18   \n",
       "\n",
       "    bonferroni_correction_coef  n_observations         target gender  \\\n",
       "27                          10          368224  Childlessness    all   \n",
       "35                          10          369270     Hair color    all   \n",
       "43                          10          374671  Childlessness    all   \n",
       "\n",
       "                                 analysis  \\\n",
       "27                PLPs in recessive genes   \n",
       "35                PLPs in recessive genes   \n",
       "43  Singleton LoFs in non-recessive genes   \n",
       "\n",
       "                                              formula    family  \\\n",
       "27  childlessness ~ s_het_recessive_all + age_at_r...  binomial   \n",
       "35  is_blond ~ s_het_recessive_all + age_at_recrui...  binomial   \n",
       "43  childlessness ~ s_het_lof_without_AR + age_at_...  binomial   \n",
       "\n",
       "   p_value_pretty p_value_corrected_pretty  odds_ratio_lower_distance  \\\n",
       "27      1.32×10⁻³                    0.013                   0.592832   \n",
       "35          0.297                        1                   0.514704   \n",
       "43     1.10×10⁻¹⁹               1.10×10⁻¹⁸                   0.420553   \n",
       "\n",
       "    odds_ratio_upper_distance  \n",
       "27                   0.909047  \n",
       "35                   0.878895  \n",
       "43                   0.522704  "
      ]
     },
     "execution_count": 76,
     "metadata": {},
     "output_type": "execute_result"
    }
   ],
   "source": [
    "# Dictionary to rename target columns\n",
    "renaming_dict_target = {\n",
    "    'is_blond': 'Hair color', \n",
    "    'childlessness': 'Childlessness'\n",
    "}\n",
    "\n",
    "# select targets of interest\n",
    "childlessness = childlessness[childlessness['target'].isin(renaming_dict_target.keys())].copy()\n",
    "childlessness['target'] = childlessness['target'].apply(lambda x: renaming_dict_target.get(x, x))\n",
    "\n",
    "# select gender of interest\n",
    "childlessness = childlessness[childlessness['gender'] == 'all']\n",
    "\n",
    "# select dataset\n",
    "childlessness = childlessness[childlessness['dataset'] == 'Roulette']\n",
    "\n",
    "# select analyses\n",
    "renaming_dict_analyses = {\n",
    "    'selection regressions on [s_het_recessive_all]' : 'PLPs in recessive genes',\n",
    "    'selection regressions on [s_het_lof_without_AR]' : 'Singleton LoFs in non-recessive genes',\n",
    "    'exlude_lof_carriers regressions on [s_het_recessive_all]' : 'PLPs in recessive genes w/out LoF carriers'\n",
    "}\n",
    "\n",
    "childlessness = childlessness[childlessness['analysis'].isin(renaming_dict_analyses.keys())].copy()\n",
    "childlessness['analysis'] = childlessness['analysis'].apply(lambda x: renaming_dict_analyses.get(x, x))\n",
    "\n",
    "childlessness.head(3)"
   ]
  },
  {
   "cell_type": "markdown",
   "metadata": {},
   "source": [
    "# Plot"
   ]
  },
  {
   "cell_type": "code",
   "execution_count": 77,
   "metadata": {},
   "outputs": [
    {
     "data": {
      "text/plain": [
       "['≤ 0.01', '≤ 0.02', '≤ 0.04', '≤ 0.1', '> 0.1']\n",
       "Categories (5, object): ['≤ 0.01' < '≤ 0.02' < '≤ 0.04' < '≤ 0.1' < '> 0.1']"
      ]
     },
     "execution_count": 77,
     "metadata": {},
     "output_type": "execute_result"
    }
   ],
   "source": [
    "plps.sort_values(by='s_het')['s_het_bin'].unique()  "
   ]
  },
  {
   "cell_type": "code",
   "execution_count": 88,
   "metadata": {},
   "outputs": [],
   "source": [
    "# Create a function to format numbers with a comma as a thousand separator\n",
    "def format_thousands(x):\n",
    "    return f'{x:,.0f}'  # Use , as a thousand separator and format as integers\n",
    "\n",
    "\n",
    "def plot_1a(ax):\n",
    "\n",
    "    # return \n",
    "\n",
    "    sns.barplot(data=per_sample_plp_count, x='plp_cnt', y='s', ax=ax, color='#74C0D1', edgecolor='k', linewidth=0.5)\n",
    "\n",
    "    # add the annotation\n",
    "    # Format the y-data using the format_thousands function\n",
    "    labels = [format_thousands(val) for val in ax.containers[-1].datavalues]\n",
    "    ax.bar_label(ax.containers[-1],  label_type='edge', labels=labels, rotation=90, padding=3, fontsize=plotting.SMALL_SIZE)\n",
    "\n",
    "    plotting.configure_axis(ax, x_label='Number of PLPs', y_label='Samples', format_x=False)\n",
    "\n",
    "\n",
    "def plot_s_het_AF_per_gene(ax):\n",
    "    sns.boxplot(data=plps.sort_values(by='s_het'), x='s_het_bin', y='hets', hue='s_het_bin', palette='light:salmon', linewidth=0.5, ax=ax, \n",
    "                linecolor='k', legend=None, \n",
    "                flierprops={\"markersize\": 0.2, \"marker\":'h', 'markerfacecolor': 'g', 'markeredgecolor': 'k'})\n",
    "\n",
    "\n",
    "    plotting.configure_axis(ax, x_label='S-het per gene', y_label='PLPs highest AF\\nper gene', format_x=False, ylim=(0.8, 10000))\n",
    "    # plt.xticks(rotation=90)\n",
    "    ax.set_yscale('log')\n",
    "    # ax.set_ylim([0, 10000])\n",
    "\n",
    "\n",
    "def plot_1b(ax, targets):\n",
    "\n",
    "    y_order = targets\n",
    "    group_order = ['Singleton LoFs in non-recessive genes', 'PLPs in recessive genes w/out LoF carriers', 'PLPs in recessive genes'][::-1]\n",
    "\n",
    "    legend_kwargs = {\n",
    "        \"bbox_to_anchor\": (0.0, 1., 1, .102), \n",
    "        \"frameon\": False,\n",
    "        \"mode\": \"expand\", \n",
    "        \"ncol\": 1, \n",
    "        \"labelspacing\": 0.1, \n",
    "        \"markerfirst\": False, \n",
    "        'fontsize': plotting.MEDIUM_SIZE\n",
    "    }\n",
    "\n",
    "    # colors=['#B048B5', '#046307', '#FFAE42']\n",
    "    colors=['#B048B5',  '#FF8225', '#046307',]\n",
    "\n",
    "    plotted_data = plotting.plot_errorbar_grouped(df=childlessness[childlessness['target'].isin(targets)].copy(), \n",
    "                                        axis=ax, y_column='target', group_column = 'analysis',  \n",
    "                                        legend_loc=None, \n",
    "                                        legend_kwargs=legend_kwargs,\n",
    "                                        group_scale=0.01, \n",
    "                                        y_scale=0.04,\n",
    "                                        colors=colors,\n",
    "                                        y_order=y_order, \n",
    "                                        group_order=group_order\n",
    "                                        )\n",
    "\n",
    "\n",
    "    plotting.configure_axis(ax, x_label='OR (99% CI)', y_label=None, format_x=True, ymargin=0.5,)\n",
    "\n",
    "    # Display p-values or any other information in the sidebar\n",
    "    p_values = plotted_data['p_value_corrected_pretty']\n",
    "    or_values = plotted_data['odds_ratio']\n",
    "    positions = plotted_data['y']\n",
    "\n",
    "\n",
    "    for i, (p, oddsr, pos) in enumerate(zip(p_values, or_values, positions)):\n",
    "        ax.text(oddsr+0.05, pos+0.005, f'{oddsr:.2f}   {p}', va='center', size=plotting.MEDIUM_SIZE)\n"
   ]
  },
  {
   "cell_type": "code",
   "execution_count": 95,
   "metadata": {},
   "outputs": [
    {
     "data": {
      "image/png": "[encoded data removed]",
      "text/plain": [
       "<Figure size 708.661x314.961 with 5 Axes>"
      ]
     },
     "metadata": {},
     "output_type": "display_data"
    }
   ],
   "source": [
    "import matplotlib.ticker as ticker\n",
    "\n",
    "cm = 1/2.54  # centimeters in inches\n",
    "k = 1.\n",
    "fig = plt.figure(constrained_layout=True, figsize=(18*cm*k, 8*cm*k))\n",
    "\n",
    "# divide subfigure into left and right parts\n",
    "subfigs = fig.subfigures(nrows=1, ncols=3, width_ratios=[0.5, 1, 1], wspace=0.03)\n",
    "\n",
    "# divide left part into top and bottom subplots\n",
    "subfigs_left = subfigs[1].subfigures(nrows=2, ncols=1, height_ratios=[2, 2], hspace=0.07)\n",
    "\n",
    "# plot plp statistic on the top one\n",
    "ax_1 = subfigs_left[0].subplots(1, 1)\n",
    "\n",
    "plot_s_het_AF_per_gene(ax_1)\n",
    "\n",
    "# plot plp statistic on the bottom one\n",
    "ax_1 = subfigs_left[1].subplots(1, 1)\n",
    "\n",
    "plot_1a(ax_1)\n",
    "\n",
    "# plot regression analysis on the rigt part\n",
    "ax = subfigs[2].subplots(3, 1, height_ratios=[0.5, 1, 1])\n",
    "ax[0].axis('off')\n",
    "plot_1b(ax[1], ['Childlessness'])\n",
    "plot_1b(ax[2], ['Hair color'])\n",
    "\n",
    "\n",
    "plt.savefig(f\"{output_folder}/figure_1.pdf\", format=\"pdf\", bbox_inches=\"tight\")\n",
    "\n",
    "plt.show()"
   ]
  },
  {
   "cell_type": "code",
   "execution_count": null,
   "metadata": {},
   "outputs": [],
   "source": []
  },
  {
   "cell_type": "code",
   "execution_count": null,
   "metadata": {},
   "outputs": [],
   "source": []
  }
 ],
 "metadata": {
  "kernelspec": {
   "display_name": "variant_prio",
   "language": "python",
   "name": "python3"
  },
  "language_info": {
   "codemirror_mode": {
    "name": "ipython",
    "version": 3
   },
   "file_extension": ".py",
   "mimetype": "text/x-python",
   "name": "python",
   "nbconvert_exporter": "python",
   "pygments_lexer": "ipython3",
   "version": "3.12.2"
  }
 },
 "nbformat": 4,
 "nbformat_minor": 2
}
