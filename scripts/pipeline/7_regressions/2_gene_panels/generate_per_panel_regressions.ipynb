{
 "cells": [
  {
   "cell_type": "code",
   "execution_count": null,
   "id": "2555fde8",
   "metadata": {},
   "outputs": [],
   "source": [
    "import pandas as pd\n",
    "import numpy as np\n",
    "import seaborn as sns\n",
    "import matplotlib.pyplot as plt\n",
    "\n",
    "import statsmodels.api as sm\n",
    "import statsmodels.formula.api as smf\n",
    "\n",
    "from collections import defaultdict\n",
    "from ukbb_recessive.regression.regressions import run_regressions, save_table_for_paper, get_formula, get_target_family"
   ]
  },
  {
   "attachments": {},
   "cell_type": "markdown",
   "id": "b5deeee7",
   "metadata": {},
   "source": [
    "# Create regressions datasets"
   ]
  },
  {
   "cell_type": "code",
   "execution_count": null,
   "id": "736d7510",
   "metadata": {},
   "outputs": [],
   "source": [
    "datasets_path = '.../datasets'\n",
    "\n",
    "datasets_dict = {\n",
    "    'Cassa': pd.read_csv(f\"{datasets_path}/Cassa.csv\", sep='\\t'),\n",
    "    'pLI': pd.read_csv(f\"{datasets_path}/PLI.csv\", sep='\\t'),\n",
    "    'Weghorn': pd.read_csv(f\"{datasets_path}/Weghorn-drift.csv\", sep='\\t'),\n",
    "}\n",
    "\n",
    "for key in datasets_dict:\n",
    "    for col in datasets_dict[key].columns:\n",
    "        if (col[:5] == 's_het') and ('+' in col):\n",
    "            datasets_dict[key] = datasets_dict[key].rename(columns={col: col.replace('+', '_')})\n",
    "\n",
    "        if (col[:5] == 's_het') and ('-' in col):\n",
    "            datasets_dict[key] = datasets_dict[key].rename(columns={col: col.replace('-', '_')})"
   ]
  },
  {
   "cell_type": "code",
   "execution_count": null,
   "id": "69e8c360",
   "metadata": {},
   "outputs": [],
   "source": [
    "panels = [\n",
    "    'ID_total', 'Metabolic_ID',  'Blindness',\n",
    "    'Cilia_Kidney', 'Deafness', 'Derm', 'Endocrine',\n",
    "    'Hematologic', 'Immune_system', 'Neuromuscular',\n",
    "    'Skeletal_Craniofacial', 'Metabolic', 'Overlaps'\n",
    "]\n",
    "\n",
    "s_het_list = ['s_het_recessive_' + panel for panel in panels]\n",
    "\n",
    "print (f\"Total amount of panels: \", len(panels), flush=True)"
   ]
  },
  {
   "attachments": {},
   "cell_type": "markdown",
   "id": "93250eea",
   "metadata": {},
   "source": [
    "# Generate regressions"
   ]
  },
  {
   "cell_type": "code",
   "execution_count": null,
   "id": "7d29fb86",
   "metadata": {},
   "outputs": [],
   "source": [
    "# Every group is saved in a separate file, but the regressions are run individually\n",
    "s_het_groups = [['s_het_recessive_AR_without_ID', 's_het_recessive_ID_total'], s_het_list]\n",
    "\n",
    "targets=['childlessness', 'any_education_including_none', 'is_blond', \n",
    "         'fluid_intelligence_score','higher_education_including_none']\n",
    "\n",
    "families=['binomial', 'binomial', 'binomial', \n",
    "          'gaussian', 'binomial']\n",
    "\n",
    "genders=['all']\n",
    "\n",
    "for s_het_group in s_het_groups:\n",
    "    if not isinstance(s_het_group, list):\n",
    "        raise Exception(\"S-het should be groups!\")\n",
    "    \n",
    "    analysis_tag = f\"panel regressions on {str(s_het_group) if len(s_het_group) <=2 else 's_het_panels'}\".replace(\"'\", '')\n",
    "\n",
    "    all_results = defaultdict(list)\n",
    "\n",
    "    for s_het in s_het_group:\n",
    "\n",
    "        print (\"Processing\", s_het, flush=True)\n",
    "\n",
    "        for dataset_key in datasets_dict:\n",
    "\n",
    "            print (\"\\tProcessing\", dataset_key, flush=True)\n",
    "\n",
    "            regression_tag = f\"panel regressions on {s_het}\"\n",
    "\n",
    "            regression_result = run_regressions(dataset=datasets_dict[dataset_key], \n",
    "                                                targets=targets, \n",
    "                                                families=families, \n",
    "                                                analysis_tag=regression_tag, \n",
    "                                                genders=['all'], \n",
    "                                                s_het_list=[s_het])\n",
    "            \n",
    "            all_results[dataset_key].append(regression_result)\n",
    "\n",
    "    all_results = {k: pd.concat(v) for k,v in all_results.items()}\n",
    "\n",
    "    save_table_for_paper(all_results, f\"../../../../data/tables/table_{analysis_tag.replace(' ', '_')}.xlsx\")"
   ]
  }
 ],
 "metadata": {
  "kernelspec": {
   "display_name": "variant_prio",
   "language": "python",
   "name": "python3"
  },
  "language_info": {
   "codemirror_mode": {
    "name": "ipython",
    "version": 3
   },
   "file_extension": ".py",
   "mimetype": "text/x-python",
   "name": "python",
   "nbconvert_exporter": "python",
   "pygments_lexer": "ipython3",
   "version": "3.7.6"
  },
  "toc": {
   "base_numbering": 1,
   "nav_menu": {},
   "number_sections": true,
   "sideBar": true,
   "skip_h1_title": false,
   "title_cell": "Table of Contents",
   "title_sidebar": "Contents",
   "toc_cell": false,
   "toc_position": {},
   "toc_section_display": true,
   "toc_window_display": true
  }
 },
 "nbformat": 4,
 "nbformat_minor": 5
}
