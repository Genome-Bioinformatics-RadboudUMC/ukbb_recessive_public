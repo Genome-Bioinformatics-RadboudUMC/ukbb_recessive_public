{
 "cells": [
  {
   "cell_type": "markdown",
   "metadata": {},
   "source": [
    "This notebook contains the details about the processing part, done partly by internal pipeline, which couldn't be fully published, therefore described in words. "
   ]
  },
  {
   "cell_type": "markdown",
   "metadata": {},
   "source": [
    "# Merging the data by chromosomes"
   ]
  },
  {
   "cell_type": "code",
   "execution_count": null,
   "metadata": {},
   "outputs": [],
   "source": [
    "cd .../450k_data/"
   ]
  },
  {
   "cell_type": "code",
   "execution_count": null,
   "metadata": {},
   "outputs": [],
   "source": [
    "#Merging all the norm.part* files without headers, output stored in .../450k/RAP_output_per_chr/\n",
    "first=1\n",
    "for i in {1..22}; do for f in ./chr$i/output.chr$i.part*.norm.csv.gz; do if [ \"$first\" ]; then zcat \"$f\"; first=; else zcat \"$f\"| tail -n +2; fi; done > .../450k/RAP_output_per_chr/chr$i.all_parts.csv ; done"
   ]
  },
  {
   "cell_type": "markdown",
   "metadata": {},
   "source": [
    "# Update samples"
   ]
  },
  {
   "cell_type": "code",
   "execution_count": 1,
   "metadata": {},
   "outputs": [],
   "source": [
    "#create an updated list of identifiers (rempve most updated withdrawals)\n",
    "fgrep -vf /.../450k/samples/withdrawal_samples.txt .../450k/samples/ancestry/european_non_related_to_include.txt > .../450k/samples/european_non_related_no_withdrawal_to_include.txt"
   ]
  },
  {
   "cell_type": "code",
   "execution_count": null,
   "metadata": {},
   "outputs": [],
   "source": [
    "#create updated per-chr files with samples to include\n",
    "for i in {1..22}; do awk -v FS=\",\" 'FNR==NR{arr[$0];next} ($6 in arr)' .../450k/samples/european_non_related_no_withdrawal_to_include.txt .../450k/RAP_output_per_chr/chr$i.all_parts.csv> .../450k/RAP_output_per_chr/chr$i.all_parts_updated_samples.csv; done"
   ]
  },
  {
   "cell_type": "code",
   "execution_count": null,
   "metadata": {},
   "outputs": [],
   "source": [
    "#Extracting the header randomly from one of the files:\n",
    "zcat ./chr22/output.chr22.part0.norm.csv.gz|grep chrom > .../450k/RAP_output_per_chr/header.txt"
   ]
  },
  {
   "cell_type": "code",
   "execution_count": null,
   "metadata": {},
   "outputs": [],
   "source": [
    "#Adding header to the individual merged files per chromosome:\n",
    "for i in {1..22}; do cat .../450k/RAP_output_per_chr/header.txt  .../450k/RAP_output_per_chr/chr$i.all_parts_updated_samples.csv > .../450k/RAP_output_per_chr/chr$i.all_parts_final.csv; done"
   ]
  },
  {
   "cell_type": "code",
   "execution_count": null,
   "metadata": {},
   "outputs": [],
   "source": [
    "#Removing un-needed files:\n",
    "rm -f .../450k/RAP_output_per_chr/*all_parts.csv\n",
    "rm -f .../450k/RAP_output_per_chr/*all_parts_updated_samples.csv"
   ]
  },
  {
   "cell_type": "markdown",
   "metadata": {},
   "source": [
    "# Annotation"
   ]
  },
  {
   "cell_type": "markdown",
   "metadata": {},
   "source": [
    "Annotation runs for each chromosome separately, adds necessary information for PLPs selection."
   ]
  },
  {
   "cell_type": "markdown",
   "metadata": {},
   "source": [
    "# PLPs selection"
   ]
  },
  {
   "cell_type": "markdown",
   "metadata": {},
   "source": [
    "PLPs selection runs for each chromosome separately, as described in the paper. \n",
    "\n",
    "Saves them as `.../450k/plp_selection/basic/new_gene_names/new_freq/all_chr_total_presumable_plps_HFE_final_sorted.txt`."
   ]
  },
  {
   "cell_type": "markdown",
   "id": "fc59bee7",
   "metadata": {},
   "source": []
  }
 ],
 "metadata": {
  "kernelspec": {
   "display_name": "Python 3",
   "language": "python",
   "name": "python3"
  },
  "language_info": {
   "codemirror_mode": {
    "name": "ipython",
    "version": 3
   },
   "file_extension": ".py",
   "mimetype": "text/x-python",
   "name": "python",
   "nbconvert_exporter": "python",
   "pygments_lexer": "ipython3",
   "version": "3.7.6"
  },
  "toc": {
   "base_numbering": 1,
   "nav_menu": {},
   "number_sections": true,
   "sideBar": true,
   "skip_h1_title": false,
   "title_cell": "Table of Contents",
   "title_sidebar": "Contents",
   "toc_cell": false,
   "toc_position": {},
   "toc_section_display": true,
   "toc_window_display": false
  }
 },
 "nbformat": 4,
 "nbformat_minor": 5
}
